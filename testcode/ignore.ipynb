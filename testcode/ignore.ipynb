{
 "cells": [
  {
   "cell_type": "code",
   "execution_count": 1,
   "id": "48946636",
   "metadata": {},
   "outputs": [
    {
     "name": "stdout",
     "output_type": "stream",
     "text": [
      "\n",
      "📦 Git 이력 내 5MB 이상 파일 탐색 중...\n",
      "\n"
     ]
    },
    {
     "ename": "CalledProcessError",
     "evalue": "Command '['git', 'rev-list', '--objects', '--all']' returned non-zero exit status 128.",
     "output_type": "error",
     "traceback": [
      "\u001b[31m---------------------------------------------------------------------------\u001b[39m",
      "\u001b[31mCalledProcessError\u001b[39m                        Traceback (most recent call last)",
      "\u001b[36mCell\u001b[39m\u001b[36m \u001b[39m\u001b[32mIn[1]\u001b[39m\u001b[32m, line 52\u001b[39m\n\u001b[32m     49\u001b[39m     \u001b[38;5;28mprint\u001b[39m(\u001b[33m\"\u001b[39m\u001b[38;5;130;01m\\n\u001b[39;00m\u001b[33m✅ 완료!\u001b[39m\u001b[33m\"\u001b[39m)\n\u001b[32m     51\u001b[39m \u001b[38;5;28;01mif\u001b[39;00m \u001b[34m__name__\u001b[39m == \u001b[33m\"\u001b[39m\u001b[33m__main__\u001b[39m\u001b[33m\"\u001b[39m:\n\u001b[32m---> \u001b[39m\u001b[32m52\u001b[39m     files = \u001b[43mget_large_git_files\u001b[49m\u001b[43m(\u001b[49m\u001b[43m)\u001b[49m\n\u001b[32m     53\u001b[39m     \u001b[38;5;28;01mif\u001b[39;00m \u001b[38;5;129;01mnot\u001b[39;00m files:\n\u001b[32m     54\u001b[39m         \u001b[38;5;28mprint\u001b[39m(\u001b[33m\"\u001b[39m\u001b[33m❌ 큰 파일이 Git 이력에 없습니다.\u001b[39m\u001b[33m\"\u001b[39m)\n",
      "\u001b[36mCell\u001b[39m\u001b[36m \u001b[39m\u001b[32mIn[1]\u001b[39m\u001b[32m, line 15\u001b[39m, in \u001b[36mget_large_git_files\u001b[39m\u001b[34m()\u001b[39m\n\u001b[32m     11\u001b[39m \u001b[38;5;66;03m# 모든 blob 목록 추출\u001b[39;00m\n\u001b[32m     12\u001b[39m cmd_list = [\n\u001b[32m     13\u001b[39m     \u001b[33m\"\u001b[39m\u001b[33mgit\u001b[39m\u001b[33m\"\u001b[39m, \u001b[33m\"\u001b[39m\u001b[33mrev-list\u001b[39m\u001b[33m\"\u001b[39m, \u001b[33m\"\u001b[39m\u001b[33m--objects\u001b[39m\u001b[33m\"\u001b[39m, \u001b[33m\"\u001b[39m\u001b[33m--all\u001b[39m\u001b[33m\"\u001b[39m\n\u001b[32m     14\u001b[39m ]\n\u001b[32m---> \u001b[39m\u001b[32m15\u001b[39m rev_objects = \u001b[43msubprocess\u001b[49m\u001b[43m.\u001b[49m\u001b[43mcheck_output\u001b[49m\u001b[43m(\u001b[49m\u001b[43mcmd_list\u001b[49m\u001b[43m)\u001b[49m.decode(\u001b[33m\"\u001b[39m\u001b[33mutf-8\u001b[39m\u001b[33m\"\u001b[39m).splitlines()\n\u001b[32m     17\u001b[39m cmd_batch = [\n\u001b[32m     18\u001b[39m     \u001b[33m\"\u001b[39m\u001b[33mgit\u001b[39m\u001b[33m\"\u001b[39m, \u001b[33m\"\u001b[39m\u001b[33mcat-file\u001b[39m\u001b[33m\"\u001b[39m, \u001b[33m\"\u001b[39m\u001b[33m--batch-check=\u001b[39m\u001b[38;5;132;01m%(objecttype) %\u001b[39;00m\u001b[33m(objectname) \u001b[39m\u001b[38;5;132;01m%(objectsize) %\u001b[39;00m\u001b[33m(rest)\u001b[39m\u001b[33m\"\u001b[39m\n\u001b[32m     19\u001b[39m ]\n\u001b[32m     20\u001b[39m batch_proc = subprocess.Popen(cmd_batch, stdin=subprocess.PIPE, stdout=subprocess.PIPE)\n",
      "\u001b[36mFile \u001b[39m\u001b[32mc:\\Users\\Playdata\\AppData\\Local\\miniconda3\\envs\\dl\\Lib\\subprocess.py:466\u001b[39m, in \u001b[36mcheck_output\u001b[39m\u001b[34m(timeout, *popenargs, **kwargs)\u001b[39m\n\u001b[32m    463\u001b[39m         empty = \u001b[33mb\u001b[39m\u001b[33m'\u001b[39m\u001b[33m'\u001b[39m\n\u001b[32m    464\u001b[39m     kwargs[\u001b[33m'\u001b[39m\u001b[33minput\u001b[39m\u001b[33m'\u001b[39m] = empty\n\u001b[32m--> \u001b[39m\u001b[32m466\u001b[39m \u001b[38;5;28;01mreturn\u001b[39;00m \u001b[43mrun\u001b[49m\u001b[43m(\u001b[49m\u001b[43m*\u001b[49m\u001b[43mpopenargs\u001b[49m\u001b[43m,\u001b[49m\u001b[43m \u001b[49m\u001b[43mstdout\u001b[49m\u001b[43m=\u001b[49m\u001b[43mPIPE\u001b[49m\u001b[43m,\u001b[49m\u001b[43m \u001b[49m\u001b[43mtimeout\u001b[49m\u001b[43m=\u001b[49m\u001b[43mtimeout\u001b[49m\u001b[43m,\u001b[49m\u001b[43m \u001b[49m\u001b[43mcheck\u001b[49m\u001b[43m=\u001b[49m\u001b[38;5;28;43;01mTrue\u001b[39;49;00m\u001b[43m,\u001b[49m\n\u001b[32m    467\u001b[39m \u001b[43m           \u001b[49m\u001b[43m*\u001b[49m\u001b[43m*\u001b[49m\u001b[43mkwargs\u001b[49m\u001b[43m)\u001b[49m.stdout\n",
      "\u001b[36mFile \u001b[39m\u001b[32mc:\\Users\\Playdata\\AppData\\Local\\miniconda3\\envs\\dl\\Lib\\subprocess.py:571\u001b[39m, in \u001b[36mrun\u001b[39m\u001b[34m(input, capture_output, timeout, check, *popenargs, **kwargs)\u001b[39m\n\u001b[32m    569\u001b[39m     retcode = process.poll()\n\u001b[32m    570\u001b[39m     \u001b[38;5;28;01mif\u001b[39;00m check \u001b[38;5;129;01mand\u001b[39;00m retcode:\n\u001b[32m--> \u001b[39m\u001b[32m571\u001b[39m         \u001b[38;5;28;01mraise\u001b[39;00m CalledProcessError(retcode, process.args,\n\u001b[32m    572\u001b[39m                                  output=stdout, stderr=stderr)\n\u001b[32m    573\u001b[39m \u001b[38;5;28;01mreturn\u001b[39;00m CompletedProcess(process.args, retcode, stdout, stderr)\n",
      "\u001b[31mCalledProcessError\u001b[39m: Command '['git', 'rev-list', '--objects', '--all']' returned non-zero exit status 128."
     ]
    }
   ],
   "source": [
    "import subprocess\n",
    "import os\n",
    "\n",
    "# 설정\n",
    "SIZE_THRESHOLD_MB = 5  # 5MB 이상\n",
    "SHOW_TOP_N = 20\n",
    "\n",
    "def get_large_git_files():\n",
    "    print(f\"\\n📦 Git 이력 내 {SIZE_THRESHOLD_MB}MB 이상 파일 탐색 중...\\n\")\n",
    "\n",
    "    # 모든 blob 목록 추출\n",
    "    cmd_list = [\n",
    "        \"git\", \"rev-list\", \"--objects\", \"--all\"\n",
    "    ]\n",
    "    rev_objects = subprocess.check_output(cmd_list).decode(\"utf-8\").splitlines()\n",
    "\n",
    "    cmd_batch = [\n",
    "        \"git\", \"cat-file\", \"--batch-check=%(objecttype) %(objectname) %(objectsize) %(rest)\"\n",
    "    ]\n",
    "    batch_proc = subprocess.Popen(cmd_batch, stdin=subprocess.PIPE, stdout=subprocess.PIPE)\n",
    "    input_data = \"\\n\".join(line.split()[0] for line in rev_objects if line).encode(\"utf-8\")\n",
    "    stdout, _ = batch_proc.communicate(input=input_data)\n",
    "\n",
    "    big_files = []\n",
    "    for line in stdout.decode(\"utf-8\").splitlines():\n",
    "        if line.startswith(\"blob\"):\n",
    "            parts = line.split()\n",
    "            size = int(parts[2])\n",
    "            path = \" \".join(parts[3:])\n",
    "            if size >= SIZE_THRESHOLD_MB * 1024 * 1024:\n",
    "                big_files.append((size, path))\n",
    "\n",
    "    # 정렬 및 출력\n",
    "    big_files.sort(reverse=True)\n",
    "    print(f\"{'Size (MB)':>10}  File path\")\n",
    "    print(\"=\" * 60)\n",
    "    for size, path in big_files[:SHOW_TOP_N]:\n",
    "        print(f\"{size / (1024 * 1024):10.2f}  {path}\")\n",
    "\n",
    "    return [path for _, path in big_files]\n",
    "\n",
    "\n",
    "def append_to_gitignore(files):\n",
    "    print(\"\\n✏️  `.gitignore`에 추가합니다...\\n\")\n",
    "    with open(\".gitignore\", \"a\") as f:\n",
    "        for file in files:\n",
    "            f.write(f\"\\n{file}\")\n",
    "            print(f\"➕ {file}\")\n",
    "    print(\"\\n✅ 완료!\")\n",
    "\n",
    "if __name__ == \"__main__\":\n",
    "    files = get_large_git_files()\n",
    "    if not files:\n",
    "        print(\"❌ 큰 파일이 Git 이력에 없습니다.\")\n",
    "    else:\n",
    "        add = input(\"\\n👉 이 파일들을 `.gitignore`에 추가할까요? (y/n): \")\n",
    "        if add.strip().lower() == \"y\":\n",
    "            append_to_gitignore(files)\n"
   ]
  }
 ],
 "metadata": {
  "kernelspec": {
   "display_name": "dl",
   "language": "python",
   "name": "python3"
  },
  "language_info": {
   "codemirror_mode": {
    "name": "ipython",
    "version": 3
   },
   "file_extension": ".py",
   "mimetype": "text/x-python",
   "name": "python",
   "nbconvert_exporter": "python",
   "pygments_lexer": "ipython3",
   "version": "3.12.10"
  }
 },
 "nbformat": 4,
 "nbformat_minor": 5
}
