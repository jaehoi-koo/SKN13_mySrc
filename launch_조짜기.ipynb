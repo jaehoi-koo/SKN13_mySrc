{
 "cells": [
  {
   "cell_type": "code",
   "execution_count": 2,
   "id": "0964d942",
   "metadata": {},
   "outputs": [
    {
     "name": "stdout",
     "output_type": "stream",
     "text": [
      "30\n"
     ]
    }
   ],
   "source": [
    "import random\n",
    "stu_list = [\n",
    "    \"강지윤\",\n",
    "    \"고범석\",\n",
    "    \"구자현\",\n",
    "    \"구재회\",\n",
    "    \"기원준\",\n",
    "    \"김승호\",\n",
    "    \"김지민\",\n",
    "    \"남궁건우\",\n",
    "    \"모지호\",\n",
    "    \"문소희\",\n",
    "    \"민경재\",\n",
    "    \"박수빈\",\n",
    "    \"박현아\",\n",
    "    \"변성일\",\n",
    "    \"안수민\",\n",
    "    \"우민규\",\n",
    "    \"우지훈\",\n",
    "    \"이명인\",\n",
    "    \"이석민\",\n",
    "    \"이유나\",\n",
    "    \"이재범\",\n",
    "    \"장시인\",\n",
    "    \"장진슬\",\n",
    "    \"전진혁\",\n",
    "    \"정호엽\",\n",
    "    \"지형우\",\n",
    "    \"최성장\",\n",
    "    \"최호연\",\n",
    "    \"홍성의\",\n",
    "    \"홍채우\",\n",
    "]\n",
    "print(len(stu_list))"
   ]
  },
  {
   "cell_type": "code",
   "execution_count": 8,
   "id": "c2f7aa39-a52c-427f-88c6-a254df8e1dfd",
   "metadata": {},
   "outputs": [
    {
     "data": {
      "text/plain": [
       "[(1, '강지윤'),\n",
       " (2, '고범석'),\n",
       " (3, '구자현'),\n",
       " (4, '구재회'),\n",
       " (5, '기원준'),\n",
       " (6, '김승호'),\n",
       " (7, '김지민'),\n",
       " (8, '남궁건우'),\n",
       " (9, '모지호'),\n",
       " (10, '문소희'),\n",
       " (11, '민경재'),\n",
       " (12, '박수빈'),\n",
       " (13, '박현아'),\n",
       " (14, '변성일'),\n",
       " (15, '안수민'),\n",
       " (16, '우민규'),\n",
       " (17, '우지훈'),\n",
       " (18, '이명인'),\n",
       " (19, '이석민'),\n",
       " (20, '이유나'),\n",
       " (21, '이재범'),\n",
       " (22, '장시인'),\n",
       " (23, '장진슬'),\n",
       " (24, '전진혁'),\n",
       " (25, '정호엽'),\n",
       " (26, '지형우'),\n",
       " (27, '최성장'),\n",
       " (28, '최호연'),\n",
       " (29, '홍성의'),\n",
       " (30, '홍채우')]"
      ]
     },
     "execution_count": 8,
     "metadata": {},
     "output_type": "execute_result"
    }
   ],
   "source": [
    "# num_stu = [(f'{index}번', value) for index, value in enumerate(stu_list, start=1)]\n",
    "num_stu = [(index , value) for index, value in enumerate(stu_list, start=1)]\n",
    "# num_stu\n",
    "# for index, value in enumerate(num_stu, start=1):\n",
    "#     print(f'{index}번', value)\n",
    "\n",
    "num_stu"
   ]
  },
  {
   "cell_type": "code",
   "execution_count": 25,
   "id": "f2ecae54-6377-4ee9-8269-3bdef3cc90b0",
   "metadata": {},
   "outputs": [],
   "source": [
    "class Student:\n",
    "    def __init__(self, stu_id, name, age=None, major=None, mbti=None, hobbit=None, address=None):\n",
    "        self.stu_id = stu_id\n",
    "        self.name = name\n",
    "        self.age = age\n",
    "        self.major = major\n",
    "        self.mbti = mbti\n",
    "        self.hobbit = hobbit\n",
    "        self.address = address\n",
    "        \n",
    "    def add_age(self,age):\n",
    "        #1과 100사이의 값 이외는 예외처리\n",
    "        if age <= 1 or age >= 100:\n",
    "            raise AgeError(age)\n",
    "        self.age = age\n",
    " \n",
    "class AgeError(Exception):\n",
    "    def __init__(self, age):\n",
    "        pass"
   ]
  },
  {
   "cell_type": "code",
   "execution_count": 33,
   "id": "090a62fd-3f94-4906-8dfb-163c90f7b4a0",
   "metadata": {},
   "outputs": [
    {
     "data": {
      "text/plain": [
       "'구재회'"
      ]
     },
     "execution_count": 33,
     "metadata": {},
     "output_type": "execute_result"
    }
   ],
   "source": [
    "#리스트에서 이름으로 해당 객체 불러오기\n",
    "def find_student_by_name(students, target_name):\n",
    "    for student in students:\n",
    "        if student.name == target_name:\n",
    "            return student\n",
    "\n",
    "a = find_student_by_name(students,\"구재회\")\n",
    "a"
   ]
  },
  {
   "cell_type": "code",
   "execution_count": 21,
   "id": "6e56b0c5-22f7-41aa-9642-c8190d3072cc",
   "metadata": {},
   "outputs": [
    {
     "data": {
      "text/plain": [
       "[<__main__.Student at 0x1cb529c9b80>,\n",
       " <__main__.Student at 0x1cb529ca1e0>,\n",
       " <__main__.Student at 0x1cb54322cc0>,\n",
       " <__main__.Student at 0x1cb54320650>,\n",
       " <__main__.Student at 0x1cb54321a90>,\n",
       " <__main__.Student at 0x1cb54322780>,\n",
       " <__main__.Student at 0x1cb54320890>,\n",
       " <__main__.Student at 0x1cb54320410>,\n",
       " <__main__.Student at 0x1cb54320530>,\n",
       " <__main__.Student at 0x1cb54320290>,\n",
       " <__main__.Student at 0x1cb54322120>,\n",
       " <__main__.Student at 0x1cb54322180>,\n",
       " <__main__.Student at 0x1cb54320080>,\n",
       " <__main__.Student at 0x1cb543237a0>,\n",
       " <__main__.Student at 0x1cb543236e0>,\n",
       " <__main__.Student at 0x1cb543206b0>,\n",
       " <__main__.Student at 0x1cb543207d0>,\n",
       " <__main__.Student at 0x1cb543207a0>,\n",
       " <__main__.Student at 0x1cb543209b0>,\n",
       " <__main__.Student at 0x1cb54322480>,\n",
       " <__main__.Student at 0x1cb54322c60>,\n",
       " <__main__.Student at 0x1cb54322510>,\n",
       " <__main__.Student at 0x1cb54322b10>,\n",
       " <__main__.Student at 0x1cb54322570>,\n",
       " <__main__.Student at 0x1cb54322870>,\n",
       " <__main__.Student at 0x1cb54322690>,\n",
       " <__main__.Student at 0x1cb54322360>,\n",
       " <__main__.Student at 0x1cb54322660>,\n",
       " <__main__.Student at 0x1cb54322390>,\n",
       " <__main__.Student at 0x1cb54321460>]"
      ]
     },
     "execution_count": 21,
     "metadata": {},
     "output_type": "execute_result"
    }
   ],
   "source": [
    "#Student 객체를 list이용해서 생성하여 list로 반환\n",
    "students = []\n",
    "for stu_id, name in num_stu:\n",
    "    students.append(Student(stu_id,name))\n",
    "\n",
    "students"
   ]
  },
  {
   "cell_type": "code",
   "execution_count": 18,
   "id": "f99c8970-5f94-4136-80af-6343177242fb",
   "metadata": {},
   "outputs": [
    {
     "name": "stdout",
     "output_type": "stream",
     "text": [
      "1 강지윤\n",
      "2 고범석\n",
      "3 구자현\n",
      "4 구재회\n",
      "5 기원준\n",
      "6 김승호\n",
      "7 김지민\n",
      "8 남궁건우\n",
      "9 모지호\n",
      "10 문소희\n",
      "11 민경재\n",
      "12 박수빈\n",
      "13 박현아\n",
      "14 변성일\n",
      "15 안수민\n",
      "16 우민규\n",
      "17 우지훈\n",
      "18 이명인\n",
      "19 이석민\n",
      "20 이유나\n",
      "21 이재범\n",
      "22 장시인\n",
      "23 장진슬\n",
      "24 전진혁\n",
      "25 정호엽\n",
      "26 지형우\n",
      "27 최성장\n",
      "28 최호연\n",
      "29 홍성의\n",
      "30 홍채우\n"
     ]
    }
   ],
   "source": [
    "#대상 인자가 하나면 tuple을 반환 인자가 2개일 경우 tuple안에 각각 객체를 반환\n",
    "for v, v1 in num_stu:\n",
    "    print(v, v1)\n",
    "    "
   ]
  },
  {
   "cell_type": "code",
   "execution_count": 44,
   "id": "2fe86ac8-ddd7-427b-b566-d2b0b0c2da68",
   "metadata": {},
   "outputs": [
    {
     "name": "stdout",
     "output_type": "stream",
     "text": [
      "11\n",
      "12\n",
      "13\n",
      "14\n"
     ]
    }
   ],
   "source": [
    "for _ in l1:\n",
    "    n1 += 1\n",
    "    print(n1)"
   ]
  },
  {
   "cell_type": "code",
   "execution_count": 35,
   "id": "3847493d",
   "metadata": {},
   "outputs": [
    {
     "name": "stdout",
     "output_type": "stream",
     "text": [
      "[['전진혁', '민경재', '이유나', '이명인', '김승호'], ['김지민', '강지윤', '변성일', '장진슬', '최호연'], ['박현아', '문소희', '지형우', '이석민', '장시인'], ['최성장', '고범석', '구자현', '박수빈', '이재범'], ['구재회', '기원준', '정호엽', '홍성의', '우지훈'], ['홍채우', '모지호', '남궁건우', '안수민', '우민규']]\n"
     ]
    }
   ],
   "source": [
    "num = 5\n",
    "random.shuffle(stu_list)\n",
    "# print(range((len(stu_list) + num - 1) // num ))\n",
    "# print(stu_list[i * num : (i + 1) * num])\n",
    "result = [\n",
    "    stu_list[i * num : (i + 1) * num] for i in range((len(stu_list) + num - 1) // num )\n",
    "]\n",
    "\n",
    "# for i in range(2):\n",
    "#     print(i)"
   ]
  },
  {
   "cell_type": "code",
   "execution_count": 31,
   "id": "0523bf22",
   "metadata": {},
   "outputs": [
    {
     "name": "stdout",
     "output_type": "stream",
     "text": [
      "1조: 정호엽,  변성일,  김승호,  우지훈,  모지호,  \n",
      "2조: 남궁건우,  문소희,  장시인,  박수빈,  이명인,  \n",
      "3조: 안수민,  홍성의,  구자현,  강지윤,  민경재,  \n",
      "4조: 지형우,  최성장,  김지민,  우민규,  홍채우,  \n",
      "5조: 구재회,  고범석,  최호연,  fake1,  전진혁,  \n",
      "6조: 이석민,  fake2,  이재범,  박현아,  이유나,  \n"
     ]
    }
   ],
   "source": [
    "for idx, r in enumerate(result, start=1):\n",
    "    print(f\"{idx}조: \", end=\"\")\n",
    "    for name in r:\n",
    "        print(name, end=',  ')\n",
    "    print()"
   ]
  },
  {
   "cell_type": "code",
   "execution_count": null,
   "id": "4d8f6cd5",
   "metadata": {},
   "outputs": [],
   "source": []
  }
 ],
 "metadata": {
  "kernelspec": {
   "display_name": "Python 3 (ipykernel)",
   "language": "python",
   "name": "python3"
  },
  "language_info": {
   "codemirror_mode": {
    "name": "ipython",
    "version": 3
   },
   "file_extension": ".py",
   "mimetype": "text/x-python",
   "name": "python",
   "nbconvert_exporter": "python",
   "pygments_lexer": "ipython3",
   "version": "3.12.9"
  }
 },
 "nbformat": 4,
 "nbformat_minor": 5
}
