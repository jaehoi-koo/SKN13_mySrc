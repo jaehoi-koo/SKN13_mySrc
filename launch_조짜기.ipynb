{
 "cells": [
  {
   "cell_type": "code",
   "execution_count": 32,
   "id": "0964d942",
   "metadata": {},
   "outputs": [
    {
     "name": "stdout",
     "output_type": "stream",
     "text": [
      "30\n"
     ]
    }
   ],
   "source": [
    "import random\n",
    "stu_list = [\n",
    "    \"강지윤\",\n",
    "    \"고범석\",\n",
    "    \"구자현\",\n",
    "    \"구재회\",\n",
    "    \"기원준\",\n",
    "    \"김승호\",\n",
    "    \"김지민\",\n",
    "    \"남궁건우\",\n",
    "    \"모지호\",\n",
    "    \"문소희\",\n",
    "    \"민경재\",\n",
    "    \"박수빈\",\n",
    "    \"박현아\",\n",
    "    \"변성일\",\n",
    "    \"안수민\",\n",
    "    \"우민규\",\n",
    "    \"우지훈\",\n",
    "    \"이명인\",\n",
    "    \"이석민\",\n",
    "    \"이유나\",\n",
    "    \"이재범\",\n",
    "    \"장시인\",\n",
    "    \"장진슬\",\n",
    "    \"전진혁\",\n",
    "    \"정호엽\",\n",
    "    \"지형우\",\n",
    "    \"최성장\",\n",
    "    \"최호연\",\n",
    "    \"홍성의\",\n",
    "    \"홍채우\",\n",
    "    # \"fake1\",\n",
    "    # \"fake2\"\n",
    "]\n",
    "print(len(stu_list))"
   ]
  },
  {
   "cell_type": "code",
   "execution_count": 35,
   "id": "3847493d",
   "metadata": {},
   "outputs": [
    {
     "name": "stdout",
     "output_type": "stream",
     "text": [
      "[['전진혁', '민경재', '이유나', '이명인', '김승호'], ['김지민', '강지윤', '변성일', '장진슬', '최호연'], ['박현아', '문소희', '지형우', '이석민', '장시인'], ['최성장', '고범석', '구자현', '박수빈', '이재범'], ['구재회', '기원준', '정호엽', '홍성의', '우지훈'], ['홍채우', '모지호', '남궁건우', '안수민', '우민규']]\n"
     ]
    }
   ],
   "source": [
    "num = 5\n",
    "random.shuffle(stu_list)\n",
    "# print(range((len(stu_list) + num - 1) // num ))\n",
    "# print(stu_list[i * num : (i + 1) * num])\n",
    "# result = [\n",
    "#     stu_list[i * num : (i + 1) * num] for i in range((len(stu_list) + num - 1) // num )\n",
    "# ]\n",
    "result = [\n",
    "    stu_list[i * num : (i + 1) * num] for i in range(6)\n",
    "]\n",
    "print(result)\n",
    "# for i in range(2):\n",
    "#     print(i)"
   ]
  },
  {
   "cell_type": "code",
   "execution_count": 31,
   "id": "0523bf22",
   "metadata": {},
   "outputs": [
    {
     "name": "stdout",
     "output_type": "stream",
     "text": [
      "1조: 정호엽,  변성일,  김승호,  우지훈,  모지호,  \n",
      "2조: 남궁건우,  문소희,  장시인,  박수빈,  이명인,  \n",
      "3조: 안수민,  홍성의,  구자현,  강지윤,  민경재,  \n",
      "4조: 지형우,  최성장,  김지민,  우민규,  홍채우,  \n",
      "5조: 구재회,  고범석,  최호연,  fake1,  전진혁,  \n",
      "6조: 이석민,  fake2,  이재범,  박현아,  이유나,  \n"
     ]
    }
   ],
   "source": [
    "for idx, r in enumerate(result, start=1):\n",
    "    print(f\"{idx}조: \", end=\"\")\n",
    "    for name in r:\n",
    "        print(name, end=',  ')\n",
    "    print()"
   ]
  },
  {
   "cell_type": "code",
   "execution_count": null,
   "id": "4d8f6cd5",
   "metadata": {},
   "outputs": [],
   "source": []
  },
  {
   "cell_type": "code",
   "execution_count": null,
   "id": "c600a080",
   "metadata": {},
   "outputs": [],
   "source": []
  },
  {
   "cell_type": "code",
   "execution_count": null,
   "id": "3196c497",
   "metadata": {},
   "outputs": [],
   "source": []
  },
  {
   "cell_type": "code",
   "execution_count": null,
   "id": "c514073e",
   "metadata": {},
   "outputs": [],
   "source": []
  }
 ],
 "metadata": {
  "kernelspec": {
   "display_name": "Python 3 (ipykernel)",
   "language": "python",
   "name": "python3"
  },
  "language_info": {
   "codemirror_mode": {
    "name": "ipython",
    "version": 3
   },
   "file_extension": ".py",
   "mimetype": "text/x-python",
   "name": "python",
   "nbconvert_exporter": "python",
   "pygments_lexer": "ipython3",
   "version": "3.12.9"
  }
 },
 "nbformat": 4,
 "nbformat_minor": 5
}
