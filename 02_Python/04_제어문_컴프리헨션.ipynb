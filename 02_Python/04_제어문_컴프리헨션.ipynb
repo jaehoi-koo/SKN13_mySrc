{
 "cells": [
  {
   "cell_type": "markdown",
   "id": "c83ee01c-94b8-41ce-928f-20440161bc64",
   "metadata": {
    "slideshow": {
     "slide_type": "slide"
    }
   },
   "source": [
    "# 제어문(Control flow statement)\n",
    "\n",
    "기본적으로 프로그램은 순차구조를 가진다. 즉 작성한 순서대로 실행이 된다.  \n",
    "이런 실행흐름을 다른 순서로 제어하기 위한 구문을 만드는 문법이 제어문이다.  \n",
    "제어문은 **조건문** 과 **반복문** 두가지 문법이 있다.\n",
    "\n",
    "-   **조건문**\n",
    "    -   if 문\n",
    "-   **반복문**\n",
    "    -   while 문\n",
    "    -   for in 문\n"
   ]
  },
  {
   "cell_type": "markdown",
   "id": "92c502ce",
   "metadata": {
    "slideshow": {
     "slide_type": "slide"
    }
   },
   "source": [
    "# 조건문/분기문 (conditional statement)\n",
    "\n",
    "-   프로그램이 명령문들을 실행하는 도중 특정 순서에서 **조건에 따라 흐름의 나눠져야 하는 경우 사용한다**\n",
    "-   파이썬은 조건문으로 **if문**이 있다.\n",
    "\n",
    "![조건문](images/ch03_01.png)\n",
    "\n",
    "<center>입력 받은 a 의 값이 0인지 여부에 따라 두가지 흐름으로 분기된다.</center>\n"
   ]
  },
  {
   "cell_type": "markdown",
   "id": "2a3c1835",
   "metadata": {
    "slideshow": {
     "slide_type": "subslide"
    }
   },
   "source": [
    "## 구문\n",
    "\n",
    "-   조건이 True일 경우만 특정 구문들을 실행 하는 조건문.\n",
    "\n",
    "```python\n",
    "if 조건:    # 조건은 bool 표현식을 기술한다. 조건선언 다음에 : 으로 선언해서 코드블록을 구분한다.\n",
    "    명령문1  # 조건이 True이면 실행할 구문들을 코드블럭에 기술한다.\n",
    "    명령문2  # 코드 블록은 들여쓰기를 이용해 묶어준다. 보통 공백 4칸으로 들여쓰기를 한다.\n",
    "    ...\n",
    "```\n",
    "\n",
    "> ### 파이썬의 코드블록(code block)\n",
    ">\n",
    "> 코드블록이란 **여러 명령문들을 묶어놓은 것을** 말한다. 코드블록으로 묶이면 실행시 같이 다 실행되고 실행이 안되면 같이 다 실행이 안된다.  \n",
    "> 파이썬에서는 코드블록을 작성할 때 **들여쓰기를 이용해 묶어준다.**  \n",
    "> 같은 칸만큼 들여쓰기를 한 명령문들이 같은 블록으로 묶인다.\n",
    "> 들여쓰기는 관례적으로 **공백 4칸을** 사용한다.\n",
    "\n",
    "> ### pass 키워드(예약어)\n",
    ">\n",
    "> -   빈 구현부를 만들때 사용\n",
    ">     -   제어문, 함수의 body 코드블럭은 비울 수 없다. 반드시 명령문을 한개 이상 작성해야한다.\n",
    ">     -   작성할 내용이 없을 경우 사용하는 키워드로 `pass`를 사용한다.\n"
   ]
  },
  {
   "cell_type": "code",
   "execution_count": 29,
   "id": "9aa311a5",
   "metadata": {
    "slideshow": {
     "slide_type": "fragment"
    }
   },
   "outputs": [
    {
     "name": "stdout",
     "output_type": "stream",
     "text": [
      "dd\n"
     ]
    }
   ],
   "source": [
    "if True: #같은 code block끼리는 indentation이 맞지 않으면 error\n",
    "      print(\"dd\")"
   ]
  },
  {
   "cell_type": "code",
   "execution_count": 55,
   "id": "6d009488-30d2-463d-965e-62791248c0c9",
   "metadata": {},
   "outputs": [
    {
     "name": "stdin",
     "output_type": "stream",
     "text": [
      ">>> 정수 :  1\n"
     ]
    },
    {
     "name": "stdout",
     "output_type": "stream",
     "text": [
      "입력값 1은 0이 아님\n",
      "종료\n"
     ]
    }
   ],
   "source": [
    "num = int(input(\">>> 정수 : \"))\n",
    "if num == 0 : #선언부\n",
    "    print(f\"입력값 {num}은 0이 맞음\")\n",
    "else:\n",
    "    print(f\"입력값 {num}은 0이 아님\") #if code block과는 다르므로 error가 아님\n",
    "     #print(\"에러테스트\")\n",
    "    \n",
    "print('종료') #indentation을 안함으로 block이 구별됨"
   ]
  },
  {
   "cell_type": "markdown",
   "id": "09c79c35",
   "metadata": {
    "slideshow": {
     "slide_type": "subslide"
    }
   },
   "source": [
    "-   **조건이 True일 때 False일때 실행 구문이 분기되는 조건문.**\n",
    "\n",
    "```python\n",
    "if 조건:\n",
    "    명령문1_1 # 조건이 True일 경우 실행할 구문들\n",
    "    명령문1_2\n",
    "    ...\n",
    "else:\n",
    "    명령문2_1 # 조건이 False일 경우 실행할 구문들\n",
    "    명령문2_2\n",
    "    ...\n",
    "```\n"
   ]
  },
  {
   "cell_type": "code",
   "execution_count": 14,
   "id": "87b51956",
   "metadata": {
    "slideshow": {
     "slide_type": "fragment"
    }
   },
   "outputs": [
    {
     "name": "stdout",
     "output_type": "stream",
     "text": [
      "영아님\n"
     ]
    }
   ],
   "source": [
    "num = 1\n",
    "if num == 0:print(num)#처리 block이 1line일 경우 이렇게\n",
    "else:print(\"영아님\")"
   ]
  },
  {
   "cell_type": "markdown",
   "id": "621eae9a",
   "metadata": {
    "slideshow": {
     "slide_type": "subslide"
    }
   },
   "source": [
    "-   **조건이 여러 개인 조건문.**\n",
    "\n",
    "```python\n",
    "if 조건1:\n",
    "    명령문1_1  # 조건1이 True일 경우 실행할 코드블록.\n",
    "    명령문1_2\n",
    "    ...\n",
    "elif 조건2:    # 다음 조건으로 앞의 조건들이 모드 False일 경우 비교한다.\n",
    "    명령문2_1  # 조건2가 True일 경우 실행할 코드블록.\n",
    "    명령문2_2\n",
    "    ...\n",
    "elif 조건3 :\n",
    "    명령문3_1\n",
    "    명령문3_2\n",
    "    ...\n",
    "else:         # 위의 모든 조건이 False일 경우 실행하는 코드블록. 생략 가능하다.\n",
    "    명령문4\n",
    "```\n"
   ]
  },
  {
   "cell_type": "code",
   "execution_count": 52,
   "id": "4c6a532d",
   "metadata": {
    "slideshow": {
     "slide_type": "fragment"
    }
   },
   "outputs": [
    {
     "name": "stdin",
     "output_type": "stream",
     "text": [
      "입력 정수 >>> :  2\n"
     ]
    },
    {
     "name": "stdout",
     "output_type": "stream",
     "text": [
      "2은 0보다 크다\n"
     ]
    }
   ],
   "source": [
    "num = int(input(\"입력 정수 >>> : \"))\n",
    "if num > 0 :\n",
    "    print(f\"{num}은 0보다 크다\")\n",
    "elif num < 0 : \n",
    "    print(f\"{num}은 0보다 작다\")\n",
    "elif num == 0 :\n",
    "    print(f\"{num}은 0이다\")"
   ]
  },
  {
   "cell_type": "markdown",
   "id": "2149b728",
   "metadata": {
    "slideshow": {
     "slide_type": "slide"
    }
   },
   "source": [
    "# 반복문 (Loop statement)\n",
    "\n",
    "특정 구문들을 반복해서 실행할 때 사용한다. 동일한 코드를 여러번 반복하거나 값이 일정하게 변하는 코드를 반복할 경우 사용한다.  \n",
    "단순 반복을 처리하는 **while문**과 iterable객체가 제공하는 값들을 반복 조회하는 **for in문** 두가지 문법이 있다.\n",
    "\n",
    "![반복문](images/ch03_02.png)\n",
    "\n",
    "<center>count의 값이 limit의 값보다 크거나 같을때 까지 count의 값을 1증가 후 출력하는 구문을 반복한다. </center>\n"
   ]
  },
  {
   "cell_type": "markdown",
   "id": "b4740a36",
   "metadata": {
    "slideshow": {
     "slide_type": "subslide"
    }
   },
   "source": [
    "## while문\n",
    "\n",
    "-   조건이 True인 동안 구문을 반복해서 실행한다.\n",
    "\n",
    "### 구문\n",
    "\n",
    "```python\n",
    "while 조건:       # 조건은 bool 표현식을 기술한다. 조건선언 다음에 : 으로 선언해서 코드블록을 구분한다\n",
    "    반복할 구문1  # 반복할 구문을 코드블록으로 작성한다.\n",
    "    반복할 구문2\n",
    "    ...\n",
    "```\n"
   ]
  },
  {
   "cell_type": "code",
   "execution_count": 29,
   "id": "0404c07b-b58a-48c3-be9e-26eee651f379",
   "metadata": {},
   "outputs": [
    {
     "name": "stdout",
     "output_type": "stream",
     "text": [
      "0번째 안녕하세요\n",
      "1번째 안녕하세요\n",
      "2번째 안녕하세요\n",
      "3번째 안녕하세요\n",
      "4번째 안녕하세요\n",
      "5번째 안녕하세요\n",
      "6번째 안녕하세요\n",
      "7번째 안녕하세요\n",
      "8번째 안녕하세요\n",
      "9번째 안녕하세요\n"
     ]
    }
   ],
   "source": [
    "count = 0\n",
    "limit = 10\n",
    "while count < limit:\n",
    "    print(f'{count}번째 안녕하세요')\n",
    "    count += 1"
   ]
  },
  {
   "cell_type": "markdown",
   "id": "04f12e55",
   "metadata": {
    "slideshow": {
     "slide_type": "subslide"
    }
   },
   "source": [
    "## for in 문\n",
    "\n",
    "-   Iterable 객체를 순환조회하는 구문\n",
    "    -   for in문은 Iterable 타입의 객체가 가지고 있는 값들을 하나씩 처리하는 구문을 작성할 때 사용한다.\n",
    "\n",
    "> -   **Iterable**\n",
    ">     -   반복가능한 객체. 반복문(for in)을 이용해 일련의 값들을 반복적으로 각각 제공하는 객체를 말한다.\n",
    ">     -   대표적으로 List, Tuple, Dictionary, Set, 문자열 등이 있다.\n",
    "\n",
    "### 구문\n",
    "\n",
    "```python\n",
    "for 변수 in Iterable: # for in 선언후 : 으로 선언부와 구현부를 나눈다.\n",
    "    반복구문          # Iterable이 반복시 제공하는 값을 가지는 \"변수\"를 이용해 값들을 처리하는 구문을 코드블록으로 작성한다.\n",
    "    반복구문\n",
    "```\n"
   ]
  },
  {
   "cell_type": "code",
   "execution_count": 46,
   "id": "02c5a622-e14d-4eb6-ba80-2571800d1678",
   "metadata": {},
   "outputs": [
    {
     "name": "stdout",
     "output_type": "stream",
     "text": [
      "10\t30\t40\t50\t"
     ]
    }
   ],
   "source": [
    "l1 = [10,30,40,50]\n",
    "for i in l1:\n",
    "    print(i, end=\"\\t\")"
   ]
  },
  {
   "cell_type": "code",
   "execution_count": 53,
   "id": "6e0e7af7-ae28-4c55-9e36-15a51d1d52b7",
   "metadata": {},
   "outputs": [
    {
     "data": {
      "text/plain": [
       "[100, 60, 80, 40, 200, 600, 400]"
      ]
     },
     "execution_count": 53,
     "metadata": {},
     "output_type": "execute_result"
    }
   ],
   "source": [
    "#l의 모든 값을 두배로\n",
    "result = [] #값을 저장할 list 생성\n",
    "l1 = [50,30,40,20,100,300,200]\n",
    "for i in l1:\n",
    "    # print(i)\n",
    "    # i = i*2\n",
    "    result.append(i*2)\n",
    "result"
   ]
  },
  {
   "cell_type": "code",
   "execution_count": 56,
   "id": "f1a1e7d3-5e60-4c84-9e5f-2c1014cacebc",
   "metadata": {},
   "outputs": [
    {
     "name": "stdout",
     "output_type": "stream",
     "text": [
      "50는 3의 배수가 아님\n",
      "30\n",
      "40는 3의 배수가 아님\n",
      "20는 3의 배수가 아님\n",
      "100는 3의 배수가 아님\n",
      "300\n",
      "200는 3의 배수가 아님\n"
     ]
    }
   ],
   "source": [
    "for v in l1:\n",
    "    if v % 3 == 0:\n",
    "        print(v)\n",
    "    else:\n",
    "        print(f\"{v}는 3의 배수가 아님\")"
   ]
  },
  {
   "cell_type": "code",
   "execution_count": 62,
   "id": "9317ac23-73e7-4fc6-b8a6-735a609bfb57",
   "metadata": {},
   "outputs": [
    {
     "name": "stdout",
     "output_type": "stream",
     "text": [
      "a 10\n",
      "b 20\n",
      "c 30\n"
     ]
    }
   ],
   "source": [
    "#dict iterable 예제\n",
    "d = {\"a\":10, \"b\":20, \"c\":30}\n",
    "for v in d:\n",
    "    print(v, d[v])"
   ]
  },
  {
   "cell_type": "code",
   "execution_count": 63,
   "id": "09912f35-aa40-422d-9bfd-960b0454e39b",
   "metadata": {},
   "outputs": [
    {
     "name": "stdout",
     "output_type": "stream",
     "text": [
      "10\n",
      "20\n",
      "30\n"
     ]
    }
   ],
   "source": [
    "for v in d.values():\n",
    "    print(v)"
   ]
  },
  {
   "cell_type": "code",
   "execution_count": 65,
   "id": "8baa5229-406c-48a8-be1c-9d3aaa4361db",
   "metadata": {},
   "outputs": [
    {
     "name": "stdout",
     "output_type": "stream",
     "text": [
      "a 10\n",
      "b 20\n",
      "c 30\n"
     ]
    }
   ],
   "source": [
    "for key, value in d.items():\n",
    "    print(key, value)"
   ]
  },
  {
   "cell_type": "code",
   "execution_count": 66,
   "id": "b9623129-ed17-486c-a81a-4f6dc2b096b4",
   "metadata": {},
   "outputs": [
    {
     "name": "stdout",
     "output_type": "stream",
     "text": [
      "('a', 10)\n",
      "('b', 20)\n",
      "('c', 30)\n"
     ]
    }
   ],
   "source": [
    "for key in d.items():\n",
    "    print(key)"
   ]
  },
  {
   "cell_type": "code",
   "execution_count": 67,
   "id": "2054517d-2cea-41f5-8910-933f796cc18f",
   "metadata": {},
   "outputs": [
    {
     "name": "stdout",
     "output_type": "stream",
     "text": [
      "가,나,다,라,a,b,c,d,1,2,3,4,"
     ]
    }
   ],
   "source": [
    "#문자열\n",
    "for char in \"가나다라abcd1234\":\n",
    "    print(char, end=\",\")"
   ]
  },
  {
   "cell_type": "markdown",
   "id": "1f30cd6f",
   "metadata": {
    "slideshow": {
     "slide_type": "subslide"
    }
   },
   "source": [
    "## continue와 break를 이용한 반복문 제어\n",
    "\n",
    "-   **continue**\n",
    "    -   실행 블록에서 continue가 실행되면 현재 반복을 중단하고 다음 반복을 진행한다.\n",
    "    -   특정 조건에서 처리를 멈추고 다음 처리를 반복할 때 사용한다.\n",
    "-   **break**\n",
    "    -   반복문 실행을 중단한다.\n",
    "    -   특정 조건에서 반복문을 중간에 중지할때 사용한다.\n",
    "-   continue와 break는 특정 조건에서 실행되야 하는 경우가 대부분이므로 if문 안에 작성한다.\n"
   ]
  },
  {
   "cell_type": "code",
   "execution_count": 71,
   "id": "90c41e9f",
   "metadata": {
    "slideshow": {
     "slide_type": "fragment"
    }
   },
   "outputs": [
    {
     "name": "stdout",
     "output_type": "stream",
     "text": [
      "0\n",
      "1\n"
     ]
    }
   ],
   "source": [
    "for i in range(5):\n",
    "    if i == 2:\n",
    "        # continue \n",
    "        break\n",
    "    print(i)"
   ]
  },
  {
   "cell_type": "code",
   "execution_count": 78,
   "id": "243bb412-a1ff-4920-aa23-35320a6033ad",
   "metadata": {},
   "outputs": [
    {
     "name": "stdout",
     "output_type": "stream",
     "text": [
      "2\n",
      "4\n",
      "6\n",
      "8\n",
      "10\n"
     ]
    }
   ],
   "source": [
    "l = [1,2,3,4,5,6,7,8,9,10]\n",
    "for i in l:\n",
    "    if i % 2 != 0:\n",
    "        continue\n",
    "    print(i)\n",
    "    \n",
    "    "
   ]
  },
  {
   "cell_type": "code",
   "execution_count": 110,
   "id": "d1d077a0-05e6-4e92-97d9-03e6a36de47b",
   "metadata": {},
   "outputs": [
    {
     "data": {
      "text/plain": [
       "module"
      ]
     },
     "execution_count": 110,
     "metadata": {},
     "output_type": "execute_result"
    }
   ],
   "source": [
    "import random\n",
    "random.randint(10,20) #시작과 끝 사이의 임의의 값 반환\n",
    "\n",
    "type(random)"
   ]
  },
  {
   "cell_type": "code",
   "execution_count": 126,
   "id": "30021324-61d8-4e32-b8e6-6a63b3eca872",
   "metadata": {},
   "outputs": [
    {
     "name": "stdout",
     "output_type": "stream",
     "text": [
      "172번째 0발생 후 종료\n",
      "양수리스트\n",
      " [78, 91, 14, 36, 33, 80, 2, 6, 95, 68, 62, 54, 94, 42, 37, 69, 90, 96, 95, 14, 4, 96, 43, 22, 75, 85, 20, 89, 18, 3, 20, 56, 73, 62, 31, 25, 34, 12, 23, 84, 30, 78, 62, 40, 9, 13, 95, 67, 77, 73, 98, 89, 77, 2, 8, 50, 94, 14, 78, 93, 60, 12, 23, 32, 20, 7, 43, 27, 53, 71, 83, 56, 41, 36, 76, 9, 23, 53, 67, 69, 71] \n",
      "\n",
      "음수리스트\n",
      " [-16, -48, -39, -100, -66, -43, -100, -54, -63, -98, -87, -54, -86, -78, -73, -11, -89, -31, -99, -48, -80, -78, -38, -70, -65, -71, -43, -43, -28, -64, -57, -62, -89, -74, -41, -55, -68, -11, -62, -99, -34, -47, -92, -24, -96, -92, -13, -64, -67, -14, -21, -66, -100, -87, -65, -36, -64, -23, -46, -31, -14, -68, -99, -10, -85, -92, -65, -16, -39, -99, -95, -93, -31, -35, -69, -47, -54, -93, -46, -44, -39, -49, -39, -44, -63, -6, -49, -60, -76, -25]\n"
     ]
    }
   ],
   "source": [
    "#-100 ~ 100 범위의 정수 난수 생성\n",
    "# 생성된 정수중 양수는 'pos_result', 음수는 'neg_result리스트에 저장'\n",
    "# 0이 생성되면 종료\n",
    "pos_result = []\n",
    "neg_result = []\n",
    "count = 0\n",
    "\n",
    "while True: #while True는 break를 이용한 식을 이용할 경우\n",
    "    count += 1\n",
    "    i = random.randint(-100,100)\n",
    "    if i > 0 : \n",
    "        pos_result.append(i)\n",
    "    elif i < 0 :\n",
    "        neg_result.append(i)\n",
    "    else :\n",
    "        print(f\"{count}번째 0발생 후 종료\")\n",
    "        break\n",
    "\n",
    "print(f\"양수리스트\\n {pos_result} \\n\")\n",
    "print(f\"음수리스트\\n {neg_result}\")\n"
   ]
  },
  {
   "cell_type": "code",
   "execution_count": 129,
   "id": "f50c631d-b592-44ee-b7cf-b37154674078",
   "metadata": {},
   "outputs": [
    {
     "name": "stdout",
     "output_type": "stream",
     "text": [
      "종료\n",
      "양수리스트\n",
      " [52, 48, 63, 74, 90, 21, 90, 6, 32, 90, 28, 71, 14, 100, 97, 4, 6, 44, 74, 99, 2, 95, 38, 9, 23, 75, 27, 6, 26, 67, 33, 23, 21, 30, 1, 32, 18, 89, 24, 90, 12, 25, 50, 1, 69, 99, 51, 8] \n",
      "\n",
      "음수리스트\n",
      " [-3, -2, -12, -42, -18, -59, -31, -57, -45, -66, -45, -33, -50, -25, -81, -10, -81, -58, -7, -30, -25, -93, -41, -19, -29, -84, -30, -100, -58, -41, -98, -75, -20, -94, -1, -100, -33, -91, -62, -32, -25, -59, -83, -62, -73]\n"
     ]
    }
   ],
   "source": [
    "pos_result = []\n",
    "neg_result = []\n",
    "num = random.randint(-100,100)\n",
    "while num != 0:\n",
    "    if num > 0:\n",
    "        pos_result.append(num)\n",
    "    else:\n",
    "        neg_result.append(num)\n",
    "    num = random.randint(-100,100)\n",
    "\n",
    "print(\"종료\")\n",
    "print(f\"양수리스트\\n {pos_result} \\n\")\n",
    "print(f\"음수리스트\\n {neg_result}\")"
   ]
  },
  {
   "cell_type": "code",
   "execution_count": 136,
   "id": "94b845bb-b991-4a11-8990-409cbc8c2cdb",
   "metadata": {},
   "outputs": [
    {
     "name": "stdout",
     "output_type": "stream",
     "text": [
      "종료\n",
      "양수리스트\n",
      " [14, 19, 68, 50, 83, 70, 18, 12, 60, 37, 36, 9, 81, 74, 24, 92, 40, 73, 68, 46, 14, 54, 8, 27, 1, 56, 19, 83, 32, 42, 61, 37, 6, 59, 52, 17, 23, 26, 39, 84, 31, 52, 43, 70, 61, 21, 17, 79, 57, 33, 48, 29, 22, 49, 70, 2, 45, 84, 12, 77, 93, 90, 27, 80, 7, 54, 59, 72, 39, 49, 49, 100, 96, 65, 50, 59, 1, 78, 80, 9, 34, 45, 42, 18, 95, 39, 26, 24, 50, 9, 34, 19, 92, 57, 61, 91, 94, 40, 93, 7, 26, 77, 80, 78, 5, 12, 77, 27, 50, 67, 62, 7, 28, 16, 46, 35, 73, 4, 14, 30, 14, 62, 41, 26, 35, 25, 62, 49, 45, 26, 54, 50, 63, 87, 14, 78, 15, 29, 55, 12, 49, 26, 33, 38, 35, 19, 78, 66, 99, 60, 49, 18, 37, 50, 1, 55, 52, 42, 33, 16, 71, 8, 89, 42, 54, 33, 63, 10, 49, 6, 91, 39, 4, 11, 85, 37, 76, 85, 33, 91, 5, 20, 68, 6, 88, 83, 52, 25, 73, 75, 32, 41, 64, 48, 1, 74, 45, 64, 57, 20, 57, 61, 76, 48, 59, 44, 48, 9, 35, 82, 77, 36, 95, 99, 33, 90, 31, 61, 79, 83, 47, 25, 59, 90, 34, 59, 2, 65, 62] \n",
      "\n",
      "음수리스트\n",
      " [-56, -83, -70, -71, -57, -35, -10, -90, -44, -64, -87, -18, -62, -48, -44, -3, -74, -48, -64, -78, -70, -42, -78, -82, -23, -88, -41, -46, -23, -90, -19, -45, -52, -50, -74, -80, -38, -10, -57, -91, -46, -12, -52, -96, -64, -100, -73, -54, -79, -33, -44, -14, -33, -14, -5, -87, -9, -67, -53, -95, -7, -13, -14, -88, -73, -88, -25, -36, -89, -74, -72, -93, -99, -81, -69, -13, -46, -79, -60, -6, -61, -14, -66, -60, -54, -54, -59, -40, -51, -15, -76, -40, -3, -79, -43, -88, -43, -69, -6, -78, -75, -85, -63, -32, -64, -86, -65, -99, -44, -51, -7, -20, -56, -63, -100, -44, -59, -69, -36, -69, -36, -34, -30, -17, -17, -79, -34, -91, -83, -37, -89, -71, -9, -21, -53, -11, -11, -73, -80, -63, -20, -63, -71, -23, -7, -77, -64, -4, -74, -50, -85, -4, -68, -30, -91, -52, -12, -55, -24, -3, -13, -26, -52, -65, -96, -81, -9, -84, -77, -7, -69, -31, -47, -47, -60, -27, -73, -98, -74, -29, -76, -9, -99, -25, -87, -57, -81, -60, -53, -76, -31, -53, -43, -82, -1, -74, -56, -59, -75, -96, -77, -96, -88, -77, -74, -100, -73, -63, -22, -34, -93, -89, -13, -70, -73, -94, -67, -23, -56, -59, -36, -58, -76, -50, -68, -17, -5, -48, -14, -16, -84, -19, -98, -53, -66, -87, -51, -78, -69, -52, -20, -71, -64, -96]\n"
     ]
    }
   ],
   "source": [
    "pos_result = []\n",
    "neg_result = []\n",
    "\n",
    "# := 왈러스 연산자-대입연산자 if와 while 조건절에만 사용. \n",
    "# 1. 값을 변수에 대입\n",
    "# 2. 대입한 값을 다시 반환\n",
    "# while num := random.randint(-100,100) != 0:\n",
    "    # print(f\"{num}\")\n",
    "while num := random.randint(-100,100): #num의 값이 0이면 false가 되어 break\n",
    "    if num > 0:\n",
    "        pos_result.append(num)\n",
    "    else :\n",
    "        neg_result.append(num)\n",
    "\n",
    "print(\"종료\")\n",
    "print(f\"양수리스트\\n {pos_result} \\n\")\n",
    "print(f\"음수리스트\\n {neg_result}\")\n",
    "        "
   ]
  },
  {
   "cell_type": "code",
   "execution_count": 137,
   "id": "6d6d9923-3cdd-421a-aadf-baa4c40c6ad9",
   "metadata": {},
   "outputs": [
    {
     "data": {
      "text/plain": [
       "True"
      ]
     },
     "execution_count": 137,
     "metadata": {},
     "output_type": "execute_result"
    }
   ],
   "source": [
    "(a:=20) > 0 #a에 0을 넣고 a와 0을 비교\n"
   ]
  },
  {
   "cell_type": "markdown",
   "id": "dc6099c5",
   "metadata": {
    "slideshow": {
     "slide_type": "slide"
    }
   },
   "source": [
    "## for in 문 연관 내장 함수\n",
    "\n",
    "### range()\n",
    "\n",
    "-   일정한 간격의 연속된 정수를 제공하는 반복가능 객체 생성한다.\n",
    "-   구문\n",
    "    -   `range([시작값], 멈춤값, [증감값])`\n",
    "        -   시작값, 멈춤값, 증감값 모두 정수만 가능하다.\n",
    "        -   시작값 > 멈춤값 이고 증감값이 음수이면 내림차순으로 값을 제공한다.\n",
    "        1. 전달값이 **1개: 멈춤값**.\n",
    "            - 0 ~ (멈춤값-1)까지 1씩 증가하는 정수를 제공\n",
    "        2. 전달값이 **2개: 시작값, 멈춤값**.\n",
    "            - 시작값 ~ (멈춤값-1) 까지 1씩 증가하는 정수 제공\n",
    "        3. 전달값이 **3개: 시작값, 멈춤값, 증감값(간격)**.\n",
    "            - 시작값 ~ (멈춤값-1)까지 증감값만큼 증가하는 정수를 제공.\n"
   ]
  },
  {
   "cell_type": "code",
   "execution_count": 140,
   "id": "352d937b",
   "metadata": {
    "slideshow": {
     "slide_type": "fragment"
    }
   },
   "outputs": [
    {
     "name": "stdout",
     "output_type": "stream",
     "text": [
      "10\t11\t12\t13\t14\t15\t16\t17\t18\t19\t"
     ]
    }
   ],
   "source": [
    "for v in range(10,20): #(시작값, 종료값)\n",
    "    print(v, end=\"\\t\")\n"
   ]
  },
  {
   "cell_type": "code",
   "execution_count": 141,
   "id": "bf88ebbb-9b98-4ec0-9cbd-ac826cf825d5",
   "metadata": {
    "slideshow": {
     "slide_type": "fragment"
    }
   },
   "outputs": [
    {
     "name": "stdout",
     "output_type": "stream",
     "text": [
      "10\t13\t16\t19\t22\t25\t28\t"
     ]
    }
   ],
   "source": [
    "for v in range(10,30,3): #(시작값, 종료값, 간격)\n",
    "    print(v, end=\"\\t\")\n"
   ]
  },
  {
   "cell_type": "code",
   "execution_count": 144,
   "id": "dedadf93-6563-4702-964c-3e741e8297bc",
   "metadata": {
    "slideshow": {
     "slide_type": "fragment"
    }
   },
   "outputs": [
    {
     "name": "stdout",
     "output_type": "stream",
     "text": [
      "0\t1\t2\t3\t4\t5\t6\t7\t8\t9\t10\t11\t12\t13\t14\t15\t16\t17\t18\t19\t"
     ]
    }
   ],
   "source": [
    "for v in range(20): #(종료값)\n",
    "    print(v, end=\"\\t\")\n"
   ]
  },
  {
   "cell_type": "code",
   "execution_count": 151,
   "id": "8e27f5f5-d26e-4e14-82f1-385063825b18",
   "metadata": {},
   "outputs": [
    {
     "data": {
      "text/plain": [
       "[11, 8, 5, 2]"
      ]
     },
     "execution_count": 151,
     "metadata": {},
     "output_type": "execute_result"
    }
   ],
   "source": [
    "#range() : iterable\n",
    "l1 = list(range(11,1,-3))\n",
    "# l1 = set(range(10,-10,2))\n",
    "l1"
   ]
  },
  {
   "cell_type": "code",
   "execution_count": 152,
   "id": "0dd5838d-e12b-44a2-8709-f79d1052c9d1",
   "metadata": {},
   "outputs": [
    {
     "name": "stdout",
     "output_type": "stream",
     "text": [
      "0\n",
      "1\n",
      "2\n",
      "3\n",
      "4\n",
      "5\n",
      "6\n",
      "7\n",
      "8\n",
      "9\n"
     ]
    }
   ],
   "source": [
    "#안녕 10번 출력\n",
    "for _ in range(10): #반복 횟수 지정할 때, _관례적으로 쓰지 않는 변수인데 문법상 써야만할 때\n",
    "    print(_)\n"
   ]
  },
  {
   "cell_type": "markdown",
   "id": "5de9d74e",
   "metadata": {
    "slideshow": {
     "slide_type": "subslide"
    }
   },
   "source": [
    "## enumerate()\n",
    "\n",
    "-   구문\n",
    "    -   `enumerate(Iterable,  [, start=정수])`\n",
    "        -   현재 몇번째 값을 제공하는 지(현재 몇번째 반복인지)를 나타내는 **index**와 제공하는 **원소**를 tuple로 묶어서 반환\n",
    "        -   Iterable\n",
    "            -   값을 제공할 Iterable객체\n",
    "        -   start: 정수\n",
    "            -   index 시작 값. 생략하면 0부터 시작한다.\n"
   ]
  },
  {
   "cell_type": "code",
   "execution_count": 157,
   "id": "132ad552-eca4-4068-b066-0d7256c86f38",
   "metadata": {},
   "outputs": [
    {
     "name": "stdout",
     "output_type": "stream",
     "text": [
      "0 0\n",
      "1 1\n",
      "2 2\n",
      "3 3\n",
      "4 4\n",
      "5 5\n",
      "6 6\n",
      "7 7\n",
      "8 8\n",
      "9 9\n"
     ]
    }
   ],
   "source": [
    "l = list(range(10))\n",
    "# for v in enumerate(l): #enumerate (index:몇번째 반복인지, 값)\n",
    "for idx, value in enumerate(l):    \n",
    "    print(idx, value)\n"
   ]
  },
  {
   "cell_type": "code",
   "execution_count": 160,
   "id": "33dd96c5",
   "metadata": {
    "slideshow": {
     "slide_type": "fragment"
    }
   },
   "outputs": [
    {
     "name": "stdout",
     "output_type": "stream",
     "text": [
      "1000 - 중간결과 999\n",
      "2000 - 중간결과 1999\n",
      "3000 - 중간결과 2999\n",
      "4000 - 중간결과 3999\n",
      "5000 - 중간결과 4999\n",
      "6000 - 중간결과 5999\n",
      "7000 - 중간결과 6999\n",
      "8000 - 중간결과 7999\n",
      "9000 - 중간결과 8999\n",
      "10000 - 중간결과 9999\n"
     ]
    }
   ],
   "source": [
    "#10_000번 반복 처리 -> 중간결과를 1_000에 한번씩 출력\n",
    "for idx, value in enumerate(range(10_000),start=1): #iterable을 enumerate로 \n",
    "    #작업\n",
    "    #중간결과 출력\n",
    "    if idx % 1000 == 0:\n",
    "        print(f\"{idx} - 중간결과 {value}\")"
   ]
  },
  {
   "cell_type": "code",
   "execution_count": null,
   "id": "1670af46-b355-462f-af6f-8420f8cafcd8",
   "metadata": {},
   "outputs": [],
   "source": []
  },
  {
   "cell_type": "markdown",
   "id": "f5a5540f",
   "metadata": {
    "slideshow": {
     "slide_type": "subslide"
    }
   },
   "source": [
    "## zip()\n",
    "\n",
    "-   여러 개의 Iterable 객체를 받아 반복시 같은 index의 값끼리 튜플로 묶어 반환한다.\n",
    "-   구문\n",
    "    -   `zip(Iterable1, Iterable2, Iterable3 [, .......])`\n",
    "        -   Iterable 2개이상.전달한다.\n",
    "-   각 Iterable이 제공하는 원소의 개수가가 다를 경우 가장 적은 것의 개수에 맞춰 반복한다.\n"
   ]
  },
  {
   "cell_type": "code",
   "execution_count": 161,
   "id": "1b99057f",
   "metadata": {
    "slideshow": {
     "slide_type": "fragment"
    }
   },
   "outputs": [
    {
     "name": "stdout",
     "output_type": "stream",
     "text": [
      "('이순신', 30, '서울')\n",
      "('유관순', 40, '인천')\n",
      "('신사임당', 50, '부산')\n"
     ]
    }
   ],
   "source": [
    "name_list = [\"이순신\", \"유관순\", \"신사임당\"]\n",
    "age_list = [30, 40, 50]\n",
    "address_list = ['서울', '인천', '부산']\n",
    "\n",
    "# 같은 index가 같은 사람의 데이터\n",
    "# 개별 사람의 데이터를 출력 (이순신, 30, 서울)\n",
    "for v in zip(name_list, age_list, address_list):\n",
    "    print(v)\n"
   ]
  },
  {
   "cell_type": "code",
   "execution_count": 162,
   "id": "34a0fc24-af8c-4dfe-86d2-874999a7879b",
   "metadata": {},
   "outputs": [
    {
     "name": "stdout",
     "output_type": "stream",
     "text": [
      "이순신 30 서울\n",
      "유관순 40 인천\n",
      "신사임당 50 부산\n"
     ]
    }
   ],
   "source": [
    "for name,age,address in zip(name_list, age_list, address_list): #Tuple\n",
    "    print(name, age, address)\n"
   ]
  },
  {
   "cell_type": "code",
   "execution_count": 239,
   "id": "5c0beeaf-21e6-45d2-bd59-82116644f370",
   "metadata": {},
   "outputs": [
    {
     "data": {
      "text/plain": [
       "[7, 8, 18, 30, 34, 39]"
      ]
     },
     "execution_count": 239,
     "metadata": {},
     "output_type": "execute_result"
    }
   ],
   "source": [
    "nums = []\n",
    "while len(nums) <= 5:\n",
    "\n",
    "    nums.append(random.randint(1,45))\n",
    "    nums = list(set(nums))\n",
    "    nums.sort()\n",
    "\n",
    "nums"
   ]
  },
  {
   "cell_type": "markdown",
   "id": "2df89dae",
   "metadata": {
    "slideshow": {
     "slide_type": "subslide"
    }
   },
   "source": [
    "# 컴프리헨션(Comprehension)\n",
    "\n",
    "-   기존 Iterable의 원소들을 이용해서 새로운 자료구조(List, Dictionary, Set)를 생성하는 구문.\n",
    "    -   기존 Iterable의 **원소들을 처리한 결과**나 **특정 조건이 True인 값들을** 새로운 자료구조에 넣을때 사용.\n",
    "    -   결과를 넣을 새로운 자료구조 타입에 따라 다음 세가지가 있다.\n",
    "        -   리스트 컴프리헨션\n",
    "        -   딕셔너리 컴프리헨션\n",
    "        -   셋 컴프리헨션\n",
    "- **튜플 컴프리헨션**은 tuple() 함수를 이용해서 만든다.\n",
    "-   **딕셔너리 컴프리헨션**과 **셋 컴프리헨션**은 파이썬 3 에 새로 추가되었다.\n",
    "-   컴프리헨션 문법은 iterable 을 타입을 넣는 곳에서는 다 적용할 수있다.\n"
   ]
  },
  {
   "cell_type": "code",
   "execution_count": 5,
   "id": "02319c28-3bdd-4bee-a068-5b913bcb2192",
   "metadata": {
    "slideshow": {
     "slide_type": "fragment"
    }
   },
   "outputs": [
    {
     "name": "stdout",
     "output_type": "stream",
     "text": [
      "Help on method-wrapper:\n",
      "\n",
      "__len__() unbound builtins.list method\n",
      "    Return len(self).\n",
      "\n"
     ]
    }
   ],
   "source": [
    "l = [1,2,3,4,5,6]\n",
    "result = []\n",
    "#filltering\n",
    "for v in l:\n",
    "    result.append(v)\n",
    "\n",
    "help(l.__len__)"
   ]
  },
  {
   "cell_type": "code",
   "execution_count": 254,
   "id": "1e6b77d2-61a2-4f6e-bc19-c46ec7b2e794",
   "metadata": {},
   "outputs": [
    {
     "data": {
      "text/plain": [
       "[20, 40, 60]"
      ]
     },
     "execution_count": 254,
     "metadata": {},
     "output_type": "execute_result"
    }
   ],
   "source": [
    "#filltering 컴프레핸션 문법으로 구현\n",
    "result4 = [v*10 for v in l if v % 2 == 0] #if문 추가 가능\n",
    "result4"
   ]
  },
  {
   "cell_type": "code",
   "execution_count": null,
   "id": "a0cf9f62-cf30-45d5-b2d6-0c2be8a8b153",
   "metadata": {
    "slideshow": {
     "slide_type": "fragment"
    }
   },
   "outputs": [
    {
     "data": {
      "text/plain": [
       "[2, 4, 6, 8, 10, 12]"
      ]
     },
     "execution_count": 240,
     "metadata": {},
     "output_type": "execute_result"
    }
   ],
   "source": [
    "result2 =[]\n",
    "#mapping 일괄처리\n",
    "for v in l:\n",
    "    result2.append(v*2)\n",
    "\n",
    "result\n",
    "result2"
   ]
  },
  {
   "cell_type": "code",
   "execution_count": 242,
   "id": "29d64f6b-ea0d-49df-8a23-900790dae893",
   "metadata": {},
   "outputs": [
    {
     "data": {
      "text/plain": [
       "[2, 4, 6, 8, 10, 12]"
      ]
     },
     "execution_count": 242,
     "metadata": {},
     "output_type": "execute_result"
    }
   ],
   "source": [
    "#mapping 컴프리헨션으로 구현\n",
    "result3 = [v * 2 for v in l] \n",
    "result3"
   ]
  },
  {
   "cell_type": "code",
   "execution_count": null,
   "id": "1c43276b-2cb7-4366-84d2-ead8933f6338",
   "metadata": {},
   "outputs": [],
   "source": [
    "{v * 2 for v in l} #set컴프리핸션"
   ]
  },
  {
   "cell_type": "code",
   "execution_count": 245,
   "id": "0fc6fbff-431c-48b6-aeae-2c4902cf767a",
   "metadata": {},
   "outputs": [
    {
     "data": {
      "text/plain": [
       "{'value1': 2,\n",
       " 'value2': 4,\n",
       " 'value3': 6,\n",
       " 'value4': 8,\n",
       " 'value5': 10,\n",
       " 'value6': 12}"
      ]
     },
     "execution_count": 245,
     "metadata": {},
     "output_type": "execute_result"
    }
   ],
   "source": [
    "{f\"value{v}\" : v * 2 for v in l} #dict 컴프리핸션"
   ]
  },
  {
   "cell_type": "code",
   "execution_count": 246,
   "id": "1d3af8f3-c040-4646-8934-d4979c8e7dc8",
   "metadata": {},
   "outputs": [
    {
     "data": {
      "text/plain": [
       "<generator object <genexpr> at 0x0000021CE72D7D30>"
      ]
     },
     "execution_count": 246,
     "metadata": {},
     "output_type": "execute_result"
    }
   ],
   "source": [
    "(v * 2 for v in l) #generator 생성"
   ]
  },
  {
   "cell_type": "code",
   "execution_count": 247,
   "id": "70a9d16a-a878-4555-954e-1594d0f4e4dc",
   "metadata": {},
   "outputs": [
    {
     "data": {
      "text/plain": [
       "(2, 4, 6, 8, 10, 12)"
      ]
     },
     "execution_count": 247,
     "metadata": {},
     "output_type": "execute_result"
    }
   ],
   "source": [
    "tuple(v * 2 for v in l) #tuple 컴프리핸션"
   ]
  },
  {
   "cell_type": "code",
   "execution_count": 259,
   "id": "cfe6cf73-7c00-4d80-ac27-d6fa11bb9094",
   "metadata": {},
   "outputs": [
    {
     "data": {
      "text/plain": [
       "[5, 7, 3]"
      ]
     },
     "execution_count": 259,
     "metadata": {},
     "output_type": "execute_result"
    }
   ],
   "source": [
    "l2 = [\n",
    "    [10,5,7],\n",
    "    [3,50,4]\n",
    "]\n",
    "result = [] #l2 원소중 홀수만 저장\n",
    "for l in l2:\n",
    "    for v in l:\n",
    "        if v % 2 != 0:\n",
    "            result.append(v)\n",
    "\n",
    "result"
   ]
  },
  {
   "cell_type": "code",
   "execution_count": 266,
   "id": "ecd315a3-c3ea-4a70-872f-87f748d17268",
   "metadata": {},
   "outputs": [
    {
     "data": {
      "text/plain": [
       "[5, 7, 3]"
      ]
     },
     "execution_count": 266,
     "metadata": {},
     "output_type": "execute_result"
    }
   ],
   "source": [
    "result2 = [v for l in l2 for v in l if v % 2 !=0] #2단계 이상은 가독성 떨어짐\n",
    "result2"
   ]
  },
  {
   "cell_type": "markdown",
   "id": "092288d7",
   "metadata": {
    "slideshow": {
     "slide_type": "skip"
    }
   },
   "source": [
    "# TODO\n"
   ]
  },
  {
   "cell_type": "code",
   "execution_count": 273,
   "id": "14498b36-fa29-4590-89ea-4a8708453108",
   "metadata": {
    "slideshow": {
     "slide_type": "skip"
    }
   },
   "outputs": [
    {
     "name": "stdin",
     "output_type": "stream",
     "text": [
      "ID : 한글자두글자\n"
     ]
    },
    {
     "name": "stdout",
     "output_type": "stream",
     "text": [
      "사용할 수 있습니다\n"
     ]
    }
   ],
   "source": [
    "# (1) 사용자로 부터 ID를 입력 받은 뒤 입력받은 ID가 5글자 이상이면 \"사용할 수 있습니다.\"를 5글자 미만이면 \"사용할 수 없는 ID입니다.\"를 출력하세요.\n",
    "i = input(\"ID :\")\n",
    "if len(i) >= 5:\n",
    "    print(\"사용할 수 있습니다\")\n",
    "else:\n",
    "    print(\"5글자 미만은 사용할 수 없습니다\")\n"
   ]
  },
  {
   "cell_type": "code",
   "execution_count": 299,
   "id": "1443856f-9598-407b-84fd-473bacac8d55",
   "metadata": {
    "slideshow": {
     "slide_type": "skip"
    }
   },
   "outputs": [
    {
     "name": "stdin",
     "output_type": "stream",
     "text": [
      "도시명 입력:  서울\n"
     ]
    },
    {
     "name": "stdout",
     "output_type": "stream",
     "text": [
      "서울특별시\n"
     ]
    }
   ],
   "source": [
    "# (2) 사용자로부터 우리나라 도시명을 입력 받은 뒤 입력받은 도시명이 서울이면 \"특별시\"를 인천,부산,광주,대구,대전,울산 이면 \"광역시\"를 나머지는 \"특별시나 광역시가 아닙니다.\"를 출력하세요.\n",
    "l1 = (\"인천\", \"부산\", \"광주\", \"대구\", \"대전\", \"울산\")\n",
    "i = input(\"도시명 입력: \")\n",
    "if i == \"서울\":\n",
    "    print(i+\"특별시\")\n",
    "elif l1.count(i) > 0:\n",
    "    print(i+\"광역시\")\n",
    "else:\n",
    "    print(\"특별시나 광역시가 아닙니다\")"
   ]
  },
  {
   "cell_type": "code",
   "execution_count": 350,
   "id": "720bd609-3a51-4250-add2-1f4c90cf66f7",
   "metadata": {
    "slideshow": {
     "slide_type": "skip"
    }
   },
   "outputs": [
    {
     "data": {
      "text/plain": [
       "89.0"
      ]
     },
     "execution_count": 350,
     "metadata": {},
     "output_type": "execute_result"
    }
   ],
   "source": [
    "# (3-4)\n",
    "# (3) 아래 리스트의 평균을 구하시오.\n",
    "jumsu = [100, 90, 100, 80, 70, 100, 80, 90, 95, 85]\n",
    "\n",
    "summary = 0\n",
    "avg = 0\n",
    "\n",
    "for v in jumsu :\n",
    "    summary += v\n",
    "\n",
    "avg = s / len(jumsu)\n",
    "avg\n",
    "    "
   ]
  },
  {
   "cell_type": "code",
   "execution_count": 303,
   "id": "b29997df-2616-461d-af23-e2035ae6324b",
   "metadata": {
    "slideshow": {
     "slide_type": "skip"
    }
   },
   "outputs": [
    {
     "name": "stdout",
     "output_type": "stream",
     "text": [
      "0번 100점 - Pass\n",
      "1번 90점 - Pass\n",
      "2번 100점 - Pass\n",
      "3번 80점 - Fail\n",
      "4번 70점 - Fail\n",
      "5번 100점 - Pass\n",
      "6번 80점 - Fail\n",
      "7번 90점 - Pass\n",
      "8번 95점 - Pass\n",
      "9번 85점 - Fail\n"
     ]
    }
   ],
   "source": [
    "# (4) 위 jumsu리스트에서 평균점수이상은 pass, 미만은 fail을 index번호와 함께 출력하시오. (ex: 0-pass, 1-pass, 2-fail)\n",
    "\n",
    "for key, value in enumerate(jumsu):\n",
    "    if value >= avg:\n",
    "        print(f'{key}번 {value}점 - Pass')\n",
    "    else:\n",
    "        print(f'{key}번 {value}점 - Fail')\n"
   ]
  },
  {
   "cell_type": "code",
   "execution_count": 310,
   "id": "fe71b7d7-67c5-400b-ae36-2e8e540dae13",
   "metadata": {
    "slideshow": {
     "slide_type": "skip"
    }
   },
   "outputs": [
    {
     "data": {
      "text/plain": [
       "95"
      ]
     },
     "execution_count": 310,
     "metadata": {},
     "output_type": "execute_result"
    }
   ],
   "source": [
    "# (5) 아래 리스트 값들 중 최대값을 조회해 출력하시오.\n",
    "jumsu = [60, 90, 80, 80, 70, 55, 80, 90, 95, 85]\n",
    "m = 0\n",
    "for v in jumsu:\n",
    "    if v > m:\n",
    "        m = v \n",
    "m"
   ]
  },
  {
   "cell_type": "code",
   "execution_count": 354,
   "id": "05fd9a1d-287c-4bf4-8ec2-932c4fe1abd6",
   "metadata": {
    "slideshow": {
     "slide_type": "skip"
    }
   },
   "outputs": [
    {
     "name": "stdin",
     "output_type": "stream",
     "text": [
      "단 입력 :  2\n"
     ]
    },
    {
     "name": "stdout",
     "output_type": "stream",
     "text": [
      "['2 x 1 = 2', '2 x 2 = 4', '2 x 3 = 6', '2 x 4 = 8', '2 x 5 = 10', '2 x 6 = 12', '2 x 7 = 14', '2 x 8 = 16', '2 x 9 = 18']\n"
     ]
    }
   ],
   "source": [
    "## (6) 사용자로부터 정수를 입력받아 그 정수 단의 구구단을 출력하시오.\n",
    "# ex)\n",
    "# 단을 입력하시오 : 2\n",
    "# 2 x 1 = 2\n",
    "# 2 x 2 = 4\n",
    "# ..\n",
    "# 2 x 9 = 18\n",
    "\n",
    "# 컴프리헨션\n",
    "\n",
    "i = input(\"단 입력 : \")\n",
    "#1 list comprehension\n",
    "if i.isdigit():\n",
    "    num = int(i)\n",
    "    l1 = [f\"{num} x {v} = {num*v}\" for v in range(1,10)]\n",
    "    print(l1)\n",
    "else:\n",
    "    print(\"정수를 입력하세요\")\n",
    "    \n",
    "#2\n",
    "# if i.isdigit():\n",
    "#     num = int(i)\n",
    "#     for v in range(1,10):\n",
    "#         print(f\"{num} * {v} = {num*v}\")\n",
    "# else:\n",
    "#     print(\"정수를 입력하세요\")\n",
    " "
   ]
  },
  {
   "cell_type": "code",
   "execution_count": 324,
   "id": "7b76a4f7-f1e6-436b-b468-bf6daa6a5c9b",
   "metadata": {
    "slideshow": {
     "slide_type": "skip"
    }
   },
   "outputs": [
    {
     "data": {
      "text/plain": [
       "[(10, 100),\n",
       " (30, 300),\n",
       " (70, 700),\n",
       " (5, 50),\n",
       " (5, 50),\n",
       " (120, 1200),\n",
       " (700, 7000),\n",
       " (1, 10),\n",
       " (35, 350),\n",
       " (35, 350)]"
      ]
     },
     "execution_count": 324,
     "metadata": {},
     "output_type": "execute_result"
    }
   ],
   "source": [
    "# (7) 다음 리스트의 원소들에 10배한 값을 (원래값, 10배값) 의 튜플 묶음으로 가지는 리스트를 만드시오 (리스트 컴프리헨션 이용)\n",
    "# Ex) [(10,100), (30,300), .., (35, 350)]\n",
    "lst = [10, 30, 70, 5, 5, 120, 700, 1, 35, 35]\n",
    "result = [(v,v*10) for v in lst]\n",
    "result"
   ]
  },
  {
   "cell_type": "code",
   "execution_count": 326,
   "id": "7d3a09ce-f977-4b5f-8360-8df0cb011d93",
   "metadata": {
    "slideshow": {
     "slide_type": "skip"
    }
   },
   "outputs": [
    {
     "data": {
      "text/plain": [
       "[3, 33, 21, 33, 60, 120]"
      ]
     },
     "execution_count": 326,
     "metadata": {},
     "output_type": "execute_result"
    }
   ],
   "source": [
    "# (8) 다음 리스트가 가진 값들 중 3의 배수만 가지는 리스트를 만드시오. (리스트 컴프리헨션 이용)\n",
    "lst2 = [3, 20, 33, 21, 33, 8, 11, 10, 7, 17, 60, 120, 2]\n",
    "result = [v for v in lst2 if v % 3 == 0]\n",
    "result"
   ]
  },
  {
   "cell_type": "code",
   "execution_count": 327,
   "id": "beef4b63-d58c-4df3-ad02-93d738fe53db",
   "metadata": {
    "slideshow": {
     "slide_type": "skip"
    }
   },
   "outputs": [
    {
     "data": {
      "text/plain": [
       "['a.exe', 'function.exe', 'b.exe', 'run.exe']"
      ]
     },
     "execution_count": 327,
     "metadata": {},
     "output_type": "execute_result"
    }
   ],
   "source": [
    "# (9)) 다음 파일이름들을 담은 리스트에서 확장자가 exe인 파일만 골라서 새로운 리스트에 담으시오.(string의 endswith()함수 이용)\n",
    "file_names = [\n",
    "    \"test.txt\",\n",
    "    \"a.exe\",\n",
    "    \"jupyter.bat\",\n",
    "    \"function.exe\",\n",
    "    \"b.exe\",\n",
    "    \"cat.jpg\",\n",
    "    \"dog.png\",\n",
    "    \"run.exe\",\n",
    "    \"i.dll\",\n",
    "]\n",
    "result = [v for v in file_names if v.endswith(\"exe\")]\n",
    "result"
   ]
  },
  {
   "cell_type": "code",
   "execution_count": 328,
   "id": "8dbed490-56bb-40f0-95c1-13aa9afb8e52",
   "metadata": {
    "slideshow": {
     "slide_type": "skip"
    }
   },
   "outputs": [
    {
     "data": {
      "text/plain": [
       "['mystroy.txt', 'jupyter.bat', 'function.exe']"
      ]
     },
     "execution_count": 328,
     "metadata": {},
     "output_type": "execute_result"
    }
   ],
   "source": [
    "# (10) 다음 중 10글자 이상인 파일명(확장자포함)만 가지는 리스트를 만드시오.\n",
    "file_names = [\n",
    "    \"mystroy.txt\",\n",
    "    \"a.exe\",\n",
    "    \"jupyter.bat\",\n",
    "    \"function.exe\",\n",
    "    \"b.exe\",\n",
    "    \"cat.jpg\",\n",
    "    \"dog.png\",\n",
    "    \"run.exe\",\n",
    "    \"i.dll\",\n",
    "]\n",
    "result = [v for v in file_names if len(v) >= 10]\n",
    "result"
   ]
  }
 ],
 "metadata": {
  "kernelspec": {
   "display_name": "Python 3 (ipykernel)",
   "language": "python",
   "name": "python3"
  },
  "language_info": {
   "codemirror_mode": {
    "name": "ipython",
    "version": 3
   },
   "file_extension": ".py",
   "mimetype": "text/x-python",
   "name": "python",
   "nbconvert_exporter": "python",
   "pygments_lexer": "ipython3",
   "version": "3.12.9"
  },
  "toc": {
   "base_numbering": 1,
   "nav_menu": {},
   "number_sections": true,
   "sideBar": true,
   "skip_h1_title": false,
   "title_cell": "Table of Contents",
   "title_sidebar": "Contents",
   "toc_cell": false,
   "toc_position": {},
   "toc_section_display": true,
   "toc_window_display": false
  },
  "varInspector": {
   "cols": {
    "lenName": 16,
    "lenType": 16,
    "lenVar": 40
   },
   "kernels_config": {
    "python": {
     "delete_cmd_postfix": "",
     "delete_cmd_prefix": "del ",
     "library": "var_list.py",
     "varRefreshCmd": "print(var_dic_list())"
    },
    "r": {
     "delete_cmd_postfix": ") ",
     "delete_cmd_prefix": "rm(",
     "library": "var_list.r",
     "varRefreshCmd": "cat(var_dic_list()) "
    }
   },
   "types_to_exclude": [
    "module",
    "function",
    "builtin_function_or_method",
    "instance",
    "_Feature"
   ],
   "window_display": false
  }
 },
 "nbformat": 4,
 "nbformat_minor": 5
}
