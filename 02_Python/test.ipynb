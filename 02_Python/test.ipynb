{
 "cells": [
  {
   "cell_type": "code",
   "execution_count": 11,
   "id": "bf322eeb-18e2-46d6-a5ac-6cd49dec69b4",
   "metadata": {},
   "outputs": [
    {
     "data": {
      "text/plain": [
       "2"
      ]
     },
     "execution_count": 11,
     "metadata": {},
     "output_type": "execute_result"
    }
   ],
   "source": [
    "1 + 1"
   ]
  },
  {
   "cell_type": "code",
   "execution_count": 4,
   "id": "56ee399f-3f33-4e35-b23d-02ac579dc1d7",
   "metadata": {},
   "outputs": [
    {
     "name": "stdin",
     "output_type": "stream",
     "text": [
      "이름 :  또실행\n"
     ]
    }
   ],
   "source": [
    "name = input(\"이름 : \")"
   ]
  },
  {
   "cell_type": "code",
   "execution_count": 5,
   "id": "77061ecd-3fc3-4551-8610-362017de2c03",
   "metadata": {},
   "outputs": [
    {
     "data": {
      "text/plain": [
       "'또실행'"
      ]
     },
     "execution_count": 5,
     "metadata": {},
     "output_type": "execute_result"
    }
   ],
   "source": [
    "name"
   ]
  },
  {
   "cell_type": "code",
   "execution_count": 27,
   "id": "5f178eac-be99-40e4-99b6-70de2266c068",
   "metadata": {},
   "outputs": [],
   "source": [
    "num = num + 1"
   ]
  },
  {
   "cell_type": "code",
   "execution_count": 35,
   "id": "4b7ca7ed-f863-4166-a95f-b4f367ff9ab6",
   "metadata": {},
   "outputs": [],
   "source": [
    "str = \"삭제\""
   ]
  },
  {
   "cell_type": "code",
   "execution_count": 38,
   "id": "aa92b4d0-d2cb-4398-a2a2-b4d4b7af30b6",
   "metadata": {},
   "outputs": [],
   "source": [
    "import keyword"
   ]
  },
  {
   "cell_type": "code",
   "execution_count": 39,
   "id": "949686c6-60af-44a3-982b-0dd7be915ad7",
   "metadata": {},
   "outputs": [
    {
     "name": "stdout",
     "output_type": "stream",
     "text": [
      "['False', 'None', 'True', 'and', 'as', 'assert', 'async', 'await', 'break', 'class', 'continue', 'def', 'del', 'elif', 'else', 'except', 'finally', 'for', 'from', 'global', 'if', 'import', 'in', 'is', 'lambda', 'nonlocal', 'not', 'or', 'pass', 'raise', 'return', 'try', 'while', 'with', 'yield']\n"
     ]
    }
   ],
   "source": [
    "print(keyword.kwlist)"
   ]
  },
  {
   "cell_type": "markdown",
   "id": "2c1d129d-7f10-4460-81c0-e8b74d3b7e7c",
   "metadata": {},
   "source": [
    "# markdown test\n",
    "- a: 빈 cell 추가 b: 빈 cell 다음 추가\n",
    "- x: cell 자르기\n",
    "- v : 붙여넣기 **코드모드** 수정\n",
    "- m : cell *마크다운*로 변경"
   ]
  },
  {
   "cell_type": "code",
   "execution_count": null,
   "id": "616342b4-9a4e-4476-82a6-2d9610c8196c",
   "metadata": {},
   "outputs": [],
   "source": []
  }
 ],
 "metadata": {
  "kernelspec": {
   "display_name": "Python 3 (ipykernel)",
   "language": "python",
   "name": "python3"
  },
  "language_info": {
   "codemirror_mode": {
    "name": "ipython",
    "version": 3
   },
   "file_extension": ".py",
   "mimetype": "text/x-python",
   "name": "python",
   "nbconvert_exporter": "python",
   "pygments_lexer": "ipython3",
   "version": "3.12.9"
  }
 },
 "nbformat": 4,
 "nbformat_minor": 5
}
