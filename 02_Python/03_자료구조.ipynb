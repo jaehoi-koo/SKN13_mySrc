{
 "cells": [
  {
   "cell_type": "markdown",
   "id": "da193321",
   "metadata": {
    "slideshow": {
     "slide_type": "slide"
    }
   },
   "source": [
    "# 자료구조란\n",
    "\n",
    "-   **여러 개의 값들을 모아서 관리**하는 데이터 타입.\n",
    "    -   한 개의 변수는 한 개의 값 밖에는 가지지 못한다. 그러나 하나의 변수로 여러 개의 값 관리해야 할 경우가 있다.\n",
    "    -   하나의 값이 여러개의 값들로 구성된 경우\n",
    "        -   한명의 고객 정보의 경우 이름, 나이, 주소, 전화번호 등 여러개의 값이 모여서 하나의 값이 된다.\n",
    "        -   한 반의 학생들의 이름들은 여러개의 이름들로 구성된다.\n",
    "-   파이썬은 데이터를 모으는 방식에 따라 다음과 같이 4개의 타입을 제공한다.\n",
    "    -   **List:** 순서가 있으며 중복된 값들을 모으는 것을 허용하고 구성하는 값들(원소)을 변경할 수 있다.\n",
    "    -   **Tuple:** 순서가 있으며 중복된 값들을 모으는 것을 허용하는데 구성하는 값들을 변경할 수 없다.\n",
    "    -   **Dictionary:** key-value 형태로 값들을 저장해 관리한다.\n",
    "    -   **Set:** 중복을 허용하지 않고 값들의 순서가 없다.\n",
    "-   **원소, 성분, 요소, element**\n",
    "    -   자료구조의 값들을 구성하는 개별 값들을 말한다.\n",
    "    -   len(자료구조) 함수\n",
    "        -   자료구조 내의 원소의 개수를 반환한다.\n"
   ]
  },
  {
   "cell_type": "markdown",
   "id": "84431cfd",
   "metadata": {
    "slideshow": {
     "slide_type": "slide"
    }
   },
   "source": [
    "# List (리스트)\n",
    "\n",
    "-   값들을 순서대로 모아서 관리하는 자료구조. 원소(element)들을 순번을 이용해 식별한다.\n",
    "    -   각각의 원소가 어떤 값인지를 index(순번)을 가지고 식별하기 때문에 **순서가 있고 그 순서가 매우 중요하다.** 즉 같은 값에 대해 순서가 바뀌면 안된다.\n",
    "-   각각의 원소들은 index를 이용해 식별한다.\n",
    "    -   index는 문자열과 마찮가지로 양수 index와 음수 index 두개가 각 값에 생긴다.\n",
    "    -   양수 index는 앞에서부터 음수 index는 뒤에서 부터 값을 식별할 때 사용하는 것이 편리하다.\n",
    "    -   **index를 가지고 각 원소값의 의미를 식별할 수 있으면 List나 Tuple을 사용한다.**\n",
    "-   중복된 값들을 저장할 수 있다.\n",
    "-   각 원소들의 데이터 타입은 달라도 상관없다.\n",
    "    -   보통은 같은 타입의 데이터를 모은다.\n",
    "-   리스트를 구성하는 **원소들을 변경할 수 있다.** (추가, 삭제, 변경이 가능)\n",
    "    -   원소 변경 여부가 List와 Tuple의 차이이다.\n",
    "\n",
    "## List 생성 구문\n",
    "\n",
    "```python\n",
    "[값, 값, 값, ..]\n",
    "```\n"
   ]
  },
  {
   "cell_type": "code",
   "execution_count": 14,
   "id": "6eef6bd9",
   "metadata": {},
   "outputs": [
    {
     "name": "stdout",
     "output_type": "stream",
     "text": [
      "<class 'list'>\n",
      "<class 'set'>\n",
      "<class 'tuple'>\n",
      "{'a': 1, 'b': 2, 'c': 4}\n"
     ]
    },
    {
     "data": {
      "text/plain": [
       "3"
      ]
     },
     "execution_count": 14,
     "metadata": {},
     "output_type": "execute_result"
    }
   ],
   "source": [
    "a = [1,2,3,4] #list\n",
    "print(type(a))\n",
    "b = {1,2,3,4,4} #set\n",
    "print(type(b))\n",
    "c = (1,2,3,4) #tuple\n",
    "print(type(c)) \n",
    "d = {\"a\":1,\"b\":2,\"c\":3,\"c\":4} #dict, set과 마찬가지로 중복이 안됨, 마지막 key값만 남김\n",
    "print(d)\n",
    "len(d)"
   ]
  },
  {
   "cell_type": "code",
   "execution_count": 30,
   "id": "efc59691",
   "metadata": {
    "ExecuteTime": {
     "end_time": "2022-12-18T00:22:24.071490Z",
     "start_time": "2022-12-18T00:22:23.651455Z"
    },
    "slideshow": {
     "slide_type": "fragment"
    }
   },
   "outputs": [
    {
     "data": {
      "text/plain": [
       "{(3, 4, (5, 6)), 1, 2}"
      ]
     },
     "execution_count": 30,
     "metadata": {},
     "output_type": "execute_result"
    }
   ],
   "source": [
    "l1 = [\"이순신\", 30, \"서울\", 180.5, 81.12, \"0형\", \"010-3331-1203\", True]\n",
    "l1 = [100, 200, [300, 400]]\n",
    "l1[2][0]\n",
    "s1 = {1,2,(3,4,(5,6))}\n",
    "s1"
   ]
  },
  {
   "cell_type": "code",
   "execution_count": 43,
   "id": "41064024-e849-43da-af94-7825705f5ca0",
   "metadata": {},
   "outputs": [
    {
     "data": {
      "text/plain": [
       "[3, 2, 1, 0]"
      ]
     },
     "execution_count": 43,
     "metadata": {},
     "output_type": "execute_result"
    }
   ],
   "source": [
    "l1 = [1, 2, 3, 4]\n",
    "l1[0] = 0\n",
    "l1[4::-1] = 0,1,2,3\n",
    "l1"
   ]
  },
  {
   "cell_type": "markdown",
   "id": "08d634bf",
   "metadata": {
    "slideshow": {
     "slide_type": "subslide"
    }
   },
   "source": [
    "## Indexing과 Slicing을 이용한 원소(element) 조회 및 변경\n",
    "\n",
    "### Indexing\n",
    "\n",
    "-   하나의 원소를 조회하거나 변경할 때 사용\n",
    "-   리스트\\[index\\]\n",
    "    -   index의 원소를 조회\n",
    "-   리스트\\[index\\] = 값\n",
    "    -   index의 원소를 변경\n"
   ]
  },
  {
   "cell_type": "markdown",
   "id": "ab5a40cb",
   "metadata": {
    "slideshow": {
     "slide_type": "fragment"
    }
   },
   "source": [
    "### Slicing\n",
    "\n",
    "-   범위로 조회하거나 그 범위의 값들을 변경한다.\n",
    "-   기본구문: **리스트\\[ 시작 index : 종료 index : 간격\\]**\n",
    "    -   시작 index ~ (종료 index – 1)\n",
    "    -   간격을 지정하면 간격만큼 index를 증/감한다. (생략 시 1이 기본 간격)\n",
    "-   **0번 index 부터 조회 할 경우 시작 index는 생략가능**\n",
    "    -   리스트 \\[ : 5\\] => 0 ~ 4 까지 조회\n",
    "-   **마지막 index까지 (끝까지) 조회 할 경우 종료 index는 생략 가능**\n",
    "    -   리스트\\[2 : \\] => 2번 index 에서 끝까지\n",
    "-   **명시적으로 간격을 줄 경우**\n",
    "    -   리스트\\[ : : 3 \\] => 0, 3, 6, 9.. index의 값 조회\n",
    "    -   리스트\\[1 : 9 : 2\\] => 1, 3, 5, 7 index의 값 조회\n",
    "-   **시작 index > 종료 index, 간격을 음수로 하면 역으로 반환한다.(Reverse)**\n",
    "    -   리스트\\[5: 1: -1\\] => 5, 4, 3, 2 index의 값 조회\n",
    "    -   리스트\\[: : -1\\] => 마지막 index ~ 0번 index 까지 의미. Reverse 한다.\n",
    "\n",
    "#### slicing을 이용한 값 변경\n",
    "\n",
    "-   slicing 을 이용할 경우 slicing된 원소 개수와 동일한 개수의 값들을 대입한다.\n",
    "    -   `리스트[1:5] = 10,20,30,40` : index 1, 2, 3, 4의 값을 각각 10, 20, 30, 40 으로 변경\n"
   ]
  },
  {
   "cell_type": "code",
   "execution_count": 48,
   "id": "a758ab6d",
   "metadata": {},
   "outputs": [
    {
     "data": {
      "text/plain": [
       "[100000, 1, 2, 3, 4, 5, 6, 7, 8, 1.0]"
      ]
     },
     "execution_count": 48,
     "metadata": {},
     "output_type": "execute_result"
    }
   ],
   "source": [
    "l = [0,1,2,3,4,5,6,7,8,9]\n",
    "l[0]\n",
    "l[0] = 100_000\n",
    "l[-1] = 10e-1\n",
    "l"
   ]
  },
  {
   "cell_type": "code",
   "execution_count": 61,
   "id": "5d462776",
   "metadata": {
    "slideshow": {
     "slide_type": "fragment"
    }
   },
   "outputs": [
    {
     "data": {
      "text/plain": [
       "[100000, 1000, 1100, 1200, 120, 12, 6, 5, 4, 3, 4, 5, 6, 7, 8, 1.0]"
      ]
     },
     "execution_count": 61,
     "metadata": {},
     "output_type": "execute_result"
    }
   ],
   "source": [
    "# slicing\n",
    "l[1:3] = 1000, 1100, 1200\n",
    "l\n"
   ]
  },
  {
   "cell_type": "markdown",
   "id": "a4f9fe12",
   "metadata": {
    "slideshow": {
     "slide_type": "slide"
    }
   },
   "source": [
    "## List 연산자\n",
    "\n",
    "-   **리스트 + 리스트**\n",
    "    -   두 리스트의 원소들을 합친 리스트를 반환한다.\n",
    "-   **리스트 \\* 정수**\n",
    "    -   같은 리스트의 원소들을 정수번 합친 리스트를 반환한다.\n",
    "-   **in, not in 연산자**\n",
    "    -   값 in 리스트\n",
    "        -   리스트의 원소로 값이 **있으면** True, 없으면 False 반환\n",
    "    -   값 not in 리스트\n",
    "        -   리스트의 원소로 값이 **없으면** True, 있으면 False 반환\n",
    "-   **len(리스트)**\n",
    "    -   리스트 내의 원소수를 반환.\n"
   ]
  },
  {
   "cell_type": "code",
   "execution_count": null,
   "id": "db069ee7",
   "metadata": {},
   "outputs": [],
   "source": []
  },
  {
   "cell_type": "code",
   "execution_count": null,
   "id": "f085e817",
   "metadata": {
    "ExecuteTime": {
     "end_time": "2022-12-17T14:17:03.293505Z",
     "start_time": "2022-12-17T14:17:03.285501Z"
    },
    "slideshow": {
     "slide_type": "fragment"
    }
   },
   "outputs": [],
   "source": []
  },
  {
   "cell_type": "markdown",
   "id": "f90af754",
   "metadata": {
    "slideshow": {
     "slide_type": "slide"
    }
   },
   "source": [
    "## 중첩 리스트 (Nested List)\n",
    "\n",
    "-   List가 원소로 List를 가지는 것을 말한다.\n",
    "    -   List를 포함한 모든 자료구조 타입들도 다 값이므로 다른 자료구조의 원소로 들어갈 수 있다.\n"
   ]
  },
  {
   "cell_type": "code",
   "execution_count": 66,
   "id": "4f52b717",
   "metadata": {},
   "outputs": [
    {
     "data": {
      "text/plain": [
       "[[1, 2, 3], [10, 20, 30], [100, 200, 300]]"
      ]
     },
     "execution_count": 66,
     "metadata": {},
     "output_type": "execute_result"
    }
   ],
   "source": [
    "a = 10\n",
    "l1 = [2,3,4]\n",
    "l = [a,l1,5,6]\n",
    "l2 = [\n",
    "    [1,2,3],\n",
    "    [10,20,30],\n",
    "    [100,200,300]\n",
    "]\n",
    "l2"
   ]
  },
  {
   "cell_type": "markdown",
   "id": "826b8780",
   "metadata": {
    "slideshow": {
     "slide_type": "slide"
    }
   },
   "source": [
    "## List 주요 메소드\n",
    "\n",
    "| 메소드                       | 설명                                                                                 |\n",
    "| :--------------------------- | ------------------------------------------------------------------------------------ |\n",
    "| append(value)                | value를 추가한다.                                                                    |\n",
    "| extend(List)                 | List의 원소들을 추가한다.                                                            |\n",
    "| sort(\\[reverse=False\\])      | 원소들을 오름차순 정렬한다. reverse=True로 하면 내림차순정렬 한다.                   |\n",
    "| insert(index, 삽입할값)      | 지정한 index에 '삽입할값'을 삽입한다.                                                |\n",
    "| remove(삭제할값)             | '삭제할값' 값과 같은 원소를 삭제한다.                                                |\n",
    "| index(찾을값\\[, 시작index\\]) | '찾을값'의 index를 반환한다.                                                         |\n",
    "| pop(\\[index\\])               | index의 값을 반환하면서 삭제한다. index 생략하면 가장 마지막 값을 반환하며 삭제한다. |\n",
    "| count(값)                    | '값'이 리스트의 원소로 몇개 있는지 반환한다.                                         |\n",
    "| clear()                      | 리스트 안의 모든 원소들을 삭제한다.                                                  |\n"
   ]
  },
  {
   "cell_type": "code",
   "execution_count": 78,
   "id": "d3b5f8a7-4431-47f8-85d8-d9fd4525cd0b",
   "metadata": {},
   "outputs": [],
   "source": [
    "l1 = [0,1,2,3]\n",
    "l2 = [10,20,30]"
   ]
  },
  {
   "cell_type": "code",
   "execution_count": null,
   "id": "88441a33-f78e-4a61-ad93-f0e3f44d33be",
   "metadata": {},
   "outputs": [
    {
     "data": {
      "text/plain": [
       "[0, 1, 2, 3, 4]"
      ]
     },
     "execution_count": 67,
     "metadata": {},
     "output_type": "execute_result"
    }
   ],
   "source": [
    "l1.append(4) \n",
    "l1"
   ]
  },
  {
   "cell_type": "code",
   "execution_count": null,
   "id": "5df69b08-abfc-46fd-a7ce-5ae3fbb48979",
   "metadata": {
    "slideshow": {
     "slide_type": "fragment"
    }
   },
   "outputs": [],
   "source": [
    "l1.extend(l2) #list형식을 가져오면 value만 추가됨"
   ]
  },
  {
   "cell_type": "code",
   "execution_count": 79,
   "id": "5347409d-5e3b-4cba-905c-3d29ffa17a98",
   "metadata": {
    "slideshow": {
     "slide_type": "fragment"
    }
   },
   "outputs": [
    {
     "data": {
      "text/plain": [
       "[0, 1, 0, 2, 3]"
      ]
     },
     "execution_count": 79,
     "metadata": {},
     "output_type": "execute_result"
    }
   ],
   "source": [
    "l1.insert(2,0)\n",
    "l1"
   ]
  },
  {
   "cell_type": "code",
   "execution_count": 103,
   "id": "e02f2e59-75e8-48f4-a069-f6e2798bd290",
   "metadata": {},
   "outputs": [],
   "source": [
    "l3 = [0,1,2,3,-0.1,0.2,300,20,50] #0.1 실수는 0다음으로 간다"
   ]
  },
  {
   "cell_type": "code",
   "execution_count": 101,
   "id": "9c2e8b87-9d53-4e5c-897d-3d658da3073a",
   "metadata": {},
   "outputs": [
    {
     "name": "stdout",
     "output_type": "stream",
     "text": [
      "[0, 0.1, 0.2, 1, 2, 3, 20, 50, 300]\n"
     ]
    },
    {
     "data": {
      "text/plain": [
       "[0, 1, 2, 3, 0.1, 0.2, 300, 20, 50]"
      ]
     },
     "execution_count": 101,
     "metadata": {},
     "output_type": "execute_result"
    }
   ],
   "source": [
    "sorted(l3) #sorted 함수는 내용을 변경하지 않는다. func는 반환값을 따로 저장. method는 해당 값 변경 \n",
    "l3"
   ]
  },
  {
   "cell_type": "code",
   "execution_count": 104,
   "id": "2525ca16-b72b-41f5-a055-c2f5d027d932",
   "metadata": {},
   "outputs": [
    {
     "data": {
      "text/plain": [
       "[-0.1, 0, 0.2, 1, 2, 3, 20, 50, 300]"
      ]
     },
     "execution_count": 104,
     "metadata": {},
     "output_type": "execute_result"
    }
   ],
   "source": [
    "l3.sort()\n",
    "l3"
   ]
  },
  {
   "cell_type": "code",
   "execution_count": 113,
   "id": "6f3e42f2-c645-4c5e-aef6-8d5957d20c91",
   "metadata": {},
   "outputs": [
    {
     "data": {
      "text/plain": [
       "3"
      ]
     },
     "execution_count": 113,
     "metadata": {},
     "output_type": "execute_result"
    }
   ],
   "source": [
    "l3.pop()"
   ]
  },
  {
   "cell_type": "code",
   "execution_count": null,
   "id": "5172ce23-d34f-49d1-93c3-5b9023618c39",
   "metadata": {},
   "outputs": [],
   "source": [
    "# "
   ]
  },
  {
   "cell_type": "markdown",
   "id": "5b28f033",
   "metadata": {
    "slideshow": {
     "slide_type": "slide"
    }
   },
   "source": [
    "# Tuple (튜플)\n",
    "\n",
    "-   List와 같이 순서대로 원소들을 관리한다. 단 저장된 원소를 변경할 수 없다.\n",
    "-   Tuple 은 각 위치(Index) 마다 정해진 의미가 있고 그 값이 한번 설정되면 바뀌지 않는 경우에 사용한다.\n",
    "    -   Tuple은 값의 변경되지 않으므로 안전하다.\n",
    "\n",
    "## Tuple 생성\n",
    "\n",
    "-   `(value, value, value, ...)`\n",
    "-   소괄호를 생략할 수 있다.\n",
    "-   원소가 하나인 Tuple 표현식\n",
    "    -   `(value,)` 또는 `value,`\n",
    "        -   값 뒤에 `,` 를 붙여준다. `,`를 붙이지 않으면 ( )가 연산자 우선순위 괄호가 된다.\n"
   ]
  },
  {
   "cell_type": "code",
   "execution_count": 122,
   "id": "f7f96391",
   "metadata": {},
   "outputs": [
    {
     "data": {
      "text/plain": [
       "(1, 2, 3, [4, 5])"
      ]
     },
     "execution_count": 122,
     "metadata": {},
     "output_type": "execute_result"
    }
   ],
   "source": [
    "t1= (1,2,3,[4,5])\n",
    "t1"
   ]
  },
  {
   "cell_type": "code",
   "execution_count": 123,
   "id": "17099a9e",
   "metadata": {
    "slideshow": {
     "slide_type": "fragment"
    }
   },
   "outputs": [],
   "source": [
    "t1[3].append(6) #Tuple은 선언시 정의된 원소값은 변경할 수 없지만 원소가 가지고 있는 원소는 바꿀 수 있다"
   ]
  },
  {
   "cell_type": "code",
   "execution_count": 124,
   "id": "6c5706be-5a65-42f3-9fbb-4f75ebf7f1b7",
   "metadata": {},
   "outputs": [
    {
     "data": {
      "text/plain": [
       "(1, 2, 3, [4, 5, 6])"
      ]
     },
     "execution_count": 124,
     "metadata": {},
     "output_type": "execute_result"
    }
   ],
   "source": [
    "t1"
   ]
  },
  {
   "cell_type": "code",
   "execution_count": 132,
   "id": "407f5ef3-3488-401f-acd1-2bc18ea0701c",
   "metadata": {},
   "outputs": [
    {
     "data": {
      "text/plain": [
       "100"
      ]
     },
     "execution_count": 132,
     "metadata": {},
     "output_type": "execute_result"
    }
   ],
   "source": [
    "t2 = (100,)\n",
    "t2[0]"
   ]
  },
  {
   "cell_type": "markdown",
   "id": "16954356",
   "metadata": {
    "jp-MarkdownHeadingCollapsed": true,
    "slideshow": {
     "slide_type": "slide"
    }
   },
   "source": [
    "## Indexing과 Slicing을 이용한 원소(element) 조회\n",
    "\n",
    "-   리스트와 동일하다.\n",
    "-   단 튜플은 조회만 가능하고 원소를 변경할 수 없다.\n"
   ]
  },
  {
   "cell_type": "code",
   "execution_count": null,
   "id": "fa92bc45",
   "metadata": {},
   "outputs": [],
   "source": []
  },
  {
   "cell_type": "code",
   "execution_count": null,
   "id": "6c5b9b2c",
   "metadata": {
    "slideshow": {
     "slide_type": "fragment"
    }
   },
   "outputs": [],
   "source": []
  },
  {
   "cell_type": "markdown",
   "id": "135101f3",
   "metadata": {
    "slideshow": {
     "slide_type": "slide"
    }
   },
   "source": [
    "## Tuple 연산자\n",
    "\n",
    "-   **tuple + tuple**\n",
    "    -   두 tuple의 원소들을 합친 tuple을 반환한다.\n",
    "-   **tuple \\* 정수**\n",
    "    -   같은 tuple의 원소들을 정수번 합친 tuple를 반환한다.\n",
    "-   **in, not in 연산자**\n",
    "    -   값 in tuple\n",
    "        -   tuple의 원소로 값이 **있으면** True, 없으면 False 반환\n",
    "    -   값 not in tuple\n",
    "        -   tuple의 원소로 값이 **없으면** True, 있으면 False 반환\n",
    "-   **len(tuple)**\n",
    "    -   tuple의 원소 개수 반환\n"
   ]
  },
  {
   "cell_type": "code",
   "execution_count": 108,
   "id": "c39c878c",
   "metadata": {},
   "outputs": [
    {
     "data": {
      "text/plain": [
       "(1, 2, 3, {'a': 4, 'b': 5})"
      ]
     },
     "execution_count": 108,
     "metadata": {},
     "output_type": "execute_result"
    }
   ],
   "source": [
    "#Tuple 자료형 test\n",
    "t1 = (1,2,3,[4,5]) #List 자료형 가능\n",
    "t1\n",
    "t1 = (1,2,3,{4,5}) #set 자료형 가능\n",
    "t1\n",
    "t1 = (1,2,3,{\"a\":4,\"b\":5}) #dict 자료형 가능\n",
    "t1"
   ]
  },
  {
   "cell_type": "code",
   "execution_count": 145,
   "id": "5903e00f",
   "metadata": {
    "slideshow": {
     "slide_type": "fragment"
    }
   },
   "outputs": [
    {
     "name": "stdout",
     "output_type": "stream",
     "text": [
      "(1, 2, 3, 10, 4, 5, 6)\n",
      "[10, 6, 5, 4, 3, 2, 1]\n",
      "(1, 2, 3, 10, 4, 5, 6)\n"
     ]
    }
   ],
   "source": [
    "t1 = (1,2,3,10)\n",
    "t2 = (4,5,6)\n",
    "t3 = t1 + t2\n",
    "print(t3)\n",
    "print(sorted(t3,reverse=True)) #Tuple을 sorted() fuct실행하면 List을 뱉는다\n",
    "print(t3)"
   ]
  },
  {
   "cell_type": "markdown",
   "id": "89803fdd",
   "metadata": {
    "slideshow": {
     "slide_type": "subslide"
    }
   },
   "source": [
    "## Tuple의 주요 메소드\n",
    "\n",
    "| 메소드                        | 설명                                |\n",
    "| :---------------------------- | ----------------------------------- |\n",
    "| index(찾을값 \\[, 시작index\\]) | '찾을값'이 몇번 index인지 반환한다. |\n",
    "| count(값)                     | 원소로 '값'이 몇개 있는지 반환한다. |\n"
   ]
  },
  {
   "cell_type": "code",
   "execution_count": 146,
   "id": "e8e4d78e",
   "metadata": {},
   "outputs": [],
   "source": [
    "t10 = (100,2,4,5,130,400)"
   ]
  },
  {
   "cell_type": "code",
   "execution_count": 147,
   "id": "93a527af",
   "metadata": {
    "slideshow": {
     "slide_type": "fragment"
    }
   },
   "outputs": [
    {
     "data": {
      "text/plain": [
       "3"
      ]
     },
     "execution_count": 147,
     "metadata": {},
     "output_type": "execute_result"
    }
   ],
   "source": [
    "t10[::-1].index(4)"
   ]
  },
  {
   "cell_type": "markdown",
   "id": "e6c196f5",
   "metadata": {
    "slideshow": {
     "slide_type": "slide"
    }
   },
   "source": [
    "# Dictionary\n",
    "\n",
    "-   값을 키(key)-값(value) 쌍으로 묶어서 저장하는 자료구조이다.\n",
    "    -   리스트나 튜플의 index의 역할을 하는 key를 직접 지정한다.\n",
    "    -   서로 의미가 다른 값들을 하나로 묶을 때 그 값의 의미를 key로 가질 수 있는 dictionary를 사용한다.\n",
    "        -   cf) 값의 의미가 같을 경우 List나 Tuple을 사용한다.\n",
    "    -   key-value 쌍으로 묶은 데이터 한개를 **item 또는 entry**라고 한다.\n",
    "    -   key는 중복을 허용하지 않고 value는 중복을 허용한다.\n",
    "\n",
    "## Dictionary 생성\n",
    "\n",
    "-   구문\n",
    "    1. `{ 키 : 값, 키 : 값, 키 : 값 }`\n",
    "    2. dict(key=value, key=value) 함수 이용\n",
    "    -   키(key)는 불변(Immutable)의 값들만 사용 가능하다. (숫자, 문자열, 튜플) 일반적으로 문자열을 사용한다.\n",
    "    -   dict() 함수를 사용할 경우 key는 변수로 정의한다\n"
   ]
  },
  {
   "cell_type": "code",
   "execution_count": null,
   "id": "18611386",
   "metadata": {},
   "outputs": [],
   "source": [
    "# JSON format과 동일, 데이터를 공유할 때 많이 사용"
   ]
  },
  {
   "cell_type": "code",
   "execution_count": 156,
   "id": "d9d37f28",
   "metadata": {
    "slideshow": {
     "slide_type": "fragment"
    }
   },
   "outputs": [
    {
     "data": {
      "text/plain": [
       "['영화감상', '독서', '음악감상']"
      ]
     },
     "execution_count": 156,
     "metadata": {},
     "output_type": "execute_result"
    }
   ],
   "source": [
    "d1 = {\n",
    "    \"이름\" : \"홍길동\",\n",
    "    \"나이\" : 20,\n",
    "    \"결혼여부\" : False,\n",
    "    \"취미\" : [\"영화감상\", \"독서\", \"음악감상\"]\n",
    "}\n",
    "d1[\"취미\"]"
   ]
  },
  {
   "cell_type": "code",
   "execution_count": 164,
   "id": "a54ce957-4cfa-4f32-b9ec-2433db692504",
   "metadata": {},
   "outputs": [
    {
     "data": {
      "text/plain": [
       "{'이름': '홍길동', '나이': 30, '주소': '서울시 금천구', '취미': ['게임', '야구']}"
      ]
     },
     "execution_count": 164,
     "metadata": {},
     "output_type": "execute_result"
    }
   ],
   "source": [
    "d2 = dict(이름 = \"홍길동\", 나이=30, 주소=\"서울시 금천구\", 취미=[\"게임\",\"야구\"]) #dict func은 key값을 \"\"생략가능, 문자열로 저장\n",
    "d2"
   ]
  },
  {
   "cell_type": "markdown",
   "id": "f8c87bd3",
   "metadata": {
    "slideshow": {
     "slide_type": "subslide"
    }
   },
   "source": [
    "## Dictionary 원소 조회 및 변경\n",
    "\n",
    "-   조회: index에 key값을 식별자로 지정한다.\n",
    "    -   dictionary\\[ key \\]\n",
    "    -   없는 키로 조회 시 KeyError 발생\n",
    "-   변경\n",
    "    -   dictionary\\[ key \\] = 값\n",
    "    -   있는 key값에 값을 대입하면 변경이고 없는 key 일 경우는 새로운 item을 추가하는 것이다.\n"
   ]
  },
  {
   "cell_type": "code",
   "execution_count": null,
   "id": "5c8cec2f",
   "metadata": {},
   "outputs": [],
   "source": []
  },
  {
   "cell_type": "code",
   "execution_count": null,
   "id": "459db630",
   "metadata": {
    "slideshow": {
     "slide_type": "fragment"
    }
   },
   "outputs": [],
   "source": []
  },
  {
   "cell_type": "markdown",
   "id": "d5aade1e",
   "metadata": {
    "slideshow": {
     "slide_type": "slide"
    }
   },
   "source": [
    "## Dictionary 연산자\n",
    "\n",
    "-   **in, not in 연산자**\n",
    "    -   값 in dictionary\n",
    "        -   dictionary의 **Key**로 값이 **있으면** True, 없으면 False 반환\n",
    "    -   값 not in dictionary\n",
    "        -   dictionary의 **Key**로 값이 **없으면** True, 있으면 False 반환\n",
    "-   **len(dictionary)**\n",
    "    -   dictionary의 **Item의 개수** 반환\n"
   ]
  },
  {
   "cell_type": "code",
   "execution_count": null,
   "id": "71449891",
   "metadata": {},
   "outputs": [],
   "source": [
    "# dict은 합치기가 없음"
   ]
  },
  {
   "cell_type": "code",
   "execution_count": null,
   "id": "4a7c9061",
   "metadata": {
    "slideshow": {
     "slide_type": "fragment"
    }
   },
   "outputs": [],
   "source": []
  },
  {
   "cell_type": "markdown",
   "id": "9f620ec1",
   "metadata": {
    "slideshow": {
     "slide_type": "slide"
    }
   },
   "source": [
    "## Dictionary 주요 메소드\n",
    "\n",
    "| 메소드               | 설명                                                                               |\n",
    "| :------------------- | ---------------------------------------------------------------------------------- |\n",
    "| get(key\\[, 기본값\\]) | key의 item의 값을 반환한다. 단 key가 없을 경우 None또는 기본값을 반환한다.         |\n",
    "| pop(key)             | key의 item의 값을 반환하면서 dictionary에서 삭제한다. 없는 key일 경우 KeyError발생 |\n",
    "| clear()              | dictionary의 모든 item들을 삭제한다.                                               |\n",
    "| del dict\\[key\\]      | key의 item을 제거한다.                                                             |\n",
    "| items()              | item의 key, value를 튜플로 묶어 모아 반환한다.                                     |\n",
    "| keys()               | key값들만 모아 반환한다.                                                           |\n",
    "| values()             | value값들만 모아 반환한다.                                                         |\n"
   ]
  },
  {
   "cell_type": "code",
   "execution_count": 177,
   "id": "55f208b6",
   "metadata": {},
   "outputs": [
    {
     "data": {
      "text/plain": [
       "'키 없다'"
      ]
     },
     "execution_count": 177,
     "metadata": {},
     "output_type": "execute_result"
    }
   ],
   "source": [
    "d1.get('이름')\n",
    "r = d1.get('있을리없어') #key값이 없음면 None Return\n",
    "if r != None else \"키 없다\""
   ]
  },
  {
   "cell_type": "code",
   "execution_count": 179,
   "id": "10f525f7-05fa-4530-82e6-01fb32e48717",
   "metadata": {},
   "outputs": [
    {
     "data": {
      "text/plain": [
       "'키 없다고'"
      ]
     },
     "execution_count": 179,
     "metadata": {},
     "output_type": "execute_result"
    }
   ],
   "source": [
    "r if r is not None else \"키 없다고\""
   ]
  },
  {
   "cell_type": "code",
   "execution_count": 180,
   "id": "00fbc86a-2bdf-4417-8a40-41777c591f13",
   "metadata": {},
   "outputs": [
    {
     "data": {
      "text/plain": [
       "True"
      ]
     },
     "execution_count": 180,
     "metadata": {},
     "output_type": "execute_result"
    }
   ],
   "source": [
    "r is None"
   ]
  },
  {
   "cell_type": "code",
   "execution_count": 183,
   "id": "350e7ad5",
   "metadata": {
    "slideshow": {
     "slide_type": "fragment"
    }
   },
   "outputs": [
    {
     "data": {
      "text/plain": [
       "dict_keys"
      ]
     },
     "execution_count": 183,
     "metadata": {},
     "output_type": "execute_result"
    }
   ],
   "source": [
    "type(d1.keys()) # dict_keys 객체 return"
   ]
  },
  {
   "cell_type": "code",
   "execution_count": 185,
   "id": "99c2ad39-3df7-47cf-84fe-3b328cb973fa",
   "metadata": {},
   "outputs": [
    {
     "data": {
      "text/plain": [
       "'없는데'"
      ]
     },
     "execution_count": 185,
     "metadata": {},
     "output_type": "execute_result"
    }
   ],
   "source": [
    "d1.get(\"없는키\", \"없는데\") #key값이 없을경우 2번째 인자 return"
   ]
  },
  {
   "cell_type": "code",
   "execution_count": 186,
   "id": "30114ccf-81b4-40a1-9b1f-a4e6adc32e7d",
   "metadata": {},
   "outputs": [
    {
     "data": {
      "text/plain": [
       "['영화감상', '독서', '음악감상']"
      ]
     },
     "execution_count": 186,
     "metadata": {},
     "output_type": "execute_result"
    }
   ],
   "source": [
    "d1.get(\"취미\",\"없을때\")"
   ]
  },
  {
   "cell_type": "code",
   "execution_count": 201,
   "id": "66910933-6cf6-4a96-9cc2-db2a8dd72e54",
   "metadata": {},
   "outputs": [],
   "source": [
    "#주소 추가\n",
    "d1[\"주소\"] = \"서울 어디\" #추가 method가 따로 없음"
   ]
  },
  {
   "cell_type": "code",
   "execution_count": 199,
   "id": "98fcc7ee-c631-455b-a1fb-aad6ad7d88f5",
   "metadata": {},
   "outputs": [],
   "source": [
    "del d1[\"주소\"]"
   ]
  },
  {
   "cell_type": "code",
   "execution_count": 208,
   "id": "7d4433ee-4928-466a-b764-8db72cbb5de0",
   "metadata": {},
   "outputs": [
    {
     "data": {
      "text/plain": [
       "dict_values(['홍길동', 20, False, ['영화감상', '독서', '음악감상'], '서울 어디'])"
      ]
     },
     "execution_count": 208,
     "metadata": {},
     "output_type": "execute_result"
    }
   ],
   "source": [
    "values = d1.values()\n",
    "values"
   ]
  },
  {
   "cell_type": "code",
   "execution_count": 209,
   "id": "44eacd46-0b7a-4630-b63c-ccd867475402",
   "metadata": {},
   "outputs": [
    {
     "data": {
      "text/plain": [
       "dict_items([('이름', '홍길동'), ('나이', 20), ('결혼여부', False), ('취미', ['영화감상', '독서', '음악감상']), ('주소', '서울 어디')])"
      ]
     },
     "execution_count": 209,
     "metadata": {},
     "output_type": "execute_result"
    }
   ],
   "source": [
    "items = d1.items()\n",
    "items"
   ]
  },
  {
   "cell_type": "code",
   "execution_count": 215,
   "id": "410bde5c-3315-4291-940a-6fc401994558",
   "metadata": {},
   "outputs": [],
   "source": [
    "#dict_key, values, items 객체를 활용하는 방법이 궁금"
   ]
  },
  {
   "cell_type": "markdown",
   "id": "d97869af",
   "metadata": {
    "slideshow": {
     "slide_type": "slide"
    }
   },
   "source": [
    "# Set\n",
    "\n",
    "-   Set은 중복되는 값을 허용하지 않고 순서를 신경 쓰지 않는다.\n",
    "    -   원소를 식별할 수 있는 식별자가 없기 때문에 Set은 indexing과 slicing을 지원하지 않는다\n",
    "\n",
    "## Set 생성\n",
    "\n",
    "-   구문\n",
    "    -   {값, 값, 값 }\n",
    "\n",
    "> -   빈 Dictionary 만들기\n",
    ">     -   info = {}\n",
    ">     -   중괄호만 사용하면 빈 set이 아니라 빈 dictionary를 생성하는 것임.\n"
   ]
  },
  {
   "cell_type": "code",
   "execution_count": null,
   "id": "304f16ea",
   "metadata": {},
   "outputs": [],
   "source": [
    "#개별 식별자가 없다?? >> 특정 값을 불러올 수 없다"
   ]
  },
  {
   "cell_type": "code",
   "execution_count": null,
   "id": "5c88480a",
   "metadata": {
    "slideshow": {
     "slide_type": "fragment"
    }
   },
   "outputs": [],
   "source": []
  },
  {
   "cell_type": "markdown",
   "id": "56693efe-8da2-4794-b647-65e78d0eaf89",
   "metadata": {
    "slideshow": {
     "slide_type": "slide"
    }
   },
   "source": [
    "## Set 연산자\n",
    "\n",
    "-   **in, not in 연산자**\n",
    "    -   값 in Set\n",
    "        -   Set의 원소로 값이 **있으면** True, 없으면 False 반환\n",
    "    -   값 not in Set\n",
    "        -   Set의 원소로 값이 **없으면** True, 있으면 False 반환\n",
    "-   **len(Set)**\n",
    "    -   Set의 **원소의 개수** 반환\n",
    "-   **[집합연산자](#Set의-집합연산-연산자-및-메소드)**\n"
   ]
  },
  {
   "cell_type": "code",
   "execution_count": 231,
   "id": "1c530013",
   "metadata": {},
   "outputs": [
    {
     "data": {
      "text/plain": [
       "{1, 2, 3, 4, 5, 6, 7, 'a', 'b', 'c', '문자1', '문자2'}"
      ]
     },
     "execution_count": 231,
     "metadata": {},
     "output_type": "execute_result"
    }
   ],
   "source": [
    "s1 = {\"b\",5,\"c\",3,\"문자2\",4,\"a\",3,2,4,5,6,3,3,7,7,2,3,4,1,2,3,4,\"문자1\"} #자료구조를 만들 때 sort를 하는듯\n",
    "s1"
   ]
  },
  {
   "cell_type": "code",
   "execution_count": 230,
   "id": "80be18ad",
   "metadata": {
    "slideshow": {
     "slide_type": "fragment"
    }
   },
   "outputs": [
    {
     "name": "stdout",
     "output_type": "stream",
     "text": [
      "1\n",
      "2\n",
      "3\n",
      "4\n",
      "5\n",
      "6\n",
      "7\n",
      "문자2\n",
      "b\n",
      "c\n",
      "a\n",
      "문자1\n"
     ]
    }
   ],
   "source": [
    "for v in s1:\n",
    "    print(v) #for문은 숫자만 sorting, 문자는 sorting을 안한다"
   ]
  },
  {
   "cell_type": "code",
   "execution_count": 233,
   "id": "4829e365-39a5-4526-8a4e-bd43c72f8a47",
   "metadata": {},
   "outputs": [],
   "source": [
    "s1.add(3) #중복된 값은 추가하지 않는다"
   ]
  },
  {
   "cell_type": "code",
   "execution_count": 235,
   "id": "94f0fc57-0d88-4a88-9eb1-aecc3f5ba882",
   "metadata": {},
   "outputs": [
    {
     "data": {
      "text/plain": [
       "{1, 10, 2, 20, 3, 30, 4, 5, 50, 6, 7, 'a', 'b', 'c', '문자1', '문자2'}"
      ]
     },
     "execution_count": 235,
     "metadata": {},
     "output_type": "execute_result"
    }
   ],
   "source": [
    "s1.update([10,50,30,20,3,2])\n",
    "s1"
   ]
  },
  {
   "cell_type": "markdown",
   "id": "080c2a17",
   "metadata": {
    "slideshow": {
     "slide_type": "slide"
    }
   },
   "source": [
    "## Set의 주요 메소드\n",
    "\n",
    "| 메소드           | 설명                                   |\n",
    "| ---------------- | -------------------------------------- |\n",
    "| add(값)          | 집합에 값 추가                         |\n",
    "| update(자료구조) | 자료구조내의 원소들을 모두 집합에 추가 |\n",
    "| pop()            | 원소를 반환하고 Set에서 삭제한다.      |\n",
    "| remove(값)       | 값을 찾아서 Set에서 삭제한다.          |\n"
   ]
  },
  {
   "cell_type": "code",
   "execution_count": 246,
   "id": "6ec0eee0",
   "metadata": {},
   "outputs": [
    {
     "data": {
      "text/plain": [
       "10"
      ]
     },
     "execution_count": 246,
     "metadata": {},
     "output_type": "execute_result"
    }
   ],
   "source": [
    "str1 = s1.pop() #인자가 없다 첫번째만 반환\n",
    "str1"
   ]
  },
  {
   "cell_type": "markdown",
   "id": "33d115cd",
   "metadata": {
    "slideshow": {
     "slide_type": "subslide"
    }
   },
   "source": [
    "## Set의 집합연산 연산자 및 메소드\n",
    "\n",
    "-   합집합\n",
    "    -   집합A | 집합B\n",
    "    -   집합A.union(집합B)\n",
    "-   교집합\n",
    "    -   집합A & 집합B\n",
    "    -   집합A.intersection(집합B)\n",
    "-   차집합\n",
    "    -   집합A - 집합B\n",
    "    -   집합A.difference(집합B)\n"
   ]
  },
  {
   "cell_type": "code",
   "execution_count": 255,
   "id": "b12f08b0",
   "metadata": {
    "slideshow": {
     "slide_type": "fragment"
    }
   },
   "outputs": [
    {
     "data": {
      "text/plain": [
       "{1, 2, 3}"
      ]
     },
     "execution_count": 255,
     "metadata": {},
     "output_type": "execute_result"
    }
   ],
   "source": [
    "s1 = {1,2,3,4}\n",
    "s2 = {4,5,6,7}\n",
    "s1.union(s2) #s1 | s2\n",
    "s1.intersection(s2) #s1 & s2\n",
    "s1.difference(s2) #s1 - s2"
   ]
  },
  {
   "cell_type": "code",
   "execution_count": null,
   "id": "e2d43f89",
   "metadata": {},
   "outputs": [],
   "source": []
  },
  {
   "cell_type": "markdown",
   "id": "17bf4f71",
   "metadata": {},
   "source": [
    "# 자료구조를 이용한 대입\n",
    "\n",
    "-   리스트, 튜플, 셋의 원소들을 개별 변수에 대입한다. 어느 자료구조에 적용하느냐에 따라 **리스트 대입, 튜플 대입, 셋 대입** 이라고 한다. 이중 리스트대입이나 튜플대입은 많이 사용된다.\n",
    "-   변수의 개수와 리스트 원소의 개수는 동일해야 한다.\n"
   ]
  },
  {
   "cell_type": "code",
   "execution_count": null,
   "id": "73b925bb",
   "metadata": {},
   "outputs": [],
   "source": [
    "a,b,c,d = 10,20,30,\"가\" #Tuple대입"
   ]
  },
  {
   "cell_type": "code",
   "execution_count": 256,
   "id": "64bf5839",
   "metadata": {
    "slideshow": {
     "slide_type": "fragment"
    }
   },
   "outputs": [
    {
     "name": "stdout",
     "output_type": "stream",
     "text": [
      "True False True\n"
     ]
    }
   ],
   "source": [
    "x,y,z = [True, False, True] #list대입\n",
    "print(x,y,z)"
   ]
  },
  {
   "cell_type": "code",
   "execution_count": 258,
   "id": "28ab7377-0bab-450e-976c-ad1d1aaad76b",
   "metadata": {},
   "outputs": [
    {
     "name": "stdout",
     "output_type": "stream",
     "text": [
      "200 100 400 300\n"
     ]
    }
   ],
   "source": [
    "l,m,n,o = {100,200,300,400} #set대입\n",
    "print(l,m,n,o)"
   ]
  },
  {
   "cell_type": "code",
   "execution_count": 261,
   "id": "94733403-50e1-42c9-af0a-f41a2c94d3d7",
   "metadata": {},
   "outputs": [
    {
     "name": "stdout",
     "output_type": "stream",
     "text": [
      "10 20 30\n"
     ]
    }
   ],
   "source": [
    "l1 = [10, 20, 30]\n",
    "x, y, z = l1\n",
    "print(x,y,z)"
   ]
  },
  {
   "cell_type": "markdown",
   "id": "a3778f41",
   "metadata": {
    "slideshow": {
     "slide_type": "slide"
    }
   },
   "source": [
    "# 자료구조 변환 함수\n",
    "\n",
    "-   **list(자료구조)**\n",
    "    -   대상 자료구조/Iterable을 List로 변환한다.\n",
    "-   **tuple(자료구조)**\n",
    "    -   대상 자료구조/Iterable을 Tuple로 변환\n",
    "-   **set(자료구조)**\n",
    "    -   대상 자료구조/Iterable을 Set으로 변환\n",
    "    -   다른 자료구조의 원소 중 중복을 빼고 조회할 때 set()를 이용해 Set으로 변환한다.\n",
    "-   Dictionary로 변환하는 함수는 없다.\n",
    "    -   dict(key=value, ..) 는 딕셔너리 생성하는 함수이다.\n",
    "-   변경 대상이 Dictionary 일 경우에는 key값들만 모아서 변환한다.\n",
    "\n",
    "> -   **Iterable**\n",
    ">     -   반복가능한 객체.\n",
    ">     -   여러개의 값을 요청을 받을 때마다 하나씩 제공해주는 타입을 iterable 이라고 함.\n",
    ">         -   Iterable이 제공하는 값을 반복문을 이용해 조회할 경우 **for in문**을 사용한다.\n",
    ">     -   대표적으로 자료구조, 문자열 등이 있다.\n"
   ]
  },
  {
   "cell_type": "code",
   "execution_count": 265,
   "id": "07fd6373",
   "metadata": {
    "slideshow": {
     "slide_type": "fragment"
    }
   },
   "outputs": [
    {
     "data": {
      "text/plain": [
       "[1, 2, 5, 1, 20, -2, 0.2, 30, 1, 6, 3, 2, 4, 2]"
      ]
     },
     "execution_count": 265,
     "metadata": {},
     "output_type": "execute_result"
    }
   ],
   "source": [
    "t1 = 1,2,5,1,20,-2,0.2,30,1,6,3,2,4,2\n",
    "l1 = list(t1)\n",
    "l1"
   ]
  },
  {
   "cell_type": "code",
   "execution_count": 267,
   "id": "faaeed14-9ae4-4534-b525-1e31a2a207fc",
   "metadata": {},
   "outputs": [
    {
     "data": {
      "text/plain": [
       "['이름', '나이', '결혼여부', '취미', '주소']"
      ]
     },
     "execution_count": 267,
     "metadata": {},
     "output_type": "execute_result"
    }
   ],
   "source": [
    "d1_keys = list(d1)\n",
    "d1_keys"
   ]
  },
  {
   "cell_type": "code",
   "execution_count": null,
   "id": "bb4160b3-848a-4633-8ff9-e90deede44f8",
   "metadata": {},
   "outputs": [],
   "source": [
    "#for문을 돌릴 수 있으면 iterable "
   ]
  },
  {
   "cell_type": "code",
   "execution_count": 268,
   "id": "35c6a7e3-f8db-41d5-a7e7-1279105428a2",
   "metadata": {},
   "outputs": [
    {
     "name": "stdout",
     "output_type": "stream",
     "text": [
      "a\n",
      "b\n",
      "c\n",
      "d\n",
      "e\n"
     ]
    }
   ],
   "source": [
    "for v in \"abcde\":\n",
    "    print(v)"
   ]
  },
  {
   "cell_type": "code",
   "execution_count": 275,
   "id": "9e9d74a8-8fb3-4224-8e1b-a808160c5080",
   "metadata": {},
   "outputs": [],
   "source": [
    "l1 = list(\"abcdef\")"
   ]
  },
  {
   "cell_type": "code",
   "execution_count": 270,
   "id": "db01d8d2-fd72-46e7-a800-164167b4051e",
   "metadata": {},
   "outputs": [
    {
     "data": {
      "text/plain": [
       "('가', '나', '다', '라', '마', '아', '마', '마', '아')"
      ]
     },
     "execution_count": 270,
     "metadata": {},
     "output_type": "execute_result"
    }
   ],
   "source": [
    "tuple(\"가나다라마아마마아\")"
   ]
  },
  {
   "cell_type": "code",
   "execution_count": 271,
   "id": "5c5778f4-2938-4407-b8d9-cfb4f83cee81",
   "metadata": {},
   "outputs": [
    {
     "data": {
      "text/plain": [
       "{' ', 'a', 'd', 'e', 'h', 'l', 'm', 'n', 'o', 'r', 'w', 'y'}"
      ]
     },
     "execution_count": 271,
     "metadata": {},
     "output_type": "execute_result"
    }
   ],
   "source": [
    "set(\"hello world hello my name\")"
   ]
  },
  {
   "cell_type": "code",
   "execution_count": 277,
   "id": "d64bb10d-3273-4ac8-a436-e6101fbd2083",
   "metadata": {},
   "outputs": [
    {
     "data": {
      "text/plain": [
       "'a,b,c,d,e,f'"
      ]
     },
     "execution_count": 277,
     "metadata": {},
     "output_type": "execute_result"
    }
   ],
   "source": [
    "#자료구조의 문자열들을 한 문자열로 합치기\n",
    "## 구분자.join(합칠대상_iterable)\n",
    "\",\".join(l1)"
   ]
  },
  {
   "cell_type": "markdown",
   "id": "b4671a5d",
   "metadata": {
    "slideshow": {
     "slide_type": "skip"
    }
   },
   "source": [
    "# TODO\n"
   ]
  },
  {
   "cell_type": "code",
   "execution_count": 287,
   "id": "28fe919d-26b0-44d5-8312-4025e7ceb15c",
   "metadata": {
    "slideshow": {
     "slide_type": "skip"
    }
   },
   "outputs": [],
   "source": [
    "# 문제 1 ~ 7\n",
    "jumsu = [100, 90, 100, 80, 70, 100, 80, 90, 95, 85]\n",
    "# 위 리스트는 학생번호 1번 ~ 10번까지 10명의 시험 점수이다."
   ]
  },
  {
   "cell_type": "code",
   "execution_count": 279,
   "id": "cb972b27-d8fd-401e-a63a-a03d3ac2de58",
   "metadata": {
    "slideshow": {
     "slide_type": "skip"
    }
   },
   "outputs": [
    {
     "name": "stdout",
     "output_type": "stream",
     "text": [
      "80\n"
     ]
    }
   ],
   "source": [
    "# (1)  7번의 점수를 출력하세요\n",
    "print(jumsu[6])"
   ]
  },
  {
   "cell_type": "code",
   "execution_count": 280,
   "id": "bb82bae2-fa20-42f9-b81a-99e5d26c91ca",
   "metadata": {
    "slideshow": {
     "slide_type": "skip"
    }
   },
   "outputs": [
    {
     "name": "stdout",
     "output_type": "stream",
     "text": [
      "[100, 90, 100, 80, 70]\n"
     ]
    }
   ],
   "source": [
    "# (2)  1번부터 5번까지의 점수를 출력하세요.\n",
    "print(jumsu[0:5])"
   ]
  },
  {
   "cell_type": "code",
   "execution_count": 282,
   "id": "81ea0373-7177-4abc-9cda-7acf5526e435",
   "metadata": {
    "slideshow": {
     "slide_type": "skip"
    }
   },
   "outputs": [
    {
     "name": "stdout",
     "output_type": "stream",
     "text": [
      "[80, 70, 100, 80]\n"
     ]
    }
   ],
   "source": [
    "# (3)  4, 5, 6, 7번의 점수를 출력하세요.\n",
    "print(jumsu[3:7])"
   ]
  },
  {
   "cell_type": "code",
   "execution_count": 284,
   "id": "f4ec1561-caf4-43f8-b2cd-766c4a3bcd54",
   "metadata": {
    "slideshow": {
     "slide_type": "skip"
    }
   },
   "outputs": [
    {
     "name": "stdout",
     "output_type": "stream",
     "text": [
      "[90, 80, 100, 90, 85]\n"
     ]
    }
   ],
   "source": [
    "# (4) 짝수번째 점수를 출력하세요.\n",
    "print(jumsu[1::2])"
   ]
  },
  {
   "cell_type": "code",
   "execution_count": 285,
   "id": "82cba2d0-4e3e-49ca-acfe-c4f59cbeb987",
   "metadata": {
    "slideshow": {
     "slide_type": "skip"
    }
   },
   "outputs": [
    {
     "name": "stdout",
     "output_type": "stream",
     "text": [
      "[100, 100, 70, 80, 95]\n"
     ]
    }
   ],
   "source": [
    "# (5) 홀수번째 점수를 출력하세요.\n",
    "print(jumsu[::2])"
   ]
  },
  {
   "cell_type": "code",
   "execution_count": 286,
   "id": "2c5f1539-2a9d-4605-a1b7-53d9cad41023",
   "metadata": {
    "slideshow": {
     "slide_type": "skip"
    }
   },
   "outputs": [
    {
     "name": "stdout",
     "output_type": "stream",
     "text": [
      "[100, 90, 100, 80, 70, 100, 80, 90, 20, 85]\n"
     ]
    }
   ],
   "source": [
    "# (6) 9번의 점수를 20으로 변경하고 전체 출력하세요.\n",
    "jumsu[8] = 20\n",
    "print(jumsu)"
   ]
  },
  {
   "cell_type": "code",
   "execution_count": 288,
   "id": "a3aeb0e4-639f-4553-8ae2-da65da214ead",
   "metadata": {
    "slideshow": {
     "slide_type": "skip"
    }
   },
   "outputs": [
    {
     "name": "stdout",
     "output_type": "stream",
     "text": [
      "{100, 70, 80, 85, 90, 95}\n"
     ]
    }
   ],
   "source": [
    "# (7) 중복된 점수는 제거하고 하나씩만 나오도록 출력하세요.\n",
    "set_jumsu = set(jumsu)\n",
    "print(set_jumsu)"
   ]
  },
  {
   "cell_type": "code",
   "execution_count": 2,
   "id": "8784e70f-15b2-40f1-a612-3e0fd140b28b",
   "metadata": {
    "slideshow": {
     "slide_type": "skip"
    }
   },
   "outputs": [],
   "source": [
    "# 문제 8 ~ 9\n",
    "fruits = [\"복숭아\", \"수박\", \"딸기\"]"
   ]
  },
  {
   "cell_type": "code",
   "execution_count": 4,
   "id": "603a249b-0e6b-4189-9974-8352f27c5c39",
   "metadata": {
    "slideshow": {
     "slide_type": "skip"
    }
   },
   "outputs": [
    {
     "data": {
      "text/plain": [
       "['복숭아', '수박', '딸기', '사과', '귤']"
      ]
     },
     "execution_count": 4,
     "metadata": {},
     "output_type": "execute_result"
    }
   ],
   "source": [
    "# (8) fruits 리스트에 마지막 원소로 \"사과\", \"귤\"을 추가하세요.\n",
    "# fruits.append(\"사과\")\n",
    "# fruits.append(\"귤\")\n",
    "fruits.extend([\"사과\",\"귤\"]) #extend는 list형이 인자\n",
    "fruits"
   ]
  },
  {
   "cell_type": "code",
   "execution_count": 292,
   "id": "d2307a6f-7e40-49a6-8831-d96d0184e958",
   "metadata": {
    "slideshow": {
     "slide_type": "skip"
    }
   },
   "outputs": [
    {
     "data": {
      "text/plain": [
       "['수박', '딸기', '사과', '귤']"
      ]
     },
     "execution_count": 292,
     "metadata": {},
     "output_type": "execute_result"
    }
   ],
   "source": [
    "# (9) fruits 리스트에서 \"복숭아\"를 제거하세요.\n",
    "fruits.remove(\"복숭아\")\n",
    "fruits\n",
    "#pop\n",
    "# fruits.pop(0)\n",
    "# del fruits[0]"
   ]
  },
  {
   "cell_type": "code",
   "execution_count": 306,
   "id": "15ac44fa-ac63-4e9b-a59a-bea117a36c79",
   "metadata": {
    "slideshow": {
     "slide_type": "skip"
    }
   },
   "outputs": [
    {
     "data": {
      "text/plain": [
       "{'이름': '구재회',\n",
       " '나이': 38,\n",
       " 'email': 'playdatakoo@gmail.com',\n",
       " '취미': ['게임', '넷플릭스', '유투브'],\n",
       " '결혼유무': True}"
      ]
     },
     "execution_count": 306,
     "metadata": {},
     "output_type": "execute_result"
    }
   ],
   "source": [
    "# 문제 10 ~ 15\n",
    "# (10)본인의 이름, 나이, email주소, 취미, 결혼유무를 사전(딕셔너리)으로 생성.\n",
    "# 취미는 2개 이상의 값을 넣는다..\n",
    "# profile = {\"이름\":\"구재회\", \"나이\": 38, \"email\":\"playdatakoo@gmail.com\", \"취미\":[\"게임\",\"넷플릭스\",\"유투브\"],\"결혼유무\":True}\n",
    "#dict() func사용\n",
    "profile = dict(이름 = \"구재회\", 나이 = 38, email = \"playdatakoo@gmail.com\", 취미 = [\"게임\",\"넷플릭스\",\"유투브\"],결혼유무 = True)\n",
    "profile"
   ]
  },
  {
   "cell_type": "code",
   "execution_count": 312,
   "id": "73272313-1021-4170-8694-37f84dd8c669",
   "metadata": {
    "slideshow": {
     "slide_type": "skip"
    }
   },
   "outputs": [
    {
     "name": "stdout",
     "output_type": "stream",
     "text": [
      "구재회\n",
      "playdatakoo@gmail.com\n",
      "구재회,playdatakoo@gmail.com\n"
     ]
    }
   ],
   "source": [
    "# (11) 위 딕셔너리에서 이름과 email주소를 조회해서 출력하세요.\n",
    "#get method\n",
    "print(profile.get(\"이름\", \"이름없음\"))\n",
    "print(profile.get(\"email\", \"email없음\"))\n",
    "\n",
    "print(profile[\"이름\"],profile[\"email\"],sep=\",\")\n"
   ]
  },
  {
   "cell_type": "code",
   "execution_count": 311,
   "id": "b49d161a-196b-461b-b4da-f9f801f19adf",
   "metadata": {
    "slideshow": {
     "slide_type": "skip"
    }
   },
   "outputs": [
    {
     "name": "stdout",
     "output_type": "stream",
     "text": [
      "넷플릭스\n",
      "넷플릭스\n"
     ]
    }
   ],
   "source": [
    "# (12) 위 딕셔너리에서 취미중 두번째 취미를 조회해서 출력하세요.\n",
    "print(profile.get(\"취미\",\"취미없음\")[1]) #key가 없을경우 None return\n",
    "print(profile[\"취미\"][1]) #key가 없을 경우 error\n"
   ]
  },
  {
   "cell_type": "code",
   "execution_count": 298,
   "id": "acf91d9a-6b23-44b7-a026-ab85ec22b626",
   "metadata": {
    "slideshow": {
     "slide_type": "skip"
    }
   },
   "outputs": [
    {
     "data": {
      "text/plain": [
       "{'이름': '구재회',\n",
       " '나이': 38,\n",
       " 'email': 'playdatakoo@gmail.com',\n",
       " '취미': ['게임', '넷플릭스', '유투브'],\n",
       " '결혼유무': True,\n",
       " '몸무게': 85,\n",
       " '키': 177}"
      ]
     },
     "execution_count": 298,
     "metadata": {},
     "output_type": "execute_result"
    }
   ],
   "source": [
    "# (13) 위 딕셔너리에 몸무게와 키 항목을 추가하세요.\n",
    "profile[\"몸무게\"] = 85\n",
    "profile[\"키\"] = 177\n",
    "profile\n"
   ]
  },
  {
   "cell_type": "code",
   "execution_count": 300,
   "id": "c89e9da0-65ec-46ac-b988-b58a0bf5392c",
   "metadata": {
    "slideshow": {
     "slide_type": "skip"
    }
   },
   "outputs": [
    {
     "data": {
      "text/plain": [
       "{'이름': '구재회',\n",
       " '나이': 38,\n",
       " 'email': 'kooshaya@gmail.com',\n",
       " '취미': ['게임', '넷플릭스', '유투브'],\n",
       " '결혼유무': True,\n",
       " '몸무게': 85,\n",
       " '키': 177}"
      ]
     },
     "execution_count": 300,
     "metadata": {},
     "output_type": "execute_result"
    }
   ],
   "source": [
    "# (14) 위 딕셔너리에서 email 주소를 다른 값으로 변경하세요.\n",
    "profile[\"email\"] = \"kooshaya@gmail.com\"\n",
    "profile"
   ]
  },
  {
   "cell_type": "code",
   "execution_count": 317,
   "id": "6794fcd4-9006-44e1-94c7-f1e6ffcd5b94",
   "metadata": {
    "slideshow": {
     "slide_type": "skip"
    }
   },
   "outputs": [
    {
     "name": "stdout",
     "output_type": "stream",
     "text": [
      "나이없음\n"
     ]
    }
   ],
   "source": [
    "# (15) 위 딕셔너리에서 나이를 제거하세요.\n",
    "#del사용\n",
    "#del profile[\"나이\"]\n",
    "#pop 사용\n",
    "err = profile.pop(\"나이\",\"나이없음\") #get과 동일하게 error처리\n",
    "profile\n",
    "print(err)"
   ]
  },
  {
   "cell_type": "code",
   "execution_count": null,
   "id": "fa14e8ab-8ffb-4071-b1ce-0f3fc37216ea",
   "metadata": {},
   "outputs": [],
   "source": []
  }
 ],
 "metadata": {
  "kernelspec": {
   "display_name": "Python 3 (ipykernel)",
   "language": "python",
   "name": "python3"
  },
  "language_info": {
   "codemirror_mode": {
    "name": "ipython",
    "version": 3
   },
   "file_extension": ".py",
   "mimetype": "text/x-python",
   "name": "python",
   "nbconvert_exporter": "python",
   "pygments_lexer": "ipython3",
   "version": "3.12.9"
  },
  "toc": {
   "base_numbering": 1,
   "nav_menu": {},
   "number_sections": true,
   "sideBar": true,
   "skip_h1_title": false,
   "title_cell": "Table of Contents",
   "title_sidebar": "Contents",
   "toc_cell": false,
   "toc_position": {
    "height": "calc(100% - 180px)",
    "left": "10px",
    "top": "150px",
    "width": "512px"
   },
   "toc_section_display": true,
   "toc_window_display": true
  },
  "varInspector": {
   "cols": {
    "lenName": 16,
    "lenType": 16,
    "lenVar": 40
   },
   "kernels_config": {
    "python": {
     "delete_cmd_postfix": "",
     "delete_cmd_prefix": "del ",
     "library": "var_list.py",
     "varRefreshCmd": "print(var_dic_list())"
    },
    "r": {
     "delete_cmd_postfix": ") ",
     "delete_cmd_prefix": "rm(",
     "library": "var_list.r",
     "varRefreshCmd": "cat(var_dic_list()) "
    }
   },
   "types_to_exclude": [
    "module",
    "function",
    "builtin_function_or_method",
    "instance",
    "_Feature"
   ],
   "window_display": false
  }
 },
 "nbformat": 4,
 "nbformat_minor": 5
}
