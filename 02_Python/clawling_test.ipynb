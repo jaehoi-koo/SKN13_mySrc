{
 "cells": [
  {
   "cell_type": "code",
   "execution_count": 3,
   "id": "7ec7133e-2f43-4f53-9a02-4b100579eb76",
   "metadata": {},
   "outputs": [
    {
     "name": "stdout",
     "output_type": "stream",
     "text": [
      "Requirement already satisfied: beautifulsoup4 in c:\\users\\playdata\\appdata\\local\\miniconda3\\lib\\site-packages (4.13.3)\n",
      "Collecting lxml\n",
      "  Downloading lxml-5.3.1-cp312-cp312-win_amd64.whl.metadata (3.8 kB)\n",
      "Requirement already satisfied: soupsieve>1.2 in c:\\users\\playdata\\appdata\\local\\miniconda3\\lib\\site-packages (from beautifulsoup4) (2.6)\n",
      "Requirement already satisfied: typing-extensions>=4.0.0 in c:\\users\\playdata\\appdata\\local\\miniconda3\\lib\\site-packages (from beautifulsoup4) (4.12.2)\n",
      "Downloading lxml-5.3.1-cp312-cp312-win_amd64.whl (3.8 MB)\n",
      "   ---------------------------------------- 0.0/3.8 MB ? eta -:--:--\n",
      "   ---------------------------------------- 3.8/3.8 MB 45.6 MB/s eta 0:00:00\n",
      "Installing collected packages: lxml\n",
      "Successfully installed lxml-5.3.1\n",
      "Note: you may need to restart the kernel to use updated packages.\n"
     ]
    }
   ],
   "source": [
    "pip install beautifulsoup4 lxml"
   ]
  },
  {
   "cell_type": "code",
   "execution_count": 2,
   "id": "410727e0-484d-4e33-b64d-7dae88a896c5",
   "metadata": {},
   "outputs": [
    {
     "name": "stdout",
     "output_type": "stream",
     "text": [
      "자동차리콜센터 로고\n"
     ]
    }
   ],
   "source": [
    "from selenium import webdriver\n",
    "from bs4 import BeautifulSoup\n",
    "import time\n",
    "\n",
    "driver = webdriver.Chrome()\n",
    "driver.get(\"https://car.go.kr/ri/stat/list.do\")\n",
    "time.sleep(3)  # 페이지 로딩 대기\n",
    "\n",
    "html = driver.page_source  # 현재 페이지의 HTML 가져오기\n",
    "soup = BeautifulSoup(html, \"html.parser\")\n",
    "\n",
    "title = soup.find(\"h1\").text\n",
    "print(title)\n",
    "\n",
    "driver.quit()"
   ]
  },
  {
   "cell_type": "code",
   "execution_count": 3,
   "id": "59d4b4c4-5487-41a1-ad7c-7b02c9ac9f3c",
   "metadata": {},
   "outputs": [
    {
     "name": "stdout",
     "output_type": "stream",
     "text": [
      "다음 페이지 버튼을 찾을 수 없음. 크롤링 종료.\n",
      "데이터가 'recall_data.csv' 파일에 저장되었습니다.\n"
     ]
    }
   ],
   "source": [
    "from selenium import webdriver\n",
    "from selenium.webdriver.common.by import By\n",
    "from selenium.webdriver.common.keys import Keys\n",
    "from selenium.webdriver.chrome.service import Service\n",
    "from webdriver_manager.chrome import ChromeDriverManager\n",
    "import time\n",
    "import csv\n",
    "\n",
    "# 웹 드라이버 설정\n",
    "options = webdriver.ChromeOptions()\n",
    "options.add_argument(\"--headless\")  # 브라우저 창을 띄우지 않고 실행 (선택)\n",
    "options.add_argument(\"--no-sandbox\")\n",
    "options.add_argument(\"--disable-dev-shm-usage\")\n",
    "\n",
    "# 크롬 드라이버 실행\n",
    "service = Service(ChromeDriverManager().install())\n",
    "driver = webdriver.Chrome(service=service, options=options)\n",
    "\n",
    "# 사이트 접속\n",
    "url = \"https://car.go.kr/ri/stat/list.do\"\n",
    "driver.get(url)\n",
    "time.sleep(3)  # 페이지 로딩 대기\n",
    "\n",
    "# CSV 파일로 저장할 준비\n",
    "filename = \"recall_data.csv\"\n",
    "with open(filename, \"w\", newline=\"\", encoding=\"utf-8\") as file:\n",
    "    writer = csv.writer(file)\n",
    "    writer.writerow([\"리콜번호\", \"제조사\", \"차명\", \"리콜사유\", \"리콜일자\"])  # 컬럼 헤더 작성\n",
    "\n",
    "    while True:\n",
    "        # 테이블 데이터 가져오기\n",
    "        rows = driver.find_elements(By.CSS_SELECTOR, \"table tbody tr\")\n",
    "\n",
    "        for row in rows:\n",
    "            cols = row.find_elements(By.TAG_NAME, \"td\")\n",
    "            if len(cols) >= 5:\n",
    "                data = [col.text.strip() for col in cols[:5]]  # 앞 5개 데이터만 저장\n",
    "                writer.writerow(data)\n",
    "                print(data)  # 터미널 출력 (디버깅용)\n",
    "\n",
    "        # 다음 페이지 버튼 클릭 (비활성화되면 종료)\n",
    "        try:\n",
    "            next_button = driver.find_element(By.XPATH, \"//a[@class='next']\")\n",
    "            if \"disabled\" in next_button.get_attribute(\"class\"):  # 더 이상 다음 페이지 없으면 종료\n",
    "                print(\"모든 페이지 크롤링 완료!\")\n",
    "                break\n",
    "            next_button.click()\n",
    "            time.sleep(3)  # 페이지 로딩 대기\n",
    "        except:\n",
    "            print(\"다음 페이지 버튼을 찾을 수 없음. 크롤링 종료.\")\n",
    "            break\n",
    "\n",
    "# 드라이버 종료\n",
    "driver.quit()\n",
    "print(f\"데이터가 '{filename}' 파일에 저장되었습니다.\")\n"
   ]
  },
  {
   "cell_type": "code",
   "execution_count": 4,
   "id": "69d67098-9d99-4cfd-aa3e-35f0d799383d",
   "metadata": {},
   "outputs": [
    {
     "name": "stdout",
     "output_type": "stream",
     "text": [
      "❌ 다음 페이지 버튼을 찾을 수 없음: Message: \n",
      "Stacktrace:\n",
      "\tGetHandleVerifier [0x003DC7F3+24435]\n",
      "\t(No symbol) [0x00362074]\n",
      "\t(No symbol) [0x002306E3]\n",
      "\t(No symbol) [0x00278B39]\n",
      "\t(No symbol) [0x00278E8B]\n",
      "\t(No symbol) [0x002C1AC2]\n",
      "\t(No symbol) [0x0029D804]\n",
      "\t(No symbol) [0x002BF20A]\n",
      "\t(No symbol) [0x0029D5B6]\n",
      "\t(No symbol) [0x0026C54F]\n",
      "\t(No symbol) [0x0026D894]\n",
      "\tGetHandleVerifier [0x006E70A3+3213347]\n",
      "\tGetHandleVerifier [0x006FB0C9+3295305]\n",
      "\tGetHandleVerifier [0x006F558C+3271948]\n",
      "\tGetHandleVerifier [0x00477360+658144]\n",
      "\t(No symbol) [0x0036B27D]\n",
      "\t(No symbol) [0x00368208]\n",
      "\t(No symbol) [0x003683A9]\n",
      "\t(No symbol) [0x0035AAC0]\n",
      "\tBaseThreadInitThunk [0x75275D49+25]\n",
      "\tRtlInitializeExceptionChain [0x7745CE3B+107]\n",
      "\tRtlGetAppContainerNamedObjectPath [0x7745CDC1+561]\n",
      "\n",
      "🎉 데이터가 'recall_data.csv' 파일에 저장되었습니다.\n"
     ]
    }
   ],
   "source": [
    "from selenium import webdriver\n",
    "from selenium.webdriver.common.by import By\n",
    "from selenium.webdriver.chrome.service import Service\n",
    "from selenium.webdriver.chrome.webdriver import Options\n",
    "from selenium.webdriver.support.ui import WebDriverWait\n",
    "from selenium.webdriver.support import expected_conditions as EC\n",
    "import csv\n",
    "import time\n",
    "from webdriver_manager.chrome import ChromeDriverManager\n",
    "\n",
    "# 1️⃣ Selenium 설정 (브라우저 자동 실행)\n",
    "options = Options()\n",
    "options.add_argument(\"--headless\")  # 브라우저 창 없이 실행 (원하면 주석 처리)\n",
    "options.add_argument(\"--no-sandbox\")\n",
    "options.add_argument(\"--disable-dev-shm-usage\")\n",
    "\n",
    "service = Service(ChromeDriverManager().install())\n",
    "driver = webdriver.Chrome(service=service, options=options)\n",
    "\n",
    "# 2️⃣ 자동차 리콜 사이트 접속\n",
    "url = \"https://www.car.go.kr/ri/stat/list.do\"\n",
    "driver.get(url)\n",
    "\n",
    "# 페이지 로드 대기 (WebDriverWait 사용)\n",
    "wait = WebDriverWait(driver, 10)\n",
    "\n",
    "# 3️⃣ CSV 파일 준비\n",
    "filename = \"recall_data.csv\"\n",
    "with open(filename, \"w\", newline=\"\", encoding=\"utf-8\") as file:\n",
    "    writer = csv.writer(file)\n",
    "    writer.writerow([\"리콜번호\", \"제조사\", \"차명\", \"리콜사유\", \"리콜일자\"])  # 컬럼 헤더 추가\n",
    "\n",
    "    while True:\n",
    "        try:\n",
    "            # 4️⃣ 테이블 데이터 가져오기\n",
    "            wait.until(EC.presence_of_element_located((By.CSS_SELECTOR, \"table tbody tr\")))  # 테이블이 로드될 때까지 대기\n",
    "            rows = driver.find_elements(By.CSS_SELECTOR, \"table tbody tr\")\n",
    "\n",
    "            for row in rows:\n",
    "                cols = row.find_elements(By.TAG_NAME, \"td\")\n",
    "                if len(cols) >= 5:\n",
    "                    data = [col.text.strip() for col in cols[:5]]  # 앞 5개 데이터 저장\n",
    "                    writer.writerow(data)\n",
    "                    print(data)  # 터미널 출력 (디버깅용)\n",
    "\n",
    "            # 5️⃣ 다음 페이지 버튼 클릭 (XPath 수정)\n",
    "            next_button = wait.until(EC.element_to_be_clickable((By.XPATH, \"//a[contains(text(), '다음')]\")))\n",
    "\n",
    "            if \"disabled\" in next_button.get_attribute(\"class\"):  # 버튼이 비활성화되면 종료\n",
    "                print(\"✅ 모든 페이지 크롤링 완료!\")\n",
    "                break\n",
    "\n",
    "            next_button.click()\n",
    "            time.sleep(3)  # 페이지 로딩 대기\n",
    "        except Exception as e:\n",
    "            print(\"❌ 다음 페이지 버튼을 찾을 수 없음:\", e)\n",
    "            break\n",
    "\n",
    "# 6️⃣ 크롤링 종료\n",
    "driver.quit()\n",
    "print(f\"🎉 데이터가 '{filename}' 파일에 저장되었습니다.\")\n"
   ]
  }
 ],
 "metadata": {
  "kernelspec": {
   "display_name": "Python 3 (ipykernel)",
   "language": "python",
   "name": "python3"
  },
  "language_info": {
   "codemirror_mode": {
    "name": "ipython",
    "version": 3
   },
   "file_extension": ".py",
   "mimetype": "text/x-python",
   "name": "python",
   "nbconvert_exporter": "python",
   "pygments_lexer": "ipython3",
   "version": "3.12.9"
  }
 },
 "nbformat": 4,
 "nbformat_minor": 5
}
