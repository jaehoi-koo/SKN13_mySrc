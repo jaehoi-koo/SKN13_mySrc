{
 "cells": [
  {
   "cell_type": "markdown",
   "metadata": {},
   "source": [
    "# 선 그래프 (Line plot) 그리기\n",
    "## 선 그래프(꺽은선 그래프)\n",
    "- 점과 점을 선으로 연결한 그래프\n",
    "- 시간의 흐름에 따른 변화를 표현할 때 많이 사용한다. (시계열)\n",
    "- `plot([x], y)` \n",
    "    - 1번인수 : x값(생략가능), 2번인수 y값\n",
    "    - 인수가 하나인 경우 y 축의 값으로 설정되고 X값은 (0 ~ len(y)-1) 범위로 지정된다.\n",
    "    - x와 y의 원소개수는 같아야 한다.\n",
    "- 하나의 axes(subplot)에 여러 개의 선 그리기\n",
    "    - 같은 axes에 plot()를 여러번 실행한다.\n",
    "- 선 스타일\n",
    "    - linestyle 속성에 설정\n",
    "    - https://matplotlib.org/3.0.3/gallery/lines_bars_and_markers/line_styles_reference.html    "
   ]
  },
  {
   "cell_type": "code",
   "execution_count": 1,
   "metadata": {},
   "outputs": [
    {
     "data": {
      "text/plain": [
       "(12, 6)"
      ]
     },
     "execution_count": 1,
     "metadata": {},
     "output_type": "execute_result"
    }
   ],
   "source": [
    "import pandas as pd\n",
    "import matplotlib.pyplot as plt\n",
    "\n",
    "# 년도를 index name으로 지정해서 조회\n",
    "df = pd.read_csv('data/서울시 연도별 황사 경보발령 현황.csv', index_col=0) \n",
    "df.shape"
   ]
  },
  {
   "cell_type": "code",
   "execution_count": 2,
   "metadata": {},
   "outputs": [
    {
     "name": "stdout",
     "output_type": "stream",
     "text": [
      "<class 'pandas.core.frame.DataFrame'>\n",
      "Index: 12 entries, 2006 to 2017\n",
      "Data columns (total 6 columns):\n",
      " #   Column       Non-Null Count  Dtype\n",
      "---  ------       --------------  -----\n",
      " 0   주의보 발령횟수     12 non-null     int64\n",
      " 1   주의보 발령일수     12 non-null     int64\n",
      " 2   경보 발령횟수      12 non-null     int64\n",
      " 3   경보 발령일수      12 non-null     int64\n",
      " 4   관측일수         12 non-null     int64\n",
      " 5   최대농도(㎍/㎥/시)  12 non-null     int64\n",
      "dtypes: int64(6)\n",
      "memory usage: 672.0 bytes\n"
     ]
    }
   ],
   "source": [
    "df.info()"
   ]
  },
  {
   "cell_type": "code",
   "execution_count": 3,
   "metadata": {},
   "outputs": [
    {
     "data": {
      "application/vnd.microsoft.datawrangler.viewer.v0+json": {
       "columns": [
        {
         "name": "년도",
         "rawType": "int64",
         "type": "integer"
        },
        {
         "name": "주의보 발령횟수",
         "rawType": "int64",
         "type": "integer"
        },
        {
         "name": "주의보 발령일수",
         "rawType": "int64",
         "type": "integer"
        },
        {
         "name": "경보 발령횟수",
         "rawType": "int64",
         "type": "integer"
        },
        {
         "name": "경보 발령일수",
         "rawType": "int64",
         "type": "integer"
        },
        {
         "name": "관측일수",
         "rawType": "int64",
         "type": "integer"
        },
        {
         "name": "최대농도(㎍/㎥/시)",
         "rawType": "int64",
         "type": "integer"
        }
       ],
       "conversionMethod": "pd.DataFrame",
       "ref": "6b93c418-4f43-450f-99d6-59f7531bbdbe",
       "rows": [
        [
         "2006",
         "4",
         "5",
         "1",
         "2",
         "11",
         "2941"
        ],
        [
         "2007",
         "3",
         "4",
         "1",
         "1",
         "12",
         "1355"
        ],
        [
         "2008",
         "1",
         "1",
         "1",
         "1",
         "11",
         "933"
        ],
        [
         "2009",
         "2",
         "3",
         "2",
         "3",
         "9",
         "1157"
        ],
        [
         "2010",
         "4",
         "5",
         "2",
         "3",
         "15",
         "1354"
        ]
       ],
       "shape": {
        "columns": 6,
        "rows": 5
       }
      },
      "text/html": [
       "<div>\n",
       "<style scoped>\n",
       "    .dataframe tbody tr th:only-of-type {\n",
       "        vertical-align: middle;\n",
       "    }\n",
       "\n",
       "    .dataframe tbody tr th {\n",
       "        vertical-align: top;\n",
       "    }\n",
       "\n",
       "    .dataframe thead th {\n",
       "        text-align: right;\n",
       "    }\n",
       "</style>\n",
       "<table border=\"1\" class=\"dataframe\">\n",
       "  <thead>\n",
       "    <tr style=\"text-align: right;\">\n",
       "      <th></th>\n",
       "      <th>주의보 발령횟수</th>\n",
       "      <th>주의보 발령일수</th>\n",
       "      <th>경보 발령횟수</th>\n",
       "      <th>경보 발령일수</th>\n",
       "      <th>관측일수</th>\n",
       "      <th>최대농도(㎍/㎥/시)</th>\n",
       "    </tr>\n",
       "    <tr>\n",
       "      <th>년도</th>\n",
       "      <th></th>\n",
       "      <th></th>\n",
       "      <th></th>\n",
       "      <th></th>\n",
       "      <th></th>\n",
       "      <th></th>\n",
       "    </tr>\n",
       "  </thead>\n",
       "  <tbody>\n",
       "    <tr>\n",
       "      <th>2006</th>\n",
       "      <td>4</td>\n",
       "      <td>5</td>\n",
       "      <td>1</td>\n",
       "      <td>2</td>\n",
       "      <td>11</td>\n",
       "      <td>2941</td>\n",
       "    </tr>\n",
       "    <tr>\n",
       "      <th>2007</th>\n",
       "      <td>3</td>\n",
       "      <td>4</td>\n",
       "      <td>1</td>\n",
       "      <td>1</td>\n",
       "      <td>12</td>\n",
       "      <td>1355</td>\n",
       "    </tr>\n",
       "    <tr>\n",
       "      <th>2008</th>\n",
       "      <td>1</td>\n",
       "      <td>1</td>\n",
       "      <td>1</td>\n",
       "      <td>1</td>\n",
       "      <td>11</td>\n",
       "      <td>933</td>\n",
       "    </tr>\n",
       "    <tr>\n",
       "      <th>2009</th>\n",
       "      <td>2</td>\n",
       "      <td>3</td>\n",
       "      <td>2</td>\n",
       "      <td>3</td>\n",
       "      <td>9</td>\n",
       "      <td>1157</td>\n",
       "    </tr>\n",
       "    <tr>\n",
       "      <th>2010</th>\n",
       "      <td>4</td>\n",
       "      <td>5</td>\n",
       "      <td>2</td>\n",
       "      <td>3</td>\n",
       "      <td>15</td>\n",
       "      <td>1354</td>\n",
       "    </tr>\n",
       "  </tbody>\n",
       "</table>\n",
       "</div>"
      ],
      "text/plain": [
       "      주의보 발령횟수  주의보 발령일수  경보 발령횟수  경보 발령일수  관측일수  최대농도(㎍/㎥/시)\n",
       "년도                                                           \n",
       "2006         4         5        1        2    11         2941\n",
       "2007         3         4        1        1    12         1355\n",
       "2008         1         1        1        1    11          933\n",
       "2009         2         3        2        3     9         1157\n",
       "2010         4         5        2        3    15         1354"
      ]
     },
     "execution_count": 3,
     "metadata": {},
     "output_type": "execute_result"
    }
   ],
   "source": [
    "df.head()"
   ]
  },
  {
   "cell_type": "code",
   "execution_count": 11,
   "metadata": {},
   "outputs": [
    {
     "data": {
      "application/vnd.microsoft.datawrangler.viewer.v0+json": {
       "columns": [
        {
         "name": "년도",
         "rawType": "int64",
         "type": "integer"
        },
        {
         "name": "주의보 발령횟수",
         "rawType": "int64",
         "type": "integer"
        },
        {
         "name": "주의보 발령일수",
         "rawType": "int64",
         "type": "integer"
        },
        {
         "name": "경보 발령횟수",
         "rawType": "int64",
         "type": "integer"
        },
        {
         "name": "경보 발령일수",
         "rawType": "int64",
         "type": "integer"
        },
        {
         "name": "관측일수",
         "rawType": "int64",
         "type": "integer"
        },
        {
         "name": "최대농도",
         "rawType": "int64",
         "type": "integer"
        }
       ],
       "conversionMethod": "pd.DataFrame",
       "ref": "d994e956-9785-48ea-8c8d-618d917411b3",
       "rows": [
        [
         "2006",
         "4",
         "5",
         "1",
         "2",
         "11",
         "2941"
        ],
        [
         "2007",
         "3",
         "4",
         "1",
         "1",
         "12",
         "1355"
        ],
        [
         "2008",
         "1",
         "1",
         "1",
         "1",
         "11",
         "933"
        ],
        [
         "2009",
         "2",
         "3",
         "2",
         "3",
         "9",
         "1157"
        ],
        [
         "2010",
         "4",
         "5",
         "2",
         "3",
         "15",
         "1354"
        ],
        [
         "2011",
         "4",
         "7",
         "0",
         "0",
         "9",
         "662"
        ],
        [
         "2012",
         "0",
         "0",
         "0",
         "0",
         "1",
         "338"
        ],
        [
         "2013",
         "0",
         "0",
         "0",
         "0",
         "3",
         "226"
        ],
        [
         "2014",
         "0",
         "0",
         "0",
         "0",
         "10",
         "259"
        ],
        [
         "2015",
         "1",
         "2",
         "1",
         "2",
         "15",
         "902"
        ],
        [
         "2016",
         "0",
         "0",
         "0",
         "0",
         "7",
         "481"
        ],
        [
         "2017",
         "0",
         "0",
         "0",
         "0",
         "10",
         "423"
        ]
       ],
       "shape": {
        "columns": 6,
        "rows": 12
       }
      },
      "text/html": [
       "<div>\n",
       "<style scoped>\n",
       "    .dataframe tbody tr th:only-of-type {\n",
       "        vertical-align: middle;\n",
       "    }\n",
       "\n",
       "    .dataframe tbody tr th {\n",
       "        vertical-align: top;\n",
       "    }\n",
       "\n",
       "    .dataframe thead th {\n",
       "        text-align: right;\n",
       "    }\n",
       "</style>\n",
       "<table border=\"1\" class=\"dataframe\">\n",
       "  <thead>\n",
       "    <tr style=\"text-align: right;\">\n",
       "      <th></th>\n",
       "      <th>주의보 발령횟수</th>\n",
       "      <th>주의보 발령일수</th>\n",
       "      <th>경보 발령횟수</th>\n",
       "      <th>경보 발령일수</th>\n",
       "      <th>관측일수</th>\n",
       "      <th>최대농도</th>\n",
       "    </tr>\n",
       "    <tr>\n",
       "      <th>년도</th>\n",
       "      <th></th>\n",
       "      <th></th>\n",
       "      <th></th>\n",
       "      <th></th>\n",
       "      <th></th>\n",
       "      <th></th>\n",
       "    </tr>\n",
       "  </thead>\n",
       "  <tbody>\n",
       "    <tr>\n",
       "      <th>2006</th>\n",
       "      <td>4</td>\n",
       "      <td>5</td>\n",
       "      <td>1</td>\n",
       "      <td>2</td>\n",
       "      <td>11</td>\n",
       "      <td>2941</td>\n",
       "    </tr>\n",
       "    <tr>\n",
       "      <th>2007</th>\n",
       "      <td>3</td>\n",
       "      <td>4</td>\n",
       "      <td>1</td>\n",
       "      <td>1</td>\n",
       "      <td>12</td>\n",
       "      <td>1355</td>\n",
       "    </tr>\n",
       "    <tr>\n",
       "      <th>2008</th>\n",
       "      <td>1</td>\n",
       "      <td>1</td>\n",
       "      <td>1</td>\n",
       "      <td>1</td>\n",
       "      <td>11</td>\n",
       "      <td>933</td>\n",
       "    </tr>\n",
       "    <tr>\n",
       "      <th>2009</th>\n",
       "      <td>2</td>\n",
       "      <td>3</td>\n",
       "      <td>2</td>\n",
       "      <td>3</td>\n",
       "      <td>9</td>\n",
       "      <td>1157</td>\n",
       "    </tr>\n",
       "    <tr>\n",
       "      <th>2010</th>\n",
       "      <td>4</td>\n",
       "      <td>5</td>\n",
       "      <td>2</td>\n",
       "      <td>3</td>\n",
       "      <td>15</td>\n",
       "      <td>1354</td>\n",
       "    </tr>\n",
       "    <tr>\n",
       "      <th>2011</th>\n",
       "      <td>4</td>\n",
       "      <td>7</td>\n",
       "      <td>0</td>\n",
       "      <td>0</td>\n",
       "      <td>9</td>\n",
       "      <td>662</td>\n",
       "    </tr>\n",
       "    <tr>\n",
       "      <th>2012</th>\n",
       "      <td>0</td>\n",
       "      <td>0</td>\n",
       "      <td>0</td>\n",
       "      <td>0</td>\n",
       "      <td>1</td>\n",
       "      <td>338</td>\n",
       "    </tr>\n",
       "    <tr>\n",
       "      <th>2013</th>\n",
       "      <td>0</td>\n",
       "      <td>0</td>\n",
       "      <td>0</td>\n",
       "      <td>0</td>\n",
       "      <td>3</td>\n",
       "      <td>226</td>\n",
       "    </tr>\n",
       "    <tr>\n",
       "      <th>2014</th>\n",
       "      <td>0</td>\n",
       "      <td>0</td>\n",
       "      <td>0</td>\n",
       "      <td>0</td>\n",
       "      <td>10</td>\n",
       "      <td>259</td>\n",
       "    </tr>\n",
       "    <tr>\n",
       "      <th>2015</th>\n",
       "      <td>1</td>\n",
       "      <td>2</td>\n",
       "      <td>1</td>\n",
       "      <td>2</td>\n",
       "      <td>15</td>\n",
       "      <td>902</td>\n",
       "    </tr>\n",
       "    <tr>\n",
       "      <th>2016</th>\n",
       "      <td>0</td>\n",
       "      <td>0</td>\n",
       "      <td>0</td>\n",
       "      <td>0</td>\n",
       "      <td>7</td>\n",
       "      <td>481</td>\n",
       "    </tr>\n",
       "    <tr>\n",
       "      <th>2017</th>\n",
       "      <td>0</td>\n",
       "      <td>0</td>\n",
       "      <td>0</td>\n",
       "      <td>0</td>\n",
       "      <td>10</td>\n",
       "      <td>423</td>\n",
       "    </tr>\n",
       "  </tbody>\n",
       "</table>\n",
       "</div>"
      ],
      "text/plain": [
       "      주의보 발령횟수  주의보 발령일수  경보 발령횟수  경보 발령일수  관측일수  최대농도\n",
       "년도                                                    \n",
       "2006         4         5        1        2    11  2941\n",
       "2007         3         4        1        1    12  1355\n",
       "2008         1         1        1        1    11   933\n",
       "2009         2         3        2        3     9  1157\n",
       "2010         4         5        2        3    15  1354\n",
       "2011         4         7        0        0     9   662\n",
       "2012         0         0        0        0     1   338\n",
       "2013         0         0        0        0     3   226\n",
       "2014         0         0        0        0    10   259\n",
       "2015         1         2        1        2    15   902\n",
       "2016         0         0        0        0     7   481\n",
       "2017         0         0        0        0    10   423"
      ]
     },
     "execution_count": 11,
     "metadata": {},
     "output_type": "execute_result"
    }
   ],
   "source": [
    "#컬럼명 변경\n",
    "df.columns[-1]\n",
    "df.rename(columns={df.columns[-1]:\"최대농도\"} ,inplace=True)\n",
    "df"
   ]
  },
  {
   "cell_type": "code",
   "execution_count": 24,
   "metadata": {},
   "outputs": [
    {
     "data": {
      "image/png": "[encoded data removed]",
      "text/plain": [
       "<Figure size 1500x400 with 1 Axes>"
      ]
     },
     "metadata": {},
     "output_type": "display_data"
    }
   ],
   "source": [
    "## 년도별 관측일수의 변화 흐름.\n",
    "plt.figure(figsize=(15, 4))\n",
    "plt.plot(\n",
    "    df.index,\n",
    "    df['관측일수'],\n",
    "    df['경보 발령일수'],\n",
    "    linestyle=\":\"\n",
    "    # linestyle=\"-.\"\n",
    "    # linestyle=\"--\"\n",
    ")\n",
    "\n",
    "# 눈금(ticks)을  어디에 표시할지 지정.\n",
    "plt.xticks(\n",
    "    range(2006, 2018),   # 눈금 위치 값들\n",
    "    labels=[str(v)+\"년\" for v in range(2006, 2018)],  # 눈금의 label\n",
    "    rotation=45 # label을 몇도 회전시킬지\n",
    ")\n",
    "\n",
    "plt.yticks(\n",
    "    range(0,20,5)\n",
    ")\n",
    "\n",
    "# plt.legend()\n",
    "\n",
    "# plt.yticks(range(0, 20, 2)) # y축 눈금\n",
    "plt.show()"
   ]
  },
  {
   "cell_type": "code",
   "execution_count": 27,
   "metadata": {},
   "outputs": [
    {
     "data": {
      "image/png": "[encoded data removed]",
      "text/plain": [
       "<Figure size 1500x400 with 1 Axes>"
      ]
     },
     "metadata": {},
     "output_type": "display_data"
    }
   ],
   "source": [
    "# 주의보, 경보 발령 횟수의 변화흐름을 비교: 데이터를 비교해서 볼 경우 같은 axes 그린다.\n",
    "plt.figure(figsize=(15, 4))\n",
    "plt.plot(df.index, df['주의보 발령횟수'], label=\"주의보\")\n",
    "plt.plot(df.index, df['경보 발령횟수'], label=\"경보\", alpha = 0.5)\n",
    "\n",
    "plt.title(\"황사 주의보, 경보 발령횟수 변화 흐름\")\n",
    "plt.legend() # 각 plot의 label 표기\n",
    "\n",
    "plt.show()"
   ]
  },
  {
   "cell_type": "markdown",
   "metadata": {},
   "source": [
    "## 최대 농도와 관측일 수의 연도별 변화를 시각화\n",
    "- ### 하나의 축을 공유하고 두개의 축을 가지는 그래프 그리기\n",
    "- 값의 범위(Scale)이 다른 두 값과 관련된 그래프를 한 Axes(subplot)에 그리는 경우\n",
    "- X축을 공유해 2개의 Y축을 가지는 그래프\n",
    "    - axes.twinx() 를 이용해 axes를 복사\n",
    "- Y축을 공유해 2개의 X축을 가지는 그래프\n",
    "    - axes.twiny() 를 이용해 axes를 복사"
   ]
  },
  {
   "cell_type": "code",
   "execution_count": 28,
   "metadata": {},
   "outputs": [
    {
     "data": {
      "text/plain": [
       "Index(['주의보 발령횟수', '주의보 발령일수', '경보 발령횟수', '경보 발령일수', '관측일수', '최대농도'], dtype='object')"
      ]
     },
     "execution_count": 28,
     "metadata": {},
     "output_type": "execute_result"
    }
   ],
   "source": [
    "df.columns"
   ]
  },
  {
   "cell_type": "code",
   "execution_count": 39,
   "metadata": {},
   "outputs": [
    {
     "data": {
      "image/png": "[encoded data removed]",
      "text/plain": [
       "<Figure size 1500x400 with 1 Axes>"
      ]
     },
     "metadata": {},
     "output_type": "display_data"
    }
   ],
   "source": [
    "plt.figure(figsize=(15, 4))\n",
    "\n",
    "plt.plot(df.index, df['최대농도'], label=\"최대농도\")\n",
    "plt.plot(df.index, df['관측일수'], label=\"관측일수\")\n",
    "\n",
    "# plt.ylim(0, 15)\n",
    "plt.legend()\n",
    "plt.show()"
   ]
  },
  {
   "cell_type": "markdown",
   "metadata": {},
   "source": [
    "> - 한 axes의 여러 데이터를 이용해서 여러 그래프를 그리는 경우. \n",
    ">     - 둘 합쳐서 최소값과 최대값을 기준으로 축의 값의 범위를 잡아준다.\n",
    ">     - 위의 경우 y축 값의 범위(최대농도와 관측일수 중 최소값 ~ 최대농도와 관측일수 중 최대값)"
   ]
  },
  {
   "cell_type": "code",
   "execution_count": 40,
   "metadata": {},
   "outputs": [
    {
     "data": {
      "application/vnd.microsoft.datawrangler.viewer.v0+json": {
       "columns": [
        {
         "name": "index",
         "rawType": "object",
         "type": "string"
        },
        {
         "name": "최대농도",
         "rawType": "int64",
         "type": "integer"
        },
        {
         "name": "관측일수",
         "rawType": "int64",
         "type": "integer"
        }
       ],
       "conversionMethod": "pd.DataFrame",
       "ref": "44ff6cdc-bf86-41ee-aee7-e5f1ebc32b4a",
       "rows": [
        [
         "min",
         "226",
         "1"
        ],
        [
         "max",
         "2941",
         "15"
        ]
       ],
       "shape": {
        "columns": 2,
        "rows": 2
       }
      },
      "text/html": [
       "<div>\n",
       "<style scoped>\n",
       "    .dataframe tbody tr th:only-of-type {\n",
       "        vertical-align: middle;\n",
       "    }\n",
       "\n",
       "    .dataframe tbody tr th {\n",
       "        vertical-align: top;\n",
       "    }\n",
       "\n",
       "    .dataframe thead th {\n",
       "        text-align: right;\n",
       "    }\n",
       "</style>\n",
       "<table border=\"1\" class=\"dataframe\">\n",
       "  <thead>\n",
       "    <tr style=\"text-align: right;\">\n",
       "      <th></th>\n",
       "      <th>최대농도</th>\n",
       "      <th>관측일수</th>\n",
       "    </tr>\n",
       "  </thead>\n",
       "  <tbody>\n",
       "    <tr>\n",
       "      <th>min</th>\n",
       "      <td>226</td>\n",
       "      <td>1</td>\n",
       "    </tr>\n",
       "    <tr>\n",
       "      <th>max</th>\n",
       "      <td>2941</td>\n",
       "      <td>15</td>\n",
       "    </tr>\n",
       "  </tbody>\n",
       "</table>\n",
       "</div>"
      ],
      "text/plain": [
       "     최대농도  관측일수\n",
       "min   226     1\n",
       "max  2941    15"
      ]
     },
     "execution_count": 40,
     "metadata": {},
     "output_type": "execute_result"
    }
   ],
   "source": [
    "df[['최대농도', \"관측일수\"]].agg([\"min\", \"max\"])"
   ]
  },
  {
   "cell_type": "code",
   "execution_count": null,
   "metadata": {},
   "outputs": [
    {
     "data": {
      "image/png": "[encoded data removed]",
      "text/plain": [
       "<Figure size 1500x400 with 2 Axes>"
      ]
     },
     "metadata": {},
     "output_type": "display_data"
    }
   ],
   "source": [
    "# X 축을 공유하고 y축은 따로 생성\n",
    "plt.figure(figsize=(15, 4))\n",
    "\n",
    "# Axes 객체 생성.\n",
    "ax1 = plt.gca() # 그래프를 그릴 수 있는 Axes(Subplot)을 반환\n",
    "ax2 = ax1.twinx() # ax1과 x축을 같이 사용하는 Axes객체를 생성 후 반환\n",
    "\n",
    "ax1.plot(df.index, df['최대농도'], label=\"최대농도\")\n",
    "ax1.set_xlabel(\"년도\")\n",
    "ax1.set_ylabel(\"농도\")\n",
    "ax1.legend(bbox_to_anchor=(1.02, 1), loc=\"upper left\")\n",
    "\n",
    "ax2.plot(df.index, df['관측일수'], color=\"red\",  label=\"관측일수\")\n",
    "ax2.set_ylabel(\"일수\")\n",
    "ax2.legend(loc=\"upper center\")\n",
    "ax2.legend(bbox_to_anchor=(1.02, 0.9), loc=\"upper left\")\n",
    "plt.show()\n",
    "\n",
    "# legend() 위치\n",
    "## 1.  axes 안쪽에 정해진 위치를 지정\n",
    "###     - 위/아래 : upper center, lower\n",
    "###     - 좌/우   : left  center right\n",
    "###     - 정가운데: center,    \n",
    "###     - 알아서 최적의 장소를 선택: best\n",
    "\n",
    "## 2. 원하는 위치에 지정.\n",
    "#### bbox_to_anchor=(x축의 위치, y축의 위치),  \n",
    "#### loc=\"위아래   좌우\"  # bbox의 어느지점을 bbox_to_anchor에 위치시킬지.\n",
    "##### X축: 0-----------------------1\n",
    "##### Y축\n",
    "#   1\n",
    "#   |\n",
    "#   |\n",
    "#   0"
   ]
  },
  {
   "cell_type": "code",
   "execution_count": null,
   "metadata": {},
   "outputs": [],
   "source": []
  },
  {
   "cell_type": "markdown",
   "metadata": {},
   "source": [
    "# 산점도 (Scatter Plot) 그리기\n",
    "## 산점도(산포도)\n",
    "- X와 Y축을 가지는 좌표평면상 관측값들을 점을 찍어 표시하는 그래프\n",
    "- 변수(Feature)간의 [상관관계나](#상관계수) 관측값들 간의 군집 분류를 확인할 수 있다.\n",
    "- `scatter()` 메소드 사용\n",
    "    - 1번인수 : x축 값, 2번인수 y축 값\n",
    "    - x와 y값들을 모두 매개변수로 전달해야 한다.\n",
    "        - x와 y의 원소의 수는 같아야 한다.\n",
    "    - c/color: 색지정\n",
    "        - c와 x, y와 같은 원소수를 가지는 Iterable 타입 객체로 설정할 경우 각 마커마다 다른 색상을 설정할 수 있다\n",
    "    - s: 점 크기 지정\n",
    "    - marker\n",
    "        - marker란 점의 모양을 말하며 미리정의된 값으로 변경할 수있다.\n",
    "        - https://matplotlib.org/stable/api/markers_api.html "
   ]
  },
  {
   "cell_type": "code",
   "execution_count": null,
   "metadata": {},
   "outputs": [
    {
     "data": {
      "text/plain": [
       "(53940, 10)"
      ]
     },
     "execution_count": 50,
     "metadata": {},
     "output_type": "execute_result"
    }
   ],
   "source": [
    "df = pd.read_csv('data/diamonds.csv')\n",
    "df.shape"
   ]
  },
  {
   "cell_type": "code",
   "execution_count": null,
   "metadata": {},
   "outputs": [
    {
     "data": {
      "application/vnd.microsoft.datawrangler.viewer.v0+json": {
       "columns": [
        {
         "name": "index",
         "rawType": "int64",
         "type": "integer"
        },
        {
         "name": "carat",
         "rawType": "float64",
         "type": "float"
        },
        {
         "name": "cut",
         "rawType": "object",
         "type": "string"
        },
        {
         "name": "color",
         "rawType": "object",
         "type": "string"
        },
        {
         "name": "clarity",
         "rawType": "object",
         "type": "string"
        },
        {
         "name": "depth",
         "rawType": "float64",
         "type": "float"
        },
        {
         "name": "table",
         "rawType": "float64",
         "type": "float"
        },
        {
         "name": "price",
         "rawType": "int64",
         "type": "integer"
        },
        {
         "name": "x",
         "rawType": "float64",
         "type": "float"
        },
        {
         "name": "y",
         "rawType": "float64",
         "type": "float"
        },
        {
         "name": "z",
         "rawType": "float64",
         "type": "float"
        }
       ],
       "conversionMethod": "pd.DataFrame",
       "ref": "612527fa-621e-44de-90ec-6c46f28329cf",
       "rows": [
        [
         "0",
         "0.23",
         "Ideal",
         "E",
         "SI2",
         "61.5",
         "55.0",
         "326",
         "3.95",
         "3.98",
         "2.43"
        ],
        [
         "1",
         "0.21",
         "Premium",
         "E",
         "SI1",
         "59.8",
         "61.0",
         "326",
         "3.89",
         "3.84",
         "2.31"
        ],
        [
         "2",
         "0.23",
         "Good",
         "E",
         "VS1",
         "56.9",
         "65.0",
         "327",
         "4.05",
         "4.07",
         "2.31"
        ],
        [
         "3",
         "0.29",
         "Premium",
         "I",
         "VS2",
         "62.4",
         "58.0",
         "334",
         "4.2",
         "4.23",
         "2.63"
        ],
        [
         "4",
         "0.31",
         "Good",
         "J",
         "SI2",
         "63.3",
         "58.0",
         "335",
         "4.34",
         "4.35",
         "2.75"
        ]
       ],
       "shape": {
        "columns": 10,
        "rows": 5
       }
      },
      "text/html": [
       "<div>\n",
       "<style scoped>\n",
       "    .dataframe tbody tr th:only-of-type {\n",
       "        vertical-align: middle;\n",
       "    }\n",
       "\n",
       "    .dataframe tbody tr th {\n",
       "        vertical-align: top;\n",
       "    }\n",
       "\n",
       "    .dataframe thead th {\n",
       "        text-align: right;\n",
       "    }\n",
       "</style>\n",
       "<table border=\"1\" class=\"dataframe\">\n",
       "  <thead>\n",
       "    <tr style=\"text-align: right;\">\n",
       "      <th></th>\n",
       "      <th>carat</th>\n",
       "      <th>cut</th>\n",
       "      <th>color</th>\n",
       "      <th>clarity</th>\n",
       "      <th>depth</th>\n",
       "      <th>table</th>\n",
       "      <th>price</th>\n",
       "      <th>x</th>\n",
       "      <th>y</th>\n",
       "      <th>z</th>\n",
       "    </tr>\n",
       "  </thead>\n",
       "  <tbody>\n",
       "    <tr>\n",
       "      <th>0</th>\n",
       "      <td>0.23</td>\n",
       "      <td>Ideal</td>\n",
       "      <td>E</td>\n",
       "      <td>SI2</td>\n",
       "      <td>61.5</td>\n",
       "      <td>55.0</td>\n",
       "      <td>326</td>\n",
       "      <td>3.95</td>\n",
       "      <td>3.98</td>\n",
       "      <td>2.43</td>\n",
       "    </tr>\n",
       "    <tr>\n",
       "      <th>1</th>\n",
       "      <td>0.21</td>\n",
       "      <td>Premium</td>\n",
       "      <td>E</td>\n",
       "      <td>SI1</td>\n",
       "      <td>59.8</td>\n",
       "      <td>61.0</td>\n",
       "      <td>326</td>\n",
       "      <td>3.89</td>\n",
       "      <td>3.84</td>\n",
       "      <td>2.31</td>\n",
       "    </tr>\n",
       "    <tr>\n",
       "      <th>2</th>\n",
       "      <td>0.23</td>\n",
       "      <td>Good</td>\n",
       "      <td>E</td>\n",
       "      <td>VS1</td>\n",
       "      <td>56.9</td>\n",
       "      <td>65.0</td>\n",
       "      <td>327</td>\n",
       "      <td>4.05</td>\n",
       "      <td>4.07</td>\n",
       "      <td>2.31</td>\n",
       "    </tr>\n",
       "    <tr>\n",
       "      <th>3</th>\n",
       "      <td>0.29</td>\n",
       "      <td>Premium</td>\n",
       "      <td>I</td>\n",
       "      <td>VS2</td>\n",
       "      <td>62.4</td>\n",
       "      <td>58.0</td>\n",
       "      <td>334</td>\n",
       "      <td>4.20</td>\n",
       "      <td>4.23</td>\n",
       "      <td>2.63</td>\n",
       "    </tr>\n",
       "    <tr>\n",
       "      <th>4</th>\n",
       "      <td>0.31</td>\n",
       "      <td>Good</td>\n",
       "      <td>J</td>\n",
       "      <td>SI2</td>\n",
       "      <td>63.3</td>\n",
       "      <td>58.0</td>\n",
       "      <td>335</td>\n",
       "      <td>4.34</td>\n",
       "      <td>4.35</td>\n",
       "      <td>2.75</td>\n",
       "    </tr>\n",
       "  </tbody>\n",
       "</table>\n",
       "</div>"
      ],
      "text/plain": [
       "   carat      cut color clarity  depth  table  price     x     y     z\n",
       "0   0.23    Ideal     E     SI2   61.5   55.0    326  3.95  3.98  2.43\n",
       "1   0.21  Premium     E     SI1   59.8   61.0    326  3.89  3.84  2.31\n",
       "2   0.23     Good     E     VS1   56.9   65.0    327  4.05  4.07  2.31\n",
       "3   0.29  Premium     I     VS2   62.4   58.0    334  4.20  4.23  2.63\n",
       "4   0.31     Good     J     SI2   63.3   58.0    335  4.34  4.35  2.75"
      ]
     },
     "execution_count": 51,
     "metadata": {},
     "output_type": "execute_result"
    }
   ],
   "source": [
    "df.head()"
   ]
  },
  {
   "cell_type": "code",
   "execution_count": null,
   "metadata": {},
   "outputs": [
    {
     "data": {
      "image/png": "[encoded data removed]",
      "text/plain": [
       "<Figure size 640x480 with 1 Axes>"
      ]
     },
     "metadata": {},
     "output_type": "display_data"
    }
   ],
   "source": [
    "import matplotlib.pyplot as plt\n",
    "plt.scatter(df['price'],  # x축에 들어갈 값\n",
    "             df['carat'],  # y축에 들어갈 값. x, y의 같은 index 위치에 점을 찍는다.\n",
    "             alpha=0.1 # 투명도. (투명)0 ~ 1(농도100%)\n",
    "           )\n",
    "plt.xlabel(\"가격\")\n",
    "plt.ylabel(\"캐럿\")\n",
    "plt.show()"
   ]
  },
  {
   "cell_type": "code",
   "execution_count": null,
   "metadata": {},
   "outputs": [],
   "source": [
    "# 상관계수 계산\n",
    "df[['price', 'carat']].corr()"
   ]
  },
  {
   "cell_type": "markdown",
   "metadata": {},
   "source": [
    "> - ### 상관계수 \n",
    ">     - 두 변수간의 상관관계(비례/반비례)를 정량적(수치적)으로 계산한 값.\n",
    ">         - -1 ~ 1 사이의 값이 나온다. \n",
    ">         - 양의 상관관계: 0 ~ 1 (비례 관계) \n",
    ">         - 음의 상관관계: -1 ~ 0 (반비례 관계)\n",
    ">         - 절대값 기준 1로 갈수록 두 변수의 상관관계가 강하고 0으로 갈수록 약하다.\n",
    ">             - 1 ~ 0.7: 아주 강한 상관관계\n",
    ">             - 0.7 ~ 0.3 : 강한 상관관계\n",
    ">             - 0.3 ~ 0.1 : 약한 상관관계\n",
    ">             - 0.1 ~ 0 : 관계없다."
   ]
  },
  {
   "cell_type": "code",
   "execution_count": 59,
   "metadata": {},
   "outputs": [
    {
     "data": {
      "image/png": "[encoded data removed]",
      "text/plain": [
       "<Figure size 640x480 with 1 Axes>"
      ]
     },
     "metadata": {},
     "output_type": "display_data"
    }
   ],
   "source": [
    "plt.scatter(df['carat'], df['price'], alpha=0.1)\n",
    "\n",
    "plt.show()"
   ]
  },
  {
   "cell_type": "code",
   "execution_count": null,
   "metadata": {},
   "outputs": [],
   "source": []
  },
  {
   "cell_type": "code",
   "execution_count": null,
   "metadata": {},
   "outputs": [
    {
     "data": {
      "application/vnd.microsoft.datawrangler.viewer.v0+json": {
       "columns": [
        {
         "name": "index",
         "rawType": "object",
         "type": "string"
        },
        {
         "name": "depth",
         "rawType": "float64",
         "type": "float"
        },
        {
         "name": "table",
         "rawType": "float64",
         "type": "float"
        }
       ],
       "conversionMethod": "pd.DataFrame",
       "ref": "2d98dde1-dd87-4c48-9b72-163ee3675576",
       "rows": [
        [
         "depth",
         "1.0",
         "-0.2957785215265925"
        ],
        [
         "table",
         "-0.2957785215265925",
         "1.0"
        ]
       ],
       "shape": {
        "columns": 2,
        "rows": 2
       }
      },
      "text/html": [
       "<div>\n",
       "<style scoped>\n",
       "    .dataframe tbody tr th:only-of-type {\n",
       "        vertical-align: middle;\n",
       "    }\n",
       "\n",
       "    .dataframe tbody tr th {\n",
       "        vertical-align: top;\n",
       "    }\n",
       "\n",
       "    .dataframe thead th {\n",
       "        text-align: right;\n",
       "    }\n",
       "</style>\n",
       "<table border=\"1\" class=\"dataframe\">\n",
       "  <thead>\n",
       "    <tr style=\"text-align: right;\">\n",
       "      <th></th>\n",
       "      <th>depth</th>\n",
       "      <th>table</th>\n",
       "    </tr>\n",
       "  </thead>\n",
       "  <tbody>\n",
       "    <tr>\n",
       "      <th>depth</th>\n",
       "      <td>1.000000</td>\n",
       "      <td>-0.295779</td>\n",
       "    </tr>\n",
       "    <tr>\n",
       "      <th>table</th>\n",
       "      <td>-0.295779</td>\n",
       "      <td>1.000000</td>\n",
       "    </tr>\n",
       "  </tbody>\n",
       "</table>\n",
       "</div>"
      ],
      "text/plain": [
       "          depth     table\n",
       "depth  1.000000 -0.295779\n",
       "table -0.295779  1.000000"
      ]
     },
     "execution_count": 54,
     "metadata": {},
     "output_type": "execute_result"
    }
   ],
   "source": [
    "df[['depth', 'table']].corr()"
   ]
  },
  {
   "cell_type": "markdown",
   "metadata": {},
   "source": [
    "# 막대그래프 (Bar plot) 그리기\n",
    "## 막대그래프(Bar plot)\n",
    "\n",
    "- 수량/값의 크기를 비교하기 위해 막대 형식으로 나타낸 그래프\n",
    "- 범주형 데이터의 class별 개수를 확인할 때 사용\n",
    "- bar(x, height) 메소드 사용\n",
    "    - x : x값, height:  막대 높이\n",
    "        - X는 분류값, height는 개수\n",
    "- barh(y, width) 메소드\n",
    "    - 수평막대 그래프\n",
    "    - 1번인수: y값, 2번인수: 막대 너비  \n",
    "- 매개변수\n",
    "    - 첫번째: 수량을 셀 대상\n",
    "    - 두번째: 수량"
   ]
  },
  {
   "cell_type": "code",
   "execution_count": 63,
   "metadata": {},
   "outputs": [
    {
     "data": {
      "image/png": "[encoded data removed]",
      "text/plain": [
       "<Figure size 1000x500 with 2 Axes>"
      ]
     },
     "metadata": {},
     "output_type": "display_data"
    }
   ],
   "source": [
    "x = ['귤', '사과', '배']\n",
    "y = [100, 40, 70]\n",
    "# plt.figure(figsize=(10, 5))\n",
    "# plt.subplot(1, 2, 1)\n",
    "# plt.bar(x, y)\n",
    "\n",
    "# plt.subplot(1, 2, 2)\n",
    "# plt.barh(x, y)\n",
    "# plt.show()\n",
    "# Adding modern design elements\n",
    "plt.figure(figsize=(10, 5))\n",
    "plt.subplot(1, 2, 1)\n",
    "plt.bar(x, y, color=['#FF6F61', '#6B5B95', '#88B04B'], edgecolor='black', linewidth=1.2)\n",
    "plt.title(\"Vertical Bar Chart\", fontsize=14, fontweight='bold')\n",
    "plt.xlabel(\"Fruits\", fontsize=12)\n",
    "plt.ylabel(\"Quantity\", fontsize=12)\n",
    "plt.grid(axis='y', linestyle='--', alpha=0.7)\n",
    "\n",
    "plt.subplot(1, 2, 2)\n",
    "plt.barh(x, y, color=['#FF6F61', '#6B5B95', '#88B04B'], edgecolor='black', linewidth=1.2)\n",
    "plt.title(\"Horizontal Bar Chart\", fontsize=14, fontweight='bold')\n",
    "plt.xlabel(\"Quantity\", fontsize=12)\n",
    "plt.ylabel(\"Fruits\", fontsize=12)\n",
    "plt.grid(axis='x', linestyle='--', alpha=0.7)\n",
    "\n",
    "plt.tight_layout()\n",
    "plt.show()"
   ]
  },
  {
   "cell_type": "code",
   "execution_count": 64,
   "metadata": {},
   "outputs": [
    {
     "data": {
      "application/vnd.microsoft.datawrangler.viewer.v0+json": {
       "columns": [
        {
         "name": "계절",
         "rawType": "object",
         "type": "string"
        },
        {
         "name": "2009",
         "rawType": "float64",
         "type": "float"
        },
        {
         "name": "2010",
         "rawType": "float64",
         "type": "float"
        },
        {
         "name": "2011",
         "rawType": "float64",
         "type": "float"
        },
        {
         "name": "2012",
         "rawType": "float64",
         "type": "float"
        },
        {
         "name": "2013",
         "rawType": "float64",
         "type": "float"
        },
        {
         "name": "2014",
         "rawType": "float64",
         "type": "float"
        },
        {
         "name": "2015",
         "rawType": "float64",
         "type": "float"
        },
        {
         "name": "2016",
         "rawType": "float64",
         "type": "float"
        },
        {
         "name": "2017",
         "rawType": "float64",
         "type": "float"
        }
       ],
       "conversionMethod": "pd.DataFrame",
       "ref": "56c3b2b6-541e-4463-83dc-e8c8782ba7c2",
       "rows": [
        [
         "봄",
         "231.3",
         "302.9",
         "256.9",
         "256.5",
         "264.3",
         "215.9",
         "223.2",
         "312.8",
         "118.6"
        ],
        [
         "여름",
         "752.0",
         "692.6",
         "1053.6",
         "770.6",
         "567.5",
         "599.8",
         "387.1",
         "446.2",
         "609.7"
        ],
        [
         "가을",
         "143.1",
         "307.6",
         "225.5",
         "363.5",
         "231.2",
         "293.1",
         "247.7",
         "381.6",
         "172.5"
        ],
        [
         "겨울",
         "142.3",
         "98.7",
         "45.6",
         "139.3",
         "59.9",
         "76.9",
         "109.1",
         "108.1",
         "75.6"
        ]
       ],
       "shape": {
        "columns": 9,
        "rows": 4
       }
      },
      "text/html": [
       "<div>\n",
       "<style scoped>\n",
       "    .dataframe tbody tr th:only-of-type {\n",
       "        vertical-align: middle;\n",
       "    }\n",
       "\n",
       "    .dataframe tbody tr th {\n",
       "        vertical-align: top;\n",
       "    }\n",
       "\n",
       "    .dataframe thead th {\n",
       "        text-align: right;\n",
       "    }\n",
       "</style>\n",
       "<table border=\"1\" class=\"dataframe\">\n",
       "  <thead>\n",
       "    <tr style=\"text-align: right;\">\n",
       "      <th></th>\n",
       "      <th>2009</th>\n",
       "      <th>2010</th>\n",
       "      <th>2011</th>\n",
       "      <th>2012</th>\n",
       "      <th>2013</th>\n",
       "      <th>2014</th>\n",
       "      <th>2015</th>\n",
       "      <th>2016</th>\n",
       "      <th>2017</th>\n",
       "    </tr>\n",
       "    <tr>\n",
       "      <th>계절</th>\n",
       "      <th></th>\n",
       "      <th></th>\n",
       "      <th></th>\n",
       "      <th></th>\n",
       "      <th></th>\n",
       "      <th></th>\n",
       "      <th></th>\n",
       "      <th></th>\n",
       "      <th></th>\n",
       "    </tr>\n",
       "  </thead>\n",
       "  <tbody>\n",
       "    <tr>\n",
       "      <th>봄</th>\n",
       "      <td>231.3</td>\n",
       "      <td>302.9</td>\n",
       "      <td>256.9</td>\n",
       "      <td>256.5</td>\n",
       "      <td>264.3</td>\n",
       "      <td>215.9</td>\n",
       "      <td>223.2</td>\n",
       "      <td>312.8</td>\n",
       "      <td>118.6</td>\n",
       "    </tr>\n",
       "    <tr>\n",
       "      <th>여름</th>\n",
       "      <td>752.0</td>\n",
       "      <td>692.6</td>\n",
       "      <td>1053.6</td>\n",
       "      <td>770.6</td>\n",
       "      <td>567.5</td>\n",
       "      <td>599.8</td>\n",
       "      <td>387.1</td>\n",
       "      <td>446.2</td>\n",
       "      <td>609.7</td>\n",
       "    </tr>\n",
       "    <tr>\n",
       "      <th>가을</th>\n",
       "      <td>143.1</td>\n",
       "      <td>307.6</td>\n",
       "      <td>225.5</td>\n",
       "      <td>363.5</td>\n",
       "      <td>231.2</td>\n",
       "      <td>293.1</td>\n",
       "      <td>247.7</td>\n",
       "      <td>381.6</td>\n",
       "      <td>172.5</td>\n",
       "    </tr>\n",
       "    <tr>\n",
       "      <th>겨울</th>\n",
       "      <td>142.3</td>\n",
       "      <td>98.7</td>\n",
       "      <td>45.6</td>\n",
       "      <td>139.3</td>\n",
       "      <td>59.9</td>\n",
       "      <td>76.9</td>\n",
       "      <td>109.1</td>\n",
       "      <td>108.1</td>\n",
       "      <td>75.6</td>\n",
       "    </tr>\n",
       "  </tbody>\n",
       "</table>\n",
       "</div>"
      ],
      "text/plain": [
       "     2009   2010    2011   2012   2013   2014   2015   2016   2017\n",
       "계절                                                                \n",
       "봄   231.3  302.9   256.9  256.5  264.3  215.9  223.2  312.8  118.6\n",
       "여름  752.0  692.6  1053.6  770.6  567.5  599.8  387.1  446.2  609.7\n",
       "가을  143.1  307.6   225.5  363.5  231.2  293.1  247.7  381.6  172.5\n",
       "겨울  142.3   98.7    45.6  139.3   59.9   76.9  109.1  108.1   75.6"
      ]
     },
     "execution_count": 64,
     "metadata": {},
     "output_type": "execute_result"
    }
   ],
   "source": [
    "df = pd.read_excel(\"data/강수량.xlsx\", index_col=\"계절\")\n",
    "df"
   ]
  },
  {
   "cell_type": "code",
   "execution_count": 80,
   "metadata": {},
   "outputs": [
    {
     "data": {
      "image/png": "[encoded data removed]",
      "text/plain": [
       "<Figure size 640x480 with 1 Axes>"
      ]
     },
     "metadata": {},
     "output_type": "display_data"
    }
   ],
   "source": [
    "plt.bar(df.index, df[2009])\n",
    "plt.plot(df.index, df[2009], color='red') # 선그래프: 변화 흐름(추세)\n",
    "plt.title(\"2009년 계절별 강수량 비교\")    # 막대그래프: 단순 수량적 비교\n",
    "# 막대의 값들을 출력\n",
    "# text(x위치, y위치, str): (x, y) 위치에 str을 쓴다.\n",
    "for x, y in enumerate(df[2009]):\n",
    "    plt.text(x-0.12, y+15, str(y))\n",
    "plt.ylim(0, 900)   \n",
    "plt.show()"
   ]
  },
  {
   "cell_type": "code",
   "execution_count": 88,
   "metadata": {},
   "outputs": [
    {
     "data": {
      "image/png": "[encoded data removed]",
      "text/plain": [
       "<Figure size 640x480 with 1 Axes>"
      ]
     },
     "metadata": {},
     "output_type": "display_data"
    }
   ],
   "source": [
    "## 수평막대그래프\n",
    "# 년도별 여름 강수량 비교\n",
    "plt.barh(df.columns, df.loc['여름'])\n",
    "plt.title(\"년도별 여름 강수량 비교\")\n",
    "# 입체적으로 표현 하기 위해서 막대의 색을 다르게 표현\n",
    "plt.barh(df.columns, df.loc['여름'], color='skyblue', edgecolor='black', linewidth=1.2)\n",
    "plt.xlabel(\"강수량\")\n",
    "plt.ylabel(\"년도\")\n",
    "plt.grid(axis='x', linestyle='--', alpha=0.7) # x축에만 grid 표시\n",
    "plt.xticks(rotation=45) # x축 label을 45도 회전\n",
    "plt.tight_layout() # 그래프와 label의 간격을 조정\n",
    "\n",
    "\n",
    "plt.show()"
   ]
  },
  {
   "cell_type": "markdown",
   "metadata": {},
   "source": [
    "# 파이차트(Pie chart)\n",
    "- 전체 데이터량에서 각 범주(Category)가 차지하는 비율을 나타내는데 사용\n",
    "- `pie(x, labels)` 이용\n",
    "    - x: 값 (값들을 100을 기준으로 비율을 계산해 크기 설정)\n",
    "    - labels : 값들의 label\n",
    "    - autopct: 조각내에 표시될 비율의 문자열 형식. '%fmt문자' \n",
    "        - fmt문자: f(실수), d(정수), %% (%)\n",
    "- 한국 웹브라우저 점유율을 파이차트로 작성\n",
    "    - https://www.koreanextweb.kr/front/stats/browser/browserUseStats.do"
   ]
  },
  {
   "cell_type": "code",
   "execution_count": 93,
   "metadata": {},
   "outputs": [
    {
     "data": {
      "image/png": "[encoded data removed]",
      "text/plain": [
       "<Figure size 640x480 with 1 Axes>"
      ]
     },
     "metadata": {},
     "output_type": "display_data"
    }
   ],
   "source": [
    "x = ['귤', '사과', '배']\n",
    "y = [100, 40, 70]\n",
    "plt.pie(y, labels=x, \n",
    "        autopct='%.2f%%',   # 각  pie의 비율 값을 출력. 출력 format을 %타입 placeholder이용. %f: 실수, %d: 정수, %%: %\n",
    "        explode=[0, 0.1, 0], \n",
    "        shadow=True)  \n",
    "\n",
    "plt.show()"
   ]
  },
  {
   "cell_type": "code",
   "execution_count": 94,
   "metadata": {},
   "outputs": [],
   "source": [
    "pd.options.display.max_columns=21"
   ]
  },
  {
   "cell_type": "code",
   "execution_count": 96,
   "metadata": {},
   "outputs": [
    {
     "name": "stdout",
     "output_type": "stream",
     "text": [
      "Collecting xlrd\n",
      "  Downloading xlrd-2.0.1-py2.py3-none-any.whl.metadata (3.4 kB)\n",
      "Downloading xlrd-2.0.1-py2.py3-none-any.whl (96 kB)\n",
      "Installing collected packages: xlrd\n",
      "Successfully installed xlrd-2.0.1\n",
      "Note: you may need to restart the kernel to use updated packages.\n"
     ]
    }
   ],
   "source": [
    "%pip install xlrd"
   ]
  },
  {
   "cell_type": "code",
   "execution_count": 97,
   "metadata": {},
   "outputs": [
    {
     "data": {
      "application/vnd.microsoft.datawrangler.viewer.v0+json": {
       "columns": [
        {
         "name": "date",
         "rawType": "object",
         "type": "string"
        },
        {
         "name": "Chrome",
         "rawType": "float64",
         "type": "float"
        },
        {
         "name": "IE",
         "rawType": "float64",
         "type": "float"
        },
        {
         "name": "Edge",
         "rawType": "float64",
         "type": "float"
        },
        {
         "name": "Safari",
         "rawType": "float64",
         "type": "float"
        },
        {
         "name": "Whale Browser",
         "rawType": "float64",
         "type": "float"
        },
        {
         "name": "Firefox",
         "rawType": "float64",
         "type": "float"
        },
        {
         "name": "Opera",
         "rawType": "float64",
         "type": "float"
        },
        {
         "name": "Swing",
         "rawType": "float64",
         "type": "float"
        },
        {
         "name": "Phantom",
         "rawType": "float64",
         "type": "float"
        },
        {
         "name": "UC Browser",
         "rawType": "float64",
         "type": "float"
        },
        {
         "name": "Chromium",
         "rawType": "float64",
         "type": "float"
        },
        {
         "name": "QQ Browser",
         "rawType": "float64",
         "type": "float"
        },
        {
         "name": "Vivaldi",
         "rawType": "float64",
         "type": "float"
        },
        {
         "name": "360 Safe Browser",
         "rawType": "float64",
         "type": "float"
        },
        {
         "name": "Maxthon",
         "rawType": "float64",
         "type": "float"
        },
        {
         "name": "Coc Coc",
         "rawType": "float64",
         "type": "float"
        },
        {
         "name": "Puffin",
         "rawType": "float64",
         "type": "float"
        },
        {
         "name": "Yandex Browser",
         "rawType": "float64",
         "type": "float"
        },
        {
         "name": "Sogou Explorer",
         "rawType": "float64",
         "type": "float"
        },
        {
         "name": "Mozilla",
         "rawType": "float64",
         "type": "float"
        },
        {
         "name": "Whale",
         "rawType": "float64",
         "type": "float"
        }
       ],
       "conversionMethod": "pd.DataFrame",
       "ref": "34e71555-feb1-4f6b-b7fd-0722c91d1fb6",
       "rows": [
        [
         "2018.08",
         "59.12",
         "31.06",
         "2.97",
         "2.52",
         "1.36",
         "1.26",
         "0.88",
         "0.39",
         "0.25",
         "0.03",
         "0.03",
         "0.02",
         "0.02",
         "0.02",
         "0.02",
         "0.0",
         "0.0",
         "0.01",
         "0.01",
         "0.0",
         "0.0"
        ],
        [
         "2018.09",
         "61.95",
         "27.84",
         "3.16",
         "2.19",
         "1.27",
         "2.57",
         "0.4",
         "0.37",
         "0.0",
         "0.03",
         "0.02",
         "0.03",
         "0.02",
         "0.06",
         "0.02",
         "0.0",
         "0.0",
         "0.02",
         "0.03",
         "0.0",
         "0.0"
        ],
        [
         "2018.10",
         "62.05",
         "28.36",
         "3.35",
         "2.43",
         "1.28",
         "1.36",
         "0.59",
         "0.35",
         "0.0",
         "0.03",
         "0.03",
         "0.02",
         "0.02",
         "0.02",
         "0.02",
         "0.01",
         "0.0",
         "0.01",
         "0.03",
         "0.01",
         "0.0"
        ],
        [
         "2018.11",
         "65.31",
         "26.29",
         "3.06",
         "2.09",
         "1.16",
         "1.1",
         "0.55",
         "0.26",
         "0.0",
         "0.02",
         "0.02",
         "0.02",
         "0.02",
         "0.02",
         "0.02",
         "0.01",
         "0.01",
         "0.0",
         "0.02",
         "0.01",
         "0.0"
        ],
        [
         "2018.12",
         "68.34",
         "22.31",
         "2.99",
         "2.02",
         "1.11",
         "2.04",
         "0.63",
         "0.25",
         "0.0",
         "0.03",
         "0.07",
         "0.04",
         "0.01",
         "0.02",
         "0.02",
         "0.03",
         "0.01",
         "0.04",
         "0.02",
         "0.0",
         "0.0"
        ],
        [
         "2019.01",
         "70.46",
         "21.05",
         "2.99",
         "2.07",
         "1.14",
         "1.15",
         "0.67",
         "0.24",
         "0.0",
         "0.02",
         "0.01",
         "0.02",
         "0.02",
         "0.04",
         "0.03",
         "0.01",
         "0.0",
         "0.03",
         "0.01",
         "0.0",
         "0.0"
        ],
        [
         "2019.02",
         "70.63",
         "20.71",
         "2.68",
         "2.53",
         "1.22",
         "1.21",
         "0.62",
         "0.22",
         "0.0",
         "0.02",
         "0.01",
         "0.02",
         "0.02",
         "0.02",
         "0.02",
         "0.0",
         "0.0",
         "0.03",
         "0.01",
         "0.0",
         "0.01"
        ],
        [
         "2019.03",
         "63.35",
         "25.42",
         "3.81",
         "3.16",
         "1.65",
         "1.49",
         "0.63",
         "0.25",
         "0.0",
         "0.02",
         "0.02",
         "0.05",
         "0.01",
         "0.02",
         "0.03",
         "0.02",
         "0.0",
         "0.01",
         "0.03",
         "0.0",
         "0.02"
        ],
        [
         "2019.04",
         "63.63",
         "24.65",
         "4.08",
         "3.11",
         "1.64",
         "1.61",
         "0.55",
         "0.22",
         "0.0",
         "0.02",
         "0.01",
         "0.05",
         "0.01",
         "0.01",
         "0.03",
         "0.01",
         "0.0",
         "0.01",
         "0.03",
         "0.0",
         "0.32"
        ],
        [
         "2019.05",
         "63.42",
         "24.03",
         "4.51",
         "2.75",
         "1.6",
         "1.9",
         "0.59",
         "0.21",
         "0.0",
         "0.02",
         "0.0",
         "0.04",
         "0.01",
         "0.02",
         "0.03",
         "0.01",
         "0.0",
         "0.02",
         "0.03",
         "0.0",
         "0.77"
        ],
        [
         "2019.06",
         "65.71",
         "21.46",
         "4.11",
         "2.77",
         "1.67",
         "2.03",
         "0.56",
         "0.2",
         "0.0",
         "0.01",
         "0.01",
         "0.04",
         "0.02",
         "0.02",
         "0.03",
         "0.01",
         "0.0",
         "0.02",
         "0.03",
         "0.0",
         "1.28"
        ],
        [
         "2019.07",
         "67.93",
         "19.04",
         "4.04",
         "2.71",
         "1.86",
         "1.74",
         "0.68",
         "0.19",
         "0.0",
         "0.02",
         "0.01",
         "0.05",
         "0.02",
         "0.02",
         "0.03",
         "0.02",
         "0.0",
         "0.02",
         "0.03",
         "0.0",
         "1.56"
        ]
       ],
       "shape": {
        "columns": 21,
        "rows": 12
       }
      },
      "text/html": [
       "<div>\n",
       "<style scoped>\n",
       "    .dataframe tbody tr th:only-of-type {\n",
       "        vertical-align: middle;\n",
       "    }\n",
       "\n",
       "    .dataframe tbody tr th {\n",
       "        vertical-align: top;\n",
       "    }\n",
       "\n",
       "    .dataframe thead th {\n",
       "        text-align: right;\n",
       "    }\n",
       "</style>\n",
       "<table border=\"1\" class=\"dataframe\">\n",
       "  <thead>\n",
       "    <tr style=\"text-align: right;\">\n",
       "      <th></th>\n",
       "      <th>Chrome</th>\n",
       "      <th>IE</th>\n",
       "      <th>Edge</th>\n",
       "      <th>Safari</th>\n",
       "      <th>Whale Browser</th>\n",
       "      <th>Firefox</th>\n",
       "      <th>Opera</th>\n",
       "      <th>Swing</th>\n",
       "      <th>Phantom</th>\n",
       "      <th>UC Browser</th>\n",
       "      <th>Chromium</th>\n",
       "      <th>QQ Browser</th>\n",
       "      <th>Vivaldi</th>\n",
       "      <th>360 Safe Browser</th>\n",
       "      <th>Maxthon</th>\n",
       "      <th>Coc Coc</th>\n",
       "      <th>Puffin</th>\n",
       "      <th>Yandex Browser</th>\n",
       "      <th>Sogou Explorer</th>\n",
       "      <th>Mozilla</th>\n",
       "      <th>Whale</th>\n",
       "    </tr>\n",
       "    <tr>\n",
       "      <th>date</th>\n",
       "      <th></th>\n",
       "      <th></th>\n",
       "      <th></th>\n",
       "      <th></th>\n",
       "      <th></th>\n",
       "      <th></th>\n",
       "      <th></th>\n",
       "      <th></th>\n",
       "      <th></th>\n",
       "      <th></th>\n",
       "      <th></th>\n",
       "      <th></th>\n",
       "      <th></th>\n",
       "      <th></th>\n",
       "      <th></th>\n",
       "      <th></th>\n",
       "      <th></th>\n",
       "      <th></th>\n",
       "      <th></th>\n",
       "      <th></th>\n",
       "      <th></th>\n",
       "    </tr>\n",
       "  </thead>\n",
       "  <tbody>\n",
       "    <tr>\n",
       "      <th>2018.08</th>\n",
       "      <td>59.12</td>\n",
       "      <td>31.06</td>\n",
       "      <td>2.97</td>\n",
       "      <td>2.52</td>\n",
       "      <td>1.36</td>\n",
       "      <td>1.26</td>\n",
       "      <td>0.88</td>\n",
       "      <td>0.39</td>\n",
       "      <td>0.25</td>\n",
       "      <td>0.03</td>\n",
       "      <td>0.03</td>\n",
       "      <td>0.02</td>\n",
       "      <td>0.02</td>\n",
       "      <td>0.02</td>\n",
       "      <td>0.02</td>\n",
       "      <td>0.00</td>\n",
       "      <td>0.00</td>\n",
       "      <td>0.01</td>\n",
       "      <td>0.01</td>\n",
       "      <td>0.00</td>\n",
       "      <td>0.00</td>\n",
       "    </tr>\n",
       "    <tr>\n",
       "      <th>2018.09</th>\n",
       "      <td>61.95</td>\n",
       "      <td>27.84</td>\n",
       "      <td>3.16</td>\n",
       "      <td>2.19</td>\n",
       "      <td>1.27</td>\n",
       "      <td>2.57</td>\n",
       "      <td>0.40</td>\n",
       "      <td>0.37</td>\n",
       "      <td>0.00</td>\n",
       "      <td>0.03</td>\n",
       "      <td>0.02</td>\n",
       "      <td>0.03</td>\n",
       "      <td>0.02</td>\n",
       "      <td>0.06</td>\n",
       "      <td>0.02</td>\n",
       "      <td>0.00</td>\n",
       "      <td>0.00</td>\n",
       "      <td>0.02</td>\n",
       "      <td>0.03</td>\n",
       "      <td>0.00</td>\n",
       "      <td>0.00</td>\n",
       "    </tr>\n",
       "    <tr>\n",
       "      <th>2018.10</th>\n",
       "      <td>62.05</td>\n",
       "      <td>28.36</td>\n",
       "      <td>3.35</td>\n",
       "      <td>2.43</td>\n",
       "      <td>1.28</td>\n",
       "      <td>1.36</td>\n",
       "      <td>0.59</td>\n",
       "      <td>0.35</td>\n",
       "      <td>0.00</td>\n",
       "      <td>0.03</td>\n",
       "      <td>0.03</td>\n",
       "      <td>0.02</td>\n",
       "      <td>0.02</td>\n",
       "      <td>0.02</td>\n",
       "      <td>0.02</td>\n",
       "      <td>0.01</td>\n",
       "      <td>0.00</td>\n",
       "      <td>0.01</td>\n",
       "      <td>0.03</td>\n",
       "      <td>0.01</td>\n",
       "      <td>0.00</td>\n",
       "    </tr>\n",
       "    <tr>\n",
       "      <th>2018.11</th>\n",
       "      <td>65.31</td>\n",
       "      <td>26.29</td>\n",
       "      <td>3.06</td>\n",
       "      <td>2.09</td>\n",
       "      <td>1.16</td>\n",
       "      <td>1.10</td>\n",
       "      <td>0.55</td>\n",
       "      <td>0.26</td>\n",
       "      <td>0.00</td>\n",
       "      <td>0.02</td>\n",
       "      <td>0.02</td>\n",
       "      <td>0.02</td>\n",
       "      <td>0.02</td>\n",
       "      <td>0.02</td>\n",
       "      <td>0.02</td>\n",
       "      <td>0.01</td>\n",
       "      <td>0.01</td>\n",
       "      <td>0.00</td>\n",
       "      <td>0.02</td>\n",
       "      <td>0.01</td>\n",
       "      <td>0.00</td>\n",
       "    </tr>\n",
       "    <tr>\n",
       "      <th>2018.12</th>\n",
       "      <td>68.34</td>\n",
       "      <td>22.31</td>\n",
       "      <td>2.99</td>\n",
       "      <td>2.02</td>\n",
       "      <td>1.11</td>\n",
       "      <td>2.04</td>\n",
       "      <td>0.63</td>\n",
       "      <td>0.25</td>\n",
       "      <td>0.00</td>\n",
       "      <td>0.03</td>\n",
       "      <td>0.07</td>\n",
       "      <td>0.04</td>\n",
       "      <td>0.01</td>\n",
       "      <td>0.02</td>\n",
       "      <td>0.02</td>\n",
       "      <td>0.03</td>\n",
       "      <td>0.01</td>\n",
       "      <td>0.04</td>\n",
       "      <td>0.02</td>\n",
       "      <td>0.00</td>\n",
       "      <td>0.00</td>\n",
       "    </tr>\n",
       "    <tr>\n",
       "      <th>2019.01</th>\n",
       "      <td>70.46</td>\n",
       "      <td>21.05</td>\n",
       "      <td>2.99</td>\n",
       "      <td>2.07</td>\n",
       "      <td>1.14</td>\n",
       "      <td>1.15</td>\n",
       "      <td>0.67</td>\n",
       "      <td>0.24</td>\n",
       "      <td>0.00</td>\n",
       "      <td>0.02</td>\n",
       "      <td>0.01</td>\n",
       "      <td>0.02</td>\n",
       "      <td>0.02</td>\n",
       "      <td>0.04</td>\n",
       "      <td>0.03</td>\n",
       "      <td>0.01</td>\n",
       "      <td>0.00</td>\n",
       "      <td>0.03</td>\n",
       "      <td>0.01</td>\n",
       "      <td>0.00</td>\n",
       "      <td>0.00</td>\n",
       "    </tr>\n",
       "    <tr>\n",
       "      <th>2019.02</th>\n",
       "      <td>70.63</td>\n",
       "      <td>20.71</td>\n",
       "      <td>2.68</td>\n",
       "      <td>2.53</td>\n",
       "      <td>1.22</td>\n",
       "      <td>1.21</td>\n",
       "      <td>0.62</td>\n",
       "      <td>0.22</td>\n",
       "      <td>0.00</td>\n",
       "      <td>0.02</td>\n",
       "      <td>0.01</td>\n",
       "      <td>0.02</td>\n",
       "      <td>0.02</td>\n",
       "      <td>0.02</td>\n",
       "      <td>0.02</td>\n",
       "      <td>0.00</td>\n",
       "      <td>0.00</td>\n",
       "      <td>0.03</td>\n",
       "      <td>0.01</td>\n",
       "      <td>0.00</td>\n",
       "      <td>0.01</td>\n",
       "    </tr>\n",
       "    <tr>\n",
       "      <th>2019.03</th>\n",
       "      <td>63.35</td>\n",
       "      <td>25.42</td>\n",
       "      <td>3.81</td>\n",
       "      <td>3.16</td>\n",
       "      <td>1.65</td>\n",
       "      <td>1.49</td>\n",
       "      <td>0.63</td>\n",
       "      <td>0.25</td>\n",
       "      <td>0.00</td>\n",
       "      <td>0.02</td>\n",
       "      <td>0.02</td>\n",
       "      <td>0.05</td>\n",
       "      <td>0.01</td>\n",
       "      <td>0.02</td>\n",
       "      <td>0.03</td>\n",
       "      <td>0.02</td>\n",
       "      <td>0.00</td>\n",
       "      <td>0.01</td>\n",
       "      <td>0.03</td>\n",
       "      <td>0.00</td>\n",
       "      <td>0.02</td>\n",
       "    </tr>\n",
       "    <tr>\n",
       "      <th>2019.04</th>\n",
       "      <td>63.63</td>\n",
       "      <td>24.65</td>\n",
       "      <td>4.08</td>\n",
       "      <td>3.11</td>\n",
       "      <td>1.64</td>\n",
       "      <td>1.61</td>\n",
       "      <td>0.55</td>\n",
       "      <td>0.22</td>\n",
       "      <td>0.00</td>\n",
       "      <td>0.02</td>\n",
       "      <td>0.01</td>\n",
       "      <td>0.05</td>\n",
       "      <td>0.01</td>\n",
       "      <td>0.01</td>\n",
       "      <td>0.03</td>\n",
       "      <td>0.01</td>\n",
       "      <td>0.00</td>\n",
       "      <td>0.01</td>\n",
       "      <td>0.03</td>\n",
       "      <td>0.00</td>\n",
       "      <td>0.32</td>\n",
       "    </tr>\n",
       "    <tr>\n",
       "      <th>2019.05</th>\n",
       "      <td>63.42</td>\n",
       "      <td>24.03</td>\n",
       "      <td>4.51</td>\n",
       "      <td>2.75</td>\n",
       "      <td>1.60</td>\n",
       "      <td>1.90</td>\n",
       "      <td>0.59</td>\n",
       "      <td>0.21</td>\n",
       "      <td>0.00</td>\n",
       "      <td>0.02</td>\n",
       "      <td>0.00</td>\n",
       "      <td>0.04</td>\n",
       "      <td>0.01</td>\n",
       "      <td>0.02</td>\n",
       "      <td>0.03</td>\n",
       "      <td>0.01</td>\n",
       "      <td>0.00</td>\n",
       "      <td>0.02</td>\n",
       "      <td>0.03</td>\n",
       "      <td>0.00</td>\n",
       "      <td>0.77</td>\n",
       "    </tr>\n",
       "    <tr>\n",
       "      <th>2019.06</th>\n",
       "      <td>65.71</td>\n",
       "      <td>21.46</td>\n",
       "      <td>4.11</td>\n",
       "      <td>2.77</td>\n",
       "      <td>1.67</td>\n",
       "      <td>2.03</td>\n",
       "      <td>0.56</td>\n",
       "      <td>0.20</td>\n",
       "      <td>0.00</td>\n",
       "      <td>0.01</td>\n",
       "      <td>0.01</td>\n",
       "      <td>0.04</td>\n",
       "      <td>0.02</td>\n",
       "      <td>0.02</td>\n",
       "      <td>0.03</td>\n",
       "      <td>0.01</td>\n",
       "      <td>0.00</td>\n",
       "      <td>0.02</td>\n",
       "      <td>0.03</td>\n",
       "      <td>0.00</td>\n",
       "      <td>1.28</td>\n",
       "    </tr>\n",
       "    <tr>\n",
       "      <th>2019.07</th>\n",
       "      <td>67.93</td>\n",
       "      <td>19.04</td>\n",
       "      <td>4.04</td>\n",
       "      <td>2.71</td>\n",
       "      <td>1.86</td>\n",
       "      <td>1.74</td>\n",
       "      <td>0.68</td>\n",
       "      <td>0.19</td>\n",
       "      <td>0.00</td>\n",
       "      <td>0.02</td>\n",
       "      <td>0.01</td>\n",
       "      <td>0.05</td>\n",
       "      <td>0.02</td>\n",
       "      <td>0.02</td>\n",
       "      <td>0.03</td>\n",
       "      <td>0.02</td>\n",
       "      <td>0.00</td>\n",
       "      <td>0.02</td>\n",
       "      <td>0.03</td>\n",
       "      <td>0.00</td>\n",
       "      <td>1.56</td>\n",
       "    </tr>\n",
       "  </tbody>\n",
       "</table>\n",
       "</div>"
      ],
      "text/plain": [
       "         Chrome     IE  Edge  Safari  Whale Browser  Firefox  Opera  Swing  \\\n",
       "date                                                                         \n",
       "2018.08   59.12  31.06  2.97    2.52           1.36     1.26   0.88   0.39   \n",
       "2018.09   61.95  27.84  3.16    2.19           1.27     2.57   0.40   0.37   \n",
       "2018.10   62.05  28.36  3.35    2.43           1.28     1.36   0.59   0.35   \n",
       "2018.11   65.31  26.29  3.06    2.09           1.16     1.10   0.55   0.26   \n",
       "2018.12   68.34  22.31  2.99    2.02           1.11     2.04   0.63   0.25   \n",
       "2019.01   70.46  21.05  2.99    2.07           1.14     1.15   0.67   0.24   \n",
       "2019.02   70.63  20.71  2.68    2.53           1.22     1.21   0.62   0.22   \n",
       "2019.03   63.35  25.42  3.81    3.16           1.65     1.49   0.63   0.25   \n",
       "2019.04   63.63  24.65  4.08    3.11           1.64     1.61   0.55   0.22   \n",
       "2019.05   63.42  24.03  4.51    2.75           1.60     1.90   0.59   0.21   \n",
       "2019.06   65.71  21.46  4.11    2.77           1.67     2.03   0.56   0.20   \n",
       "2019.07   67.93  19.04  4.04    2.71           1.86     1.74   0.68   0.19   \n",
       "\n",
       "         Phantom  UC Browser  Chromium  QQ Browser  Vivaldi  360 Safe Browser  \\\n",
       "date                                                                            \n",
       "2018.08     0.25        0.03      0.03        0.02     0.02              0.02   \n",
       "2018.09     0.00        0.03      0.02        0.03     0.02              0.06   \n",
       "2018.10     0.00        0.03      0.03        0.02     0.02              0.02   \n",
       "2018.11     0.00        0.02      0.02        0.02     0.02              0.02   \n",
       "2018.12     0.00        0.03      0.07        0.04     0.01              0.02   \n",
       "2019.01     0.00        0.02      0.01        0.02     0.02              0.04   \n",
       "2019.02     0.00        0.02      0.01        0.02     0.02              0.02   \n",
       "2019.03     0.00        0.02      0.02        0.05     0.01              0.02   \n",
       "2019.04     0.00        0.02      0.01        0.05     0.01              0.01   \n",
       "2019.05     0.00        0.02      0.00        0.04     0.01              0.02   \n",
       "2019.06     0.00        0.01      0.01        0.04     0.02              0.02   \n",
       "2019.07     0.00        0.02      0.01        0.05     0.02              0.02   \n",
       "\n",
       "         Maxthon  Coc Coc  Puffin  Yandex Browser  Sogou Explorer  Mozilla  \\\n",
       "date                                                                         \n",
       "2018.08     0.02     0.00    0.00            0.01            0.01     0.00   \n",
       "2018.09     0.02     0.00    0.00            0.02            0.03     0.00   \n",
       "2018.10     0.02     0.01    0.00            0.01            0.03     0.01   \n",
       "2018.11     0.02     0.01    0.01            0.00            0.02     0.01   \n",
       "2018.12     0.02     0.03    0.01            0.04            0.02     0.00   \n",
       "2019.01     0.03     0.01    0.00            0.03            0.01     0.00   \n",
       "2019.02     0.02     0.00    0.00            0.03            0.01     0.00   \n",
       "2019.03     0.03     0.02    0.00            0.01            0.03     0.00   \n",
       "2019.04     0.03     0.01    0.00            0.01            0.03     0.00   \n",
       "2019.05     0.03     0.01    0.00            0.02            0.03     0.00   \n",
       "2019.06     0.03     0.01    0.00            0.02            0.03     0.00   \n",
       "2019.07     0.03     0.02    0.00            0.02            0.03     0.00   \n",
       "\n",
       "         Whale  \n",
       "date            \n",
       "2018.08   0.00  \n",
       "2018.09   0.00  \n",
       "2018.10   0.00  \n",
       "2018.11   0.00  \n",
       "2018.12   0.00  \n",
       "2019.01   0.00  \n",
       "2019.02   0.01  \n",
       "2019.03   0.02  \n",
       "2019.04   0.32  \n",
       "2019.05   0.77  \n",
       "2019.06   1.28  \n",
       "2019.07   1.56  "
      ]
     },
     "execution_count": 97,
     "metadata": {},
     "output_type": "execute_result"
    }
   ],
   "source": [
    "df = pd.read_excel(\n",
    "    \"data/webbrowser_share.xls\", \n",
    "    dtype={\"date\": str},  #  {\"컬럼명\": 타입} -> 컬럼을 어떤 타입으로 읽을지 지정.\n",
    "    index_col=\"date\"\n",
    ")\n",
    "df"
   ]
  },
  {
   "cell_type": "code",
   "execution_count": 98,
   "metadata": {},
   "outputs": [
    {
     "data": {
      "application/vnd.microsoft.datawrangler.viewer.v0+json": {
       "columns": [
        {
         "name": "date",
         "rawType": "datetime64[ns]",
         "type": "datetime"
        },
        {
         "name": "Chrome",
         "rawType": "float64",
         "type": "float"
        },
        {
         "name": "IE",
         "rawType": "float64",
         "type": "float"
        },
        {
         "name": "Edge",
         "rawType": "float64",
         "type": "float"
        },
        {
         "name": "Safari",
         "rawType": "float64",
         "type": "float"
        },
        {
         "name": "Whale Browser",
         "rawType": "float64",
         "type": "float"
        },
        {
         "name": "Firefox",
         "rawType": "float64",
         "type": "float"
        },
        {
         "name": "Opera",
         "rawType": "float64",
         "type": "float"
        },
        {
         "name": "Swing",
         "rawType": "float64",
         "type": "float"
        },
        {
         "name": "Phantom",
         "rawType": "float64",
         "type": "float"
        },
        {
         "name": "UC Browser",
         "rawType": "float64",
         "type": "float"
        },
        {
         "name": "Chromium",
         "rawType": "float64",
         "type": "float"
        },
        {
         "name": "QQ Browser",
         "rawType": "float64",
         "type": "float"
        },
        {
         "name": "Vivaldi",
         "rawType": "float64",
         "type": "float"
        },
        {
         "name": "360 Safe Browser",
         "rawType": "float64",
         "type": "float"
        },
        {
         "name": "Maxthon",
         "rawType": "float64",
         "type": "float"
        },
        {
         "name": "Coc Coc",
         "rawType": "float64",
         "type": "float"
        },
        {
         "name": "Puffin",
         "rawType": "float64",
         "type": "float"
        },
        {
         "name": "Yandex Browser",
         "rawType": "float64",
         "type": "float"
        },
        {
         "name": "Sogou Explorer",
         "rawType": "float64",
         "type": "float"
        },
        {
         "name": "Mozilla",
         "rawType": "float64",
         "type": "float"
        },
        {
         "name": "Whale",
         "rawType": "float64",
         "type": "float"
        }
       ],
       "conversionMethod": "pd.DataFrame",
       "ref": "503497ce-3b17-4b75-a5e1-b112b1bad5e6",
       "rows": [
        [
         "2018-08-01 00:00:00",
         "59.12",
         "31.06",
         "2.97",
         "2.52",
         "1.36",
         "1.26",
         "0.88",
         "0.39",
         "0.25",
         "0.03",
         "0.03",
         "0.02",
         "0.02",
         "0.02",
         "0.02",
         "0.0",
         "0.0",
         "0.01",
         "0.01",
         "0.0",
         "0.0"
        ],
        [
         "2018-09-01 00:00:00",
         "61.95",
         "27.84",
         "3.16",
         "2.19",
         "1.27",
         "2.57",
         "0.4",
         "0.37",
         "0.0",
         "0.03",
         "0.02",
         "0.03",
         "0.02",
         "0.06",
         "0.02",
         "0.0",
         "0.0",
         "0.02",
         "0.03",
         "0.0",
         "0.0"
        ],
        [
         "2018-10-01 00:00:00",
         "62.05",
         "28.36",
         "3.35",
         "2.43",
         "1.28",
         "1.36",
         "0.59",
         "0.35",
         "0.0",
         "0.03",
         "0.03",
         "0.02",
         "0.02",
         "0.02",
         "0.02",
         "0.01",
         "0.0",
         "0.01",
         "0.03",
         "0.01",
         "0.0"
        ],
        [
         "2018-11-01 00:00:00",
         "65.31",
         "26.29",
         "3.06",
         "2.09",
         "1.16",
         "1.1",
         "0.55",
         "0.26",
         "0.0",
         "0.02",
         "0.02",
         "0.02",
         "0.02",
         "0.02",
         "0.02",
         "0.01",
         "0.01",
         "0.0",
         "0.02",
         "0.01",
         "0.0"
        ],
        [
         "2018-12-01 00:00:00",
         "68.34",
         "22.31",
         "2.99",
         "2.02",
         "1.11",
         "2.04",
         "0.63",
         "0.25",
         "0.0",
         "0.03",
         "0.07",
         "0.04",
         "0.01",
         "0.02",
         "0.02",
         "0.03",
         "0.01",
         "0.04",
         "0.02",
         "0.0",
         "0.0"
        ],
        [
         "2019-01-01 00:00:00",
         "70.46",
         "21.05",
         "2.99",
         "2.07",
         "1.14",
         "1.15",
         "0.67",
         "0.24",
         "0.0",
         "0.02",
         "0.01",
         "0.02",
         "0.02",
         "0.04",
         "0.03",
         "0.01",
         "0.0",
         "0.03",
         "0.01",
         "0.0",
         "0.0"
        ],
        [
         "2019-02-01 00:00:00",
         "70.63",
         "20.71",
         "2.68",
         "2.53",
         "1.22",
         "1.21",
         "0.62",
         "0.22",
         "0.0",
         "0.02",
         "0.01",
         "0.02",
         "0.02",
         "0.02",
         "0.02",
         "0.0",
         "0.0",
         "0.03",
         "0.01",
         "0.0",
         "0.01"
        ],
        [
         "2019-03-01 00:00:00",
         "63.35",
         "25.42",
         "3.81",
         "3.16",
         "1.65",
         "1.49",
         "0.63",
         "0.25",
         "0.0",
         "0.02",
         "0.02",
         "0.05",
         "0.01",
         "0.02",
         "0.03",
         "0.02",
         "0.0",
         "0.01",
         "0.03",
         "0.0",
         "0.02"
        ],
        [
         "2019-04-01 00:00:00",
         "63.63",
         "24.65",
         "4.08",
         "3.11",
         "1.64",
         "1.61",
         "0.55",
         "0.22",
         "0.0",
         "0.02",
         "0.01",
         "0.05",
         "0.01",
         "0.01",
         "0.03",
         "0.01",
         "0.0",
         "0.01",
         "0.03",
         "0.0",
         "0.32"
        ],
        [
         "2019-05-01 00:00:00",
         "63.42",
         "24.03",
         "4.51",
         "2.75",
         "1.6",
         "1.9",
         "0.59",
         "0.21",
         "0.0",
         "0.02",
         "0.0",
         "0.04",
         "0.01",
         "0.02",
         "0.03",
         "0.01",
         "0.0",
         "0.02",
         "0.03",
         "0.0",
         "0.77"
        ],
        [
         "2019-06-01 00:00:00",
         "65.71",
         "21.46",
         "4.11",
         "2.77",
         "1.67",
         "2.03",
         "0.56",
         "0.2",
         "0.0",
         "0.01",
         "0.01",
         "0.04",
         "0.02",
         "0.02",
         "0.03",
         "0.01",
         "0.0",
         "0.02",
         "0.03",
         "0.0",
         "1.28"
        ],
        [
         "2019-07-01 00:00:00",
         "67.93",
         "19.04",
         "4.04",
         "2.71",
         "1.86",
         "1.74",
         "0.68",
         "0.19",
         "0.0",
         "0.02",
         "0.01",
         "0.05",
         "0.02",
         "0.02",
         "0.03",
         "0.02",
         "0.0",
         "0.02",
         "0.03",
         "0.0",
         "1.56"
        ]
       ],
       "shape": {
        "columns": 21,
        "rows": 12
       }
      },
      "text/html": [
       "<div>\n",
       "<style scoped>\n",
       "    .dataframe tbody tr th:only-of-type {\n",
       "        vertical-align: middle;\n",
       "    }\n",
       "\n",
       "    .dataframe tbody tr th {\n",
       "        vertical-align: top;\n",
       "    }\n",
       "\n",
       "    .dataframe thead th {\n",
       "        text-align: right;\n",
       "    }\n",
       "</style>\n",
       "<table border=\"1\" class=\"dataframe\">\n",
       "  <thead>\n",
       "    <tr style=\"text-align: right;\">\n",
       "      <th></th>\n",
       "      <th>Chrome</th>\n",
       "      <th>IE</th>\n",
       "      <th>Edge</th>\n",
       "      <th>Safari</th>\n",
       "      <th>Whale Browser</th>\n",
       "      <th>Firefox</th>\n",
       "      <th>Opera</th>\n",
       "      <th>Swing</th>\n",
       "      <th>Phantom</th>\n",
       "      <th>UC Browser</th>\n",
       "      <th>Chromium</th>\n",
       "      <th>QQ Browser</th>\n",
       "      <th>Vivaldi</th>\n",
       "      <th>360 Safe Browser</th>\n",
       "      <th>Maxthon</th>\n",
       "      <th>Coc Coc</th>\n",
       "      <th>Puffin</th>\n",
       "      <th>Yandex Browser</th>\n",
       "      <th>Sogou Explorer</th>\n",
       "      <th>Mozilla</th>\n",
       "      <th>Whale</th>\n",
       "    </tr>\n",
       "    <tr>\n",
       "      <th>date</th>\n",
       "      <th></th>\n",
       "      <th></th>\n",
       "      <th></th>\n",
       "      <th></th>\n",
       "      <th></th>\n",
       "      <th></th>\n",
       "      <th></th>\n",
       "      <th></th>\n",
       "      <th></th>\n",
       "      <th></th>\n",
       "      <th></th>\n",
       "      <th></th>\n",
       "      <th></th>\n",
       "      <th></th>\n",
       "      <th></th>\n",
       "      <th></th>\n",
       "      <th></th>\n",
       "      <th></th>\n",
       "      <th></th>\n",
       "      <th></th>\n",
       "      <th></th>\n",
       "    </tr>\n",
       "  </thead>\n",
       "  <tbody>\n",
       "    <tr>\n",
       "      <th>2018-08-01</th>\n",
       "      <td>59.12</td>\n",
       "      <td>31.06</td>\n",
       "      <td>2.97</td>\n",
       "      <td>2.52</td>\n",
       "      <td>1.36</td>\n",
       "      <td>1.26</td>\n",
       "      <td>0.88</td>\n",
       "      <td>0.39</td>\n",
       "      <td>0.25</td>\n",
       "      <td>0.03</td>\n",
       "      <td>0.03</td>\n",
       "      <td>0.02</td>\n",
       "      <td>0.02</td>\n",
       "      <td>0.02</td>\n",
       "      <td>0.02</td>\n",
       "      <td>0.00</td>\n",
       "      <td>0.00</td>\n",
       "      <td>0.01</td>\n",
       "      <td>0.01</td>\n",
       "      <td>0.00</td>\n",
       "      <td>0.00</td>\n",
       "    </tr>\n",
       "    <tr>\n",
       "      <th>2018-09-01</th>\n",
       "      <td>61.95</td>\n",
       "      <td>27.84</td>\n",
       "      <td>3.16</td>\n",
       "      <td>2.19</td>\n",
       "      <td>1.27</td>\n",
       "      <td>2.57</td>\n",
       "      <td>0.40</td>\n",
       "      <td>0.37</td>\n",
       "      <td>0.00</td>\n",
       "      <td>0.03</td>\n",
       "      <td>0.02</td>\n",
       "      <td>0.03</td>\n",
       "      <td>0.02</td>\n",
       "      <td>0.06</td>\n",
       "      <td>0.02</td>\n",
       "      <td>0.00</td>\n",
       "      <td>0.00</td>\n",
       "      <td>0.02</td>\n",
       "      <td>0.03</td>\n",
       "      <td>0.00</td>\n",
       "      <td>0.00</td>\n",
       "    </tr>\n",
       "    <tr>\n",
       "      <th>2018-10-01</th>\n",
       "      <td>62.05</td>\n",
       "      <td>28.36</td>\n",
       "      <td>3.35</td>\n",
       "      <td>2.43</td>\n",
       "      <td>1.28</td>\n",
       "      <td>1.36</td>\n",
       "      <td>0.59</td>\n",
       "      <td>0.35</td>\n",
       "      <td>0.00</td>\n",
       "      <td>0.03</td>\n",
       "      <td>0.03</td>\n",
       "      <td>0.02</td>\n",
       "      <td>0.02</td>\n",
       "      <td>0.02</td>\n",
       "      <td>0.02</td>\n",
       "      <td>0.01</td>\n",
       "      <td>0.00</td>\n",
       "      <td>0.01</td>\n",
       "      <td>0.03</td>\n",
       "      <td>0.01</td>\n",
       "      <td>0.00</td>\n",
       "    </tr>\n",
       "    <tr>\n",
       "      <th>2018-11-01</th>\n",
       "      <td>65.31</td>\n",
       "      <td>26.29</td>\n",
       "      <td>3.06</td>\n",
       "      <td>2.09</td>\n",
       "      <td>1.16</td>\n",
       "      <td>1.10</td>\n",
       "      <td>0.55</td>\n",
       "      <td>0.26</td>\n",
       "      <td>0.00</td>\n",
       "      <td>0.02</td>\n",
       "      <td>0.02</td>\n",
       "      <td>0.02</td>\n",
       "      <td>0.02</td>\n",
       "      <td>0.02</td>\n",
       "      <td>0.02</td>\n",
       "      <td>0.01</td>\n",
       "      <td>0.01</td>\n",
       "      <td>0.00</td>\n",
       "      <td>0.02</td>\n",
       "      <td>0.01</td>\n",
       "      <td>0.00</td>\n",
       "    </tr>\n",
       "    <tr>\n",
       "      <th>2018-12-01</th>\n",
       "      <td>68.34</td>\n",
       "      <td>22.31</td>\n",
       "      <td>2.99</td>\n",
       "      <td>2.02</td>\n",
       "      <td>1.11</td>\n",
       "      <td>2.04</td>\n",
       "      <td>0.63</td>\n",
       "      <td>0.25</td>\n",
       "      <td>0.00</td>\n",
       "      <td>0.03</td>\n",
       "      <td>0.07</td>\n",
       "      <td>0.04</td>\n",
       "      <td>0.01</td>\n",
       "      <td>0.02</td>\n",
       "      <td>0.02</td>\n",
       "      <td>0.03</td>\n",
       "      <td>0.01</td>\n",
       "      <td>0.04</td>\n",
       "      <td>0.02</td>\n",
       "      <td>0.00</td>\n",
       "      <td>0.00</td>\n",
       "    </tr>\n",
       "    <tr>\n",
       "      <th>2019-01-01</th>\n",
       "      <td>70.46</td>\n",
       "      <td>21.05</td>\n",
       "      <td>2.99</td>\n",
       "      <td>2.07</td>\n",
       "      <td>1.14</td>\n",
       "      <td>1.15</td>\n",
       "      <td>0.67</td>\n",
       "      <td>0.24</td>\n",
       "      <td>0.00</td>\n",
       "      <td>0.02</td>\n",
       "      <td>0.01</td>\n",
       "      <td>0.02</td>\n",
       "      <td>0.02</td>\n",
       "      <td>0.04</td>\n",
       "      <td>0.03</td>\n",
       "      <td>0.01</td>\n",
       "      <td>0.00</td>\n",
       "      <td>0.03</td>\n",
       "      <td>0.01</td>\n",
       "      <td>0.00</td>\n",
       "      <td>0.00</td>\n",
       "    </tr>\n",
       "    <tr>\n",
       "      <th>2019-02-01</th>\n",
       "      <td>70.63</td>\n",
       "      <td>20.71</td>\n",
       "      <td>2.68</td>\n",
       "      <td>2.53</td>\n",
       "      <td>1.22</td>\n",
       "      <td>1.21</td>\n",
       "      <td>0.62</td>\n",
       "      <td>0.22</td>\n",
       "      <td>0.00</td>\n",
       "      <td>0.02</td>\n",
       "      <td>0.01</td>\n",
       "      <td>0.02</td>\n",
       "      <td>0.02</td>\n",
       "      <td>0.02</td>\n",
       "      <td>0.02</td>\n",
       "      <td>0.00</td>\n",
       "      <td>0.00</td>\n",
       "      <td>0.03</td>\n",
       "      <td>0.01</td>\n",
       "      <td>0.00</td>\n",
       "      <td>0.01</td>\n",
       "    </tr>\n",
       "    <tr>\n",
       "      <th>2019-03-01</th>\n",
       "      <td>63.35</td>\n",
       "      <td>25.42</td>\n",
       "      <td>3.81</td>\n",
       "      <td>3.16</td>\n",
       "      <td>1.65</td>\n",
       "      <td>1.49</td>\n",
       "      <td>0.63</td>\n",
       "      <td>0.25</td>\n",
       "      <td>0.00</td>\n",
       "      <td>0.02</td>\n",
       "      <td>0.02</td>\n",
       "      <td>0.05</td>\n",
       "      <td>0.01</td>\n",
       "      <td>0.02</td>\n",
       "      <td>0.03</td>\n",
       "      <td>0.02</td>\n",
       "      <td>0.00</td>\n",
       "      <td>0.01</td>\n",
       "      <td>0.03</td>\n",
       "      <td>0.00</td>\n",
       "      <td>0.02</td>\n",
       "    </tr>\n",
       "    <tr>\n",
       "      <th>2019-04-01</th>\n",
       "      <td>63.63</td>\n",
       "      <td>24.65</td>\n",
       "      <td>4.08</td>\n",
       "      <td>3.11</td>\n",
       "      <td>1.64</td>\n",
       "      <td>1.61</td>\n",
       "      <td>0.55</td>\n",
       "      <td>0.22</td>\n",
       "      <td>0.00</td>\n",
       "      <td>0.02</td>\n",
       "      <td>0.01</td>\n",
       "      <td>0.05</td>\n",
       "      <td>0.01</td>\n",
       "      <td>0.01</td>\n",
       "      <td>0.03</td>\n",
       "      <td>0.01</td>\n",
       "      <td>0.00</td>\n",
       "      <td>0.01</td>\n",
       "      <td>0.03</td>\n",
       "      <td>0.00</td>\n",
       "      <td>0.32</td>\n",
       "    </tr>\n",
       "    <tr>\n",
       "      <th>2019-05-01</th>\n",
       "      <td>63.42</td>\n",
       "      <td>24.03</td>\n",
       "      <td>4.51</td>\n",
       "      <td>2.75</td>\n",
       "      <td>1.60</td>\n",
       "      <td>1.90</td>\n",
       "      <td>0.59</td>\n",
       "      <td>0.21</td>\n",
       "      <td>0.00</td>\n",
       "      <td>0.02</td>\n",
       "      <td>0.00</td>\n",
       "      <td>0.04</td>\n",
       "      <td>0.01</td>\n",
       "      <td>0.02</td>\n",
       "      <td>0.03</td>\n",
       "      <td>0.01</td>\n",
       "      <td>0.00</td>\n",
       "      <td>0.02</td>\n",
       "      <td>0.03</td>\n",
       "      <td>0.00</td>\n",
       "      <td>0.77</td>\n",
       "    </tr>\n",
       "    <tr>\n",
       "      <th>2019-06-01</th>\n",
       "      <td>65.71</td>\n",
       "      <td>21.46</td>\n",
       "      <td>4.11</td>\n",
       "      <td>2.77</td>\n",
       "      <td>1.67</td>\n",
       "      <td>2.03</td>\n",
       "      <td>0.56</td>\n",
       "      <td>0.20</td>\n",
       "      <td>0.00</td>\n",
       "      <td>0.01</td>\n",
       "      <td>0.01</td>\n",
       "      <td>0.04</td>\n",
       "      <td>0.02</td>\n",
       "      <td>0.02</td>\n",
       "      <td>0.03</td>\n",
       "      <td>0.01</td>\n",
       "      <td>0.00</td>\n",
       "      <td>0.02</td>\n",
       "      <td>0.03</td>\n",
       "      <td>0.00</td>\n",
       "      <td>1.28</td>\n",
       "    </tr>\n",
       "    <tr>\n",
       "      <th>2019-07-01</th>\n",
       "      <td>67.93</td>\n",
       "      <td>19.04</td>\n",
       "      <td>4.04</td>\n",
       "      <td>2.71</td>\n",
       "      <td>1.86</td>\n",
       "      <td>1.74</td>\n",
       "      <td>0.68</td>\n",
       "      <td>0.19</td>\n",
       "      <td>0.00</td>\n",
       "      <td>0.02</td>\n",
       "      <td>0.01</td>\n",
       "      <td>0.05</td>\n",
       "      <td>0.02</td>\n",
       "      <td>0.02</td>\n",
       "      <td>0.03</td>\n",
       "      <td>0.02</td>\n",
       "      <td>0.00</td>\n",
       "      <td>0.02</td>\n",
       "      <td>0.03</td>\n",
       "      <td>0.00</td>\n",
       "      <td>1.56</td>\n",
       "    </tr>\n",
       "  </tbody>\n",
       "</table>\n",
       "</div>"
      ],
      "text/plain": [
       "            Chrome     IE  Edge  Safari  Whale Browser  Firefox  Opera  Swing  \\\n",
       "date                                                                            \n",
       "2018-08-01   59.12  31.06  2.97    2.52           1.36     1.26   0.88   0.39   \n",
       "2018-09-01   61.95  27.84  3.16    2.19           1.27     2.57   0.40   0.37   \n",
       "2018-10-01   62.05  28.36  3.35    2.43           1.28     1.36   0.59   0.35   \n",
       "2018-11-01   65.31  26.29  3.06    2.09           1.16     1.10   0.55   0.26   \n",
       "2018-12-01   68.34  22.31  2.99    2.02           1.11     2.04   0.63   0.25   \n",
       "2019-01-01   70.46  21.05  2.99    2.07           1.14     1.15   0.67   0.24   \n",
       "2019-02-01   70.63  20.71  2.68    2.53           1.22     1.21   0.62   0.22   \n",
       "2019-03-01   63.35  25.42  3.81    3.16           1.65     1.49   0.63   0.25   \n",
       "2019-04-01   63.63  24.65  4.08    3.11           1.64     1.61   0.55   0.22   \n",
       "2019-05-01   63.42  24.03  4.51    2.75           1.60     1.90   0.59   0.21   \n",
       "2019-06-01   65.71  21.46  4.11    2.77           1.67     2.03   0.56   0.20   \n",
       "2019-07-01   67.93  19.04  4.04    2.71           1.86     1.74   0.68   0.19   \n",
       "\n",
       "            Phantom  UC Browser  Chromium  QQ Browser  Vivaldi  \\\n",
       "date                                                             \n",
       "2018-08-01     0.25        0.03      0.03        0.02     0.02   \n",
       "2018-09-01     0.00        0.03      0.02        0.03     0.02   \n",
       "2018-10-01     0.00        0.03      0.03        0.02     0.02   \n",
       "2018-11-01     0.00        0.02      0.02        0.02     0.02   \n",
       "2018-12-01     0.00        0.03      0.07        0.04     0.01   \n",
       "2019-01-01     0.00        0.02      0.01        0.02     0.02   \n",
       "2019-02-01     0.00        0.02      0.01        0.02     0.02   \n",
       "2019-03-01     0.00        0.02      0.02        0.05     0.01   \n",
       "2019-04-01     0.00        0.02      0.01        0.05     0.01   \n",
       "2019-05-01     0.00        0.02      0.00        0.04     0.01   \n",
       "2019-06-01     0.00        0.01      0.01        0.04     0.02   \n",
       "2019-07-01     0.00        0.02      0.01        0.05     0.02   \n",
       "\n",
       "            360 Safe Browser  Maxthon  Coc Coc  Puffin  Yandex Browser  \\\n",
       "date                                                                     \n",
       "2018-08-01              0.02     0.02     0.00    0.00            0.01   \n",
       "2018-09-01              0.06     0.02     0.00    0.00            0.02   \n",
       "2018-10-01              0.02     0.02     0.01    0.00            0.01   \n",
       "2018-11-01              0.02     0.02     0.01    0.01            0.00   \n",
       "2018-12-01              0.02     0.02     0.03    0.01            0.04   \n",
       "2019-01-01              0.04     0.03     0.01    0.00            0.03   \n",
       "2019-02-01              0.02     0.02     0.00    0.00            0.03   \n",
       "2019-03-01              0.02     0.03     0.02    0.00            0.01   \n",
       "2019-04-01              0.01     0.03     0.01    0.00            0.01   \n",
       "2019-05-01              0.02     0.03     0.01    0.00            0.02   \n",
       "2019-06-01              0.02     0.03     0.01    0.00            0.02   \n",
       "2019-07-01              0.02     0.03     0.02    0.00            0.02   \n",
       "\n",
       "            Sogou Explorer  Mozilla  Whale  \n",
       "date                                        \n",
       "2018-08-01            0.01     0.00   0.00  \n",
       "2018-09-01            0.03     0.00   0.00  \n",
       "2018-10-01            0.03     0.01   0.00  \n",
       "2018-11-01            0.02     0.01   0.00  \n",
       "2018-12-01            0.02     0.00   0.00  \n",
       "2019-01-01            0.01     0.00   0.00  \n",
       "2019-02-01            0.01     0.00   0.01  \n",
       "2019-03-01            0.03     0.00   0.02  \n",
       "2019-04-01            0.03     0.00   0.32  \n",
       "2019-05-01            0.03     0.00   0.77  \n",
       "2019-06-01            0.03     0.00   1.28  \n",
       "2019-07-01            0.03     0.00   1.56  "
      ]
     },
     "execution_count": 98,
     "metadata": {},
     "output_type": "execute_result"
    }
   ],
   "source": [
    "# date 컬럼을 datetime 타입으로 읽어 오기.\n",
    "df2 = pd.read_excel(\n",
    "    \"data/webbrowser_share.xls\", \n",
    "    parse_dates=['date'], # 날짜 타입 컬럼 지정\n",
    "    date_format='%Y.%m',  # 컬럼 값의 형식 지정.\n",
    "    index_col=\"date\"\n",
    ")\n",
    "df2"
   ]
  },
  {
   "cell_type": "code",
   "execution_count": 99,
   "metadata": {},
   "outputs": [
    {
     "data": {
      "application/vnd.microsoft.datawrangler.viewer.v0+json": {
       "columns": [
        {
         "name": "date",
         "rawType": "object",
         "type": "string"
        },
        {
         "name": "Chrome",
         "rawType": "float64",
         "type": "float"
        },
        {
         "name": "IE",
         "rawType": "float64",
         "type": "float"
        },
        {
         "name": "Edge",
         "rawType": "float64",
         "type": "float"
        },
        {
         "name": "Safari",
         "rawType": "float64",
         "type": "float"
        },
        {
         "name": "Whale Browser",
         "rawType": "float64",
         "type": "float"
        },
        {
         "name": "Firefox",
         "rawType": "float64",
         "type": "float"
        }
       ],
       "conversionMethod": "pd.DataFrame",
       "ref": "66ddeca8-af99-4791-b8fe-f37dcbaf9092",
       "rows": [
        [
         "2018.08",
         "59.12",
         "31.06",
         "2.97",
         "2.52",
         "1.36",
         "1.26"
        ],
        [
         "2018.09",
         "61.95",
         "27.84",
         "3.16",
         "2.19",
         "1.27",
         "2.57"
        ],
        [
         "2018.10",
         "62.05",
         "28.36",
         "3.35",
         "2.43",
         "1.28",
         "1.36"
        ],
        [
         "2018.11",
         "65.31",
         "26.29",
         "3.06",
         "2.09",
         "1.16",
         "1.1"
        ],
        [
         "2018.12",
         "68.34",
         "22.31",
         "2.99",
         "2.02",
         "1.11",
         "2.04"
        ],
        [
         "2019.01",
         "70.46",
         "21.05",
         "2.99",
         "2.07",
         "1.14",
         "1.15"
        ],
        [
         "2019.02",
         "70.63",
         "20.71",
         "2.68",
         "2.53",
         "1.22",
         "1.21"
        ],
        [
         "2019.03",
         "63.35",
         "25.42",
         "3.81",
         "3.16",
         "1.65",
         "1.49"
        ],
        [
         "2019.04",
         "63.63",
         "24.65",
         "4.08",
         "3.11",
         "1.64",
         "1.61"
        ],
        [
         "2019.05",
         "63.42",
         "24.03",
         "4.51",
         "2.75",
         "1.6",
         "1.9"
        ],
        [
         "2019.06",
         "65.71",
         "21.46",
         "4.11",
         "2.77",
         "1.67",
         "2.03"
        ],
        [
         "2019.07",
         "67.93",
         "19.04",
         "4.04",
         "2.71",
         "1.86",
         "1.74"
        ]
       ],
       "shape": {
        "columns": 6,
        "rows": 12
       }
      },
      "text/html": [
       "<div>\n",
       "<style scoped>\n",
       "    .dataframe tbody tr th:only-of-type {\n",
       "        vertical-align: middle;\n",
       "    }\n",
       "\n",
       "    .dataframe tbody tr th {\n",
       "        vertical-align: top;\n",
       "    }\n",
       "\n",
       "    .dataframe thead th {\n",
       "        text-align: right;\n",
       "    }\n",
       "</style>\n",
       "<table border=\"1\" class=\"dataframe\">\n",
       "  <thead>\n",
       "    <tr style=\"text-align: right;\">\n",
       "      <th></th>\n",
       "      <th>Chrome</th>\n",
       "      <th>IE</th>\n",
       "      <th>Edge</th>\n",
       "      <th>Safari</th>\n",
       "      <th>Whale Browser</th>\n",
       "      <th>Firefox</th>\n",
       "    </tr>\n",
       "    <tr>\n",
       "      <th>date</th>\n",
       "      <th></th>\n",
       "      <th></th>\n",
       "      <th></th>\n",
       "      <th></th>\n",
       "      <th></th>\n",
       "      <th></th>\n",
       "    </tr>\n",
       "  </thead>\n",
       "  <tbody>\n",
       "    <tr>\n",
       "      <th>2018.08</th>\n",
       "      <td>59.12</td>\n",
       "      <td>31.06</td>\n",
       "      <td>2.97</td>\n",
       "      <td>2.52</td>\n",
       "      <td>1.36</td>\n",
       "      <td>1.26</td>\n",
       "    </tr>\n",
       "    <tr>\n",
       "      <th>2018.09</th>\n",
       "      <td>61.95</td>\n",
       "      <td>27.84</td>\n",
       "      <td>3.16</td>\n",
       "      <td>2.19</td>\n",
       "      <td>1.27</td>\n",
       "      <td>2.57</td>\n",
       "    </tr>\n",
       "    <tr>\n",
       "      <th>2018.10</th>\n",
       "      <td>62.05</td>\n",
       "      <td>28.36</td>\n",
       "      <td>3.35</td>\n",
       "      <td>2.43</td>\n",
       "      <td>1.28</td>\n",
       "      <td>1.36</td>\n",
       "    </tr>\n",
       "    <tr>\n",
       "      <th>2018.11</th>\n",
       "      <td>65.31</td>\n",
       "      <td>26.29</td>\n",
       "      <td>3.06</td>\n",
       "      <td>2.09</td>\n",
       "      <td>1.16</td>\n",
       "      <td>1.10</td>\n",
       "    </tr>\n",
       "    <tr>\n",
       "      <th>2018.12</th>\n",
       "      <td>68.34</td>\n",
       "      <td>22.31</td>\n",
       "      <td>2.99</td>\n",
       "      <td>2.02</td>\n",
       "      <td>1.11</td>\n",
       "      <td>2.04</td>\n",
       "    </tr>\n",
       "    <tr>\n",
       "      <th>2019.01</th>\n",
       "      <td>70.46</td>\n",
       "      <td>21.05</td>\n",
       "      <td>2.99</td>\n",
       "      <td>2.07</td>\n",
       "      <td>1.14</td>\n",
       "      <td>1.15</td>\n",
       "    </tr>\n",
       "    <tr>\n",
       "      <th>2019.02</th>\n",
       "      <td>70.63</td>\n",
       "      <td>20.71</td>\n",
       "      <td>2.68</td>\n",
       "      <td>2.53</td>\n",
       "      <td>1.22</td>\n",
       "      <td>1.21</td>\n",
       "    </tr>\n",
       "    <tr>\n",
       "      <th>2019.03</th>\n",
       "      <td>63.35</td>\n",
       "      <td>25.42</td>\n",
       "      <td>3.81</td>\n",
       "      <td>3.16</td>\n",
       "      <td>1.65</td>\n",
       "      <td>1.49</td>\n",
       "    </tr>\n",
       "    <tr>\n",
       "      <th>2019.04</th>\n",
       "      <td>63.63</td>\n",
       "      <td>24.65</td>\n",
       "      <td>4.08</td>\n",
       "      <td>3.11</td>\n",
       "      <td>1.64</td>\n",
       "      <td>1.61</td>\n",
       "    </tr>\n",
       "    <tr>\n",
       "      <th>2019.05</th>\n",
       "      <td>63.42</td>\n",
       "      <td>24.03</td>\n",
       "      <td>4.51</td>\n",
       "      <td>2.75</td>\n",
       "      <td>1.60</td>\n",
       "      <td>1.90</td>\n",
       "    </tr>\n",
       "    <tr>\n",
       "      <th>2019.06</th>\n",
       "      <td>65.71</td>\n",
       "      <td>21.46</td>\n",
       "      <td>4.11</td>\n",
       "      <td>2.77</td>\n",
       "      <td>1.67</td>\n",
       "      <td>2.03</td>\n",
       "    </tr>\n",
       "    <tr>\n",
       "      <th>2019.07</th>\n",
       "      <td>67.93</td>\n",
       "      <td>19.04</td>\n",
       "      <td>4.04</td>\n",
       "      <td>2.71</td>\n",
       "      <td>1.86</td>\n",
       "      <td>1.74</td>\n",
       "    </tr>\n",
       "  </tbody>\n",
       "</table>\n",
       "</div>"
      ],
      "text/plain": [
       "         Chrome     IE  Edge  Safari  Whale Browser  Firefox\n",
       "date                                                        \n",
       "2018.08   59.12  31.06  2.97    2.52           1.36     1.26\n",
       "2018.09   61.95  27.84  3.16    2.19           1.27     2.57\n",
       "2018.10   62.05  28.36  3.35    2.43           1.28     1.36\n",
       "2018.11   65.31  26.29  3.06    2.09           1.16     1.10\n",
       "2018.12   68.34  22.31  2.99    2.02           1.11     2.04\n",
       "2019.01   70.46  21.05  2.99    2.07           1.14     1.15\n",
       "2019.02   70.63  20.71  2.68    2.53           1.22     1.21\n",
       "2019.03   63.35  25.42  3.81    3.16           1.65     1.49\n",
       "2019.04   63.63  24.65  4.08    3.11           1.64     1.61\n",
       "2019.05   63.42  24.03  4.51    2.75           1.60     1.90\n",
       "2019.06   65.71  21.46  4.11    2.77           1.67     2.03\n",
       "2019.07   67.93  19.04  4.04    2.71           1.86     1.74"
      ]
     },
     "execution_count": 99,
     "metadata": {},
     "output_type": "execute_result"
    }
   ],
   "source": [
    "# Chrome ~ Firefox, 나머지 (기타)\n",
    "web_df = df[df.columns[:6]].copy()\n",
    "web_df"
   ]
  },
  {
   "cell_type": "code",
   "execution_count": 100,
   "metadata": {},
   "outputs": [
    {
     "data": {
      "application/vnd.microsoft.datawrangler.viewer.v0+json": {
       "columns": [
        {
         "name": "date",
         "rawType": "object",
         "type": "string"
        },
        {
         "name": "Chrome",
         "rawType": "float64",
         "type": "float"
        },
        {
         "name": "IE",
         "rawType": "float64",
         "type": "float"
        },
        {
         "name": "Edge",
         "rawType": "float64",
         "type": "float"
        },
        {
         "name": "Safari",
         "rawType": "float64",
         "type": "float"
        },
        {
         "name": "Whale Browser",
         "rawType": "float64",
         "type": "float"
        },
        {
         "name": "Firefox",
         "rawType": "float64",
         "type": "float"
        },
        {
         "name": "기타",
         "rawType": "float64",
         "type": "float"
        }
       ],
       "conversionMethod": "pd.DataFrame",
       "ref": "99a04e32-a95b-448d-9db1-df87c7483553",
       "rows": [
        [
         "2018.08",
         "59.12",
         "31.06",
         "2.97",
         "2.52",
         "1.36",
         "1.26",
         "1.6800000000000002"
        ],
        [
         "2018.09",
         "61.95",
         "27.84",
         "3.16",
         "2.19",
         "1.27",
         "2.57",
         "1.0000000000000002"
        ],
        [
         "2018.10",
         "62.05",
         "28.36",
         "3.35",
         "2.43",
         "1.28",
         "1.36",
         "1.1400000000000001"
        ],
        [
         "2018.11",
         "65.31",
         "26.29",
         "3.06",
         "2.09",
         "1.16",
         "1.1",
         "0.9800000000000002"
        ],
        [
         "2018.12",
         "68.34",
         "22.31",
         "2.99",
         "2.02",
         "1.11",
         "2.04",
         "1.1700000000000002"
        ],
        [
         "2019.01",
         "70.46",
         "21.05",
         "2.99",
         "2.07",
         "1.14",
         "1.15",
         "1.1"
        ],
        [
         "2019.02",
         "70.63",
         "20.71",
         "2.68",
         "2.53",
         "1.22",
         "1.21",
         "1.0"
        ],
        [
         "2019.03",
         "63.35",
         "25.42",
         "3.81",
         "3.16",
         "1.65",
         "1.49",
         "1.11"
        ],
        [
         "2019.04",
         "63.63",
         "24.65",
         "4.08",
         "3.11",
         "1.64",
         "1.61",
         "1.2700000000000002"
        ],
        [
         "2019.05",
         "63.42",
         "24.03",
         "4.51",
         "2.75",
         "1.6",
         "1.9",
         "1.75"
        ],
        [
         "2019.06",
         "65.71",
         "21.46",
         "4.11",
         "2.77",
         "1.67",
         "2.03",
         "2.2300000000000004"
        ],
        [
         "2019.07",
         "67.93",
         "19.04",
         "4.04",
         "2.71",
         "1.86",
         "1.74",
         "2.6500000000000004"
        ]
       ],
       "shape": {
        "columns": 7,
        "rows": 12
       }
      },
      "text/html": [
       "<div>\n",
       "<style scoped>\n",
       "    .dataframe tbody tr th:only-of-type {\n",
       "        vertical-align: middle;\n",
       "    }\n",
       "\n",
       "    .dataframe tbody tr th {\n",
       "        vertical-align: top;\n",
       "    }\n",
       "\n",
       "    .dataframe thead th {\n",
       "        text-align: right;\n",
       "    }\n",
       "</style>\n",
       "<table border=\"1\" class=\"dataframe\">\n",
       "  <thead>\n",
       "    <tr style=\"text-align: right;\">\n",
       "      <th></th>\n",
       "      <th>Chrome</th>\n",
       "      <th>IE</th>\n",
       "      <th>Edge</th>\n",
       "      <th>Safari</th>\n",
       "      <th>Whale Browser</th>\n",
       "      <th>Firefox</th>\n",
       "      <th>기타</th>\n",
       "    </tr>\n",
       "    <tr>\n",
       "      <th>date</th>\n",
       "      <th></th>\n",
       "      <th></th>\n",
       "      <th></th>\n",
       "      <th></th>\n",
       "      <th></th>\n",
       "      <th></th>\n",
       "      <th></th>\n",
       "    </tr>\n",
       "  </thead>\n",
       "  <tbody>\n",
       "    <tr>\n",
       "      <th>2018.08</th>\n",
       "      <td>59.12</td>\n",
       "      <td>31.06</td>\n",
       "      <td>2.97</td>\n",
       "      <td>2.52</td>\n",
       "      <td>1.36</td>\n",
       "      <td>1.26</td>\n",
       "      <td>1.68</td>\n",
       "    </tr>\n",
       "    <tr>\n",
       "      <th>2018.09</th>\n",
       "      <td>61.95</td>\n",
       "      <td>27.84</td>\n",
       "      <td>3.16</td>\n",
       "      <td>2.19</td>\n",
       "      <td>1.27</td>\n",
       "      <td>2.57</td>\n",
       "      <td>1.00</td>\n",
       "    </tr>\n",
       "    <tr>\n",
       "      <th>2018.10</th>\n",
       "      <td>62.05</td>\n",
       "      <td>28.36</td>\n",
       "      <td>3.35</td>\n",
       "      <td>2.43</td>\n",
       "      <td>1.28</td>\n",
       "      <td>1.36</td>\n",
       "      <td>1.14</td>\n",
       "    </tr>\n",
       "    <tr>\n",
       "      <th>2018.11</th>\n",
       "      <td>65.31</td>\n",
       "      <td>26.29</td>\n",
       "      <td>3.06</td>\n",
       "      <td>2.09</td>\n",
       "      <td>1.16</td>\n",
       "      <td>1.10</td>\n",
       "      <td>0.98</td>\n",
       "    </tr>\n",
       "    <tr>\n",
       "      <th>2018.12</th>\n",
       "      <td>68.34</td>\n",
       "      <td>22.31</td>\n",
       "      <td>2.99</td>\n",
       "      <td>2.02</td>\n",
       "      <td>1.11</td>\n",
       "      <td>2.04</td>\n",
       "      <td>1.17</td>\n",
       "    </tr>\n",
       "    <tr>\n",
       "      <th>2019.01</th>\n",
       "      <td>70.46</td>\n",
       "      <td>21.05</td>\n",
       "      <td>2.99</td>\n",
       "      <td>2.07</td>\n",
       "      <td>1.14</td>\n",
       "      <td>1.15</td>\n",
       "      <td>1.10</td>\n",
       "    </tr>\n",
       "    <tr>\n",
       "      <th>2019.02</th>\n",
       "      <td>70.63</td>\n",
       "      <td>20.71</td>\n",
       "      <td>2.68</td>\n",
       "      <td>2.53</td>\n",
       "      <td>1.22</td>\n",
       "      <td>1.21</td>\n",
       "      <td>1.00</td>\n",
       "    </tr>\n",
       "    <tr>\n",
       "      <th>2019.03</th>\n",
       "      <td>63.35</td>\n",
       "      <td>25.42</td>\n",
       "      <td>3.81</td>\n",
       "      <td>3.16</td>\n",
       "      <td>1.65</td>\n",
       "      <td>1.49</td>\n",
       "      <td>1.11</td>\n",
       "    </tr>\n",
       "    <tr>\n",
       "      <th>2019.04</th>\n",
       "      <td>63.63</td>\n",
       "      <td>24.65</td>\n",
       "      <td>4.08</td>\n",
       "      <td>3.11</td>\n",
       "      <td>1.64</td>\n",
       "      <td>1.61</td>\n",
       "      <td>1.27</td>\n",
       "    </tr>\n",
       "    <tr>\n",
       "      <th>2019.05</th>\n",
       "      <td>63.42</td>\n",
       "      <td>24.03</td>\n",
       "      <td>4.51</td>\n",
       "      <td>2.75</td>\n",
       "      <td>1.60</td>\n",
       "      <td>1.90</td>\n",
       "      <td>1.75</td>\n",
       "    </tr>\n",
       "    <tr>\n",
       "      <th>2019.06</th>\n",
       "      <td>65.71</td>\n",
       "      <td>21.46</td>\n",
       "      <td>4.11</td>\n",
       "      <td>2.77</td>\n",
       "      <td>1.67</td>\n",
       "      <td>2.03</td>\n",
       "      <td>2.23</td>\n",
       "    </tr>\n",
       "    <tr>\n",
       "      <th>2019.07</th>\n",
       "      <td>67.93</td>\n",
       "      <td>19.04</td>\n",
       "      <td>4.04</td>\n",
       "      <td>2.71</td>\n",
       "      <td>1.86</td>\n",
       "      <td>1.74</td>\n",
       "      <td>2.65</td>\n",
       "    </tr>\n",
       "  </tbody>\n",
       "</table>\n",
       "</div>"
      ],
      "text/plain": [
       "         Chrome     IE  Edge  Safari  Whale Browser  Firefox    기타\n",
       "date                                                              \n",
       "2018.08   59.12  31.06  2.97    2.52           1.36     1.26  1.68\n",
       "2018.09   61.95  27.84  3.16    2.19           1.27     2.57  1.00\n",
       "2018.10   62.05  28.36  3.35    2.43           1.28     1.36  1.14\n",
       "2018.11   65.31  26.29  3.06    2.09           1.16     1.10  0.98\n",
       "2018.12   68.34  22.31  2.99    2.02           1.11     2.04  1.17\n",
       "2019.01   70.46  21.05  2.99    2.07           1.14     1.15  1.10\n",
       "2019.02   70.63  20.71  2.68    2.53           1.22     1.21  1.00\n",
       "2019.03   63.35  25.42  3.81    3.16           1.65     1.49  1.11\n",
       "2019.04   63.63  24.65  4.08    3.11           1.64     1.61  1.27\n",
       "2019.05   63.42  24.03  4.51    2.75           1.60     1.90  1.75\n",
       "2019.06   65.71  21.46  4.11    2.77           1.67     2.03  2.23\n",
       "2019.07   67.93  19.04  4.04    2.71           1.86     1.74  2.65"
      ]
     },
     "execution_count": 100,
     "metadata": {},
     "output_type": "execute_result"
    }
   ],
   "source": [
    "# 나머지 컬럼들의 합계 \n",
    "web_df['기타'] = df[df.columns[6:]].sum(axis=1)\n",
    "web_df"
   ]
  },
  {
   "cell_type": "code",
   "execution_count": null,
   "metadata": {
    "scrolled": true
   },
   "outputs": [
    {
     "data": {
      "image/png": "[encoded data removed]",
      "text/plain": [
       "<Figure size 640x480 with 1 Axes>"
      ]
     },
     "metadata": {},
     "output_type": "display_data"
    }
   ],
   "source": [
    "## 2018.08 의 브라우저별 점유율 비교\n",
    "# 수량\n",
    "v = web_df.iloc[0].sort_values() # sorting후 show\n",
    "plt.barh(v.index, v)\n",
    "plt.show()"
   ]
  },
  {
   "cell_type": "code",
   "execution_count": 102,
   "metadata": {},
   "outputs": [
    {
     "data": {
      "image/png": "[encoded data removed]",
      "text/plain": [
       "<Figure size 640x480 with 1 Axes>"
      ]
     },
     "metadata": {},
     "output_type": "display_data"
    }
   ],
   "source": [
    "# 비율\n",
    "plt.pie(web_df.iloc[0], \n",
    "         labels=web_df.columns, \n",
    "         autopct=\"%d%%\", \n",
    "         explode=[0.1, 0, 0, 0, 0, 0, 0], shadow=True)\n",
    "plt.title(\"2018년 1월 브라우져 점유율\")\n",
    "plt.show()"
   ]
  },
  {
   "cell_type": "markdown",
   "metadata": {},
   "source": [
    "# 히스토그램(Histogram) 그리기\n",
    "## 히스토그램\n",
    "\n",
    "- 도수 분포표를 그래프로 나타낸 것.\n",
    "    - 도수분포표: 연속형 자료를 특정 구간(bin)으로 나눠 그 빈도를 나타낸 표\n",
    "        - 빈도 확인이나 **분포**를 볼때 사용한다.\n",
    "    - X축: 계급(변수구간)의 대표값, Y축: 빈도수\n",
    "- `hist(data [, bins=계급개수)` 메소드를 사용\n",
    "    - data: 리스트형의 객체를 전달한다."
   ]
  },
  {
   "cell_type": "code",
   "execution_count": 105,
   "metadata": {},
   "outputs": [
    {
     "data": {
      "application/vnd.microsoft.datawrangler.viewer.v0+json": {
       "columns": [
        {
         "name": "index",
         "rawType": "int64",
         "type": "integer"
        },
        {
         "name": "total_bill",
         "rawType": "float64",
         "type": "float"
        },
        {
         "name": "tip",
         "rawType": "float64",
         "type": "float"
        },
        {
         "name": "sex",
         "rawType": "object",
         "type": "string"
        },
        {
         "name": "smoker",
         "rawType": "object",
         "type": "string"
        },
        {
         "name": "day",
         "rawType": "object",
         "type": "string"
        },
        {
         "name": "time",
         "rawType": "object",
         "type": "string"
        },
        {
         "name": "size",
         "rawType": "int64",
         "type": "integer"
        }
       ],
       "conversionMethod": "pd.DataFrame",
       "ref": "5aaca27b-67de-43a5-814c-557cb1c2253e",
       "rows": [
        [
         "0",
         "16.99",
         "1.01",
         "Female",
         "No",
         "Sun",
         "Dinner",
         "2"
        ],
        [
         "1",
         "10.34",
         "1.66",
         "Male",
         "No",
         "Sun",
         "Dinner",
         "3"
        ],
        [
         "2",
         "21.01",
         "3.5",
         "Male",
         "No",
         "Sun",
         "Dinner",
         "3"
        ],
        [
         "3",
         "23.68",
         "3.31",
         "Male",
         "No",
         "Sun",
         "Dinner",
         "2"
        ],
        [
         "4",
         "24.59",
         "3.61",
         "Female",
         "No",
         "Sun",
         "Dinner",
         "4"
        ],
        [
         "5",
         "25.29",
         "4.71",
         "Male",
         "No",
         "Sun",
         "Dinner",
         "4"
        ],
        [
         "6",
         "8.77",
         "2.0",
         "Male",
         "No",
         "Sun",
         "Dinner",
         "2"
        ],
        [
         "7",
         "26.88",
         "3.12",
         "Male",
         "No",
         "Sun",
         "Dinner",
         "4"
        ],
        [
         "8",
         "15.04",
         "1.96",
         "Male",
         "No",
         "Sun",
         "Dinner",
         "2"
        ],
        [
         "9",
         "14.78",
         "3.23",
         "Male",
         "No",
         "Sun",
         "Dinner",
         "2"
        ],
        [
         "10",
         "10.27",
         "1.71",
         "Male",
         "No",
         "Sun",
         "Dinner",
         "2"
        ],
        [
         "11",
         "35.26",
         "5.0",
         "Female",
         "No",
         "Sun",
         "Dinner",
         "4"
        ],
        [
         "12",
         "15.42",
         "1.57",
         "Male",
         "No",
         "Sun",
         "Dinner",
         "2"
        ],
        [
         "13",
         "18.43",
         "3.0",
         "Male",
         "No",
         "Sun",
         "Dinner",
         "4"
        ],
        [
         "14",
         "14.83",
         "3.02",
         "Female",
         "No",
         "Sun",
         "Dinner",
         "2"
        ],
        [
         "15",
         "21.58",
         "3.92",
         "Male",
         "No",
         "Sun",
         "Dinner",
         "2"
        ],
        [
         "16",
         "10.33",
         "1.67",
         "Female",
         "No",
         "Sun",
         "Dinner",
         "3"
        ],
        [
         "17",
         "16.29",
         "3.71",
         "Male",
         "No",
         "Sun",
         "Dinner",
         "3"
        ],
        [
         "18",
         "16.97",
         "3.5",
         "Female",
         "No",
         "Sun",
         "Dinner",
         "3"
        ],
        [
         "19",
         "20.65",
         "3.35",
         "Male",
         "No",
         "Sat",
         "Dinner",
         "3"
        ],
        [
         "20",
         "17.92",
         "4.08",
         "Male",
         "No",
         "Sat",
         "Dinner",
         "2"
        ],
        [
         "21",
         "20.29",
         "2.75",
         "Female",
         "No",
         "Sat",
         "Dinner",
         "2"
        ],
        [
         "22",
         "15.77",
         "2.23",
         "Female",
         "No",
         "Sat",
         "Dinner",
         "2"
        ],
        [
         "23",
         "39.42",
         "7.58",
         "Male",
         "No",
         "Sat",
         "Dinner",
         "4"
        ],
        [
         "24",
         "19.82",
         "3.18",
         "Male",
         "No",
         "Sat",
         "Dinner",
         "2"
        ],
        [
         "25",
         "17.81",
         "2.34",
         "Male",
         "No",
         "Sat",
         "Dinner",
         "4"
        ],
        [
         "26",
         "13.37",
         "2.0",
         "Male",
         "No",
         "Sat",
         "Dinner",
         "2"
        ],
        [
         "27",
         "12.69",
         "2.0",
         "Male",
         "No",
         "Sat",
         "Dinner",
         "2"
        ],
        [
         "28",
         "21.7",
         "4.3",
         "Male",
         "No",
         "Sat",
         "Dinner",
         "2"
        ],
        [
         "29",
         "19.65",
         "3.0",
         "Female",
         "No",
         "Sat",
         "Dinner",
         "2"
        ],
        [
         "30",
         "9.55",
         "1.45",
         "Male",
         "No",
         "Sat",
         "Dinner",
         "2"
        ],
        [
         "31",
         "18.35",
         "2.5",
         "Male",
         "No",
         "Sat",
         "Dinner",
         "4"
        ],
        [
         "32",
         "15.06",
         "3.0",
         "Female",
         "No",
         "Sat",
         "Dinner",
         "2"
        ],
        [
         "33",
         "20.69",
         "2.45",
         "Female",
         "No",
         "Sat",
         "Dinner",
         "4"
        ],
        [
         "34",
         "17.78",
         "3.27",
         "Male",
         "No",
         "Sat",
         "Dinner",
         "2"
        ],
        [
         "35",
         "24.06",
         "3.6",
         "Male",
         "No",
         "Sat",
         "Dinner",
         "3"
        ],
        [
         "36",
         "16.31",
         "2.0",
         "Male",
         "No",
         "Sat",
         "Dinner",
         "3"
        ],
        [
         "37",
         "16.93",
         "3.07",
         "Female",
         "No",
         "Sat",
         "Dinner",
         "3"
        ],
        [
         "38",
         "18.69",
         "2.31",
         "Male",
         "No",
         "Sat",
         "Dinner",
         "3"
        ],
        [
         "39",
         "31.27",
         "5.0",
         "Male",
         "No",
         "Sat",
         "Dinner",
         "3"
        ],
        [
         "40",
         "16.04",
         "2.24",
         "Male",
         "No",
         "Sat",
         "Dinner",
         "3"
        ],
        [
         "41",
         "17.46",
         "2.54",
         "Male",
         "No",
         "Sun",
         "Dinner",
         "2"
        ],
        [
         "42",
         "13.94",
         "3.06",
         "Male",
         "No",
         "Sun",
         "Dinner",
         "2"
        ],
        [
         "43",
         "9.68",
         "1.32",
         "Male",
         "No",
         "Sun",
         "Dinner",
         "2"
        ],
        [
         "44",
         "30.4",
         "5.6",
         "Male",
         "No",
         "Sun",
         "Dinner",
         "4"
        ],
        [
         "45",
         "18.29",
         "3.0",
         "Male",
         "No",
         "Sun",
         "Dinner",
         "2"
        ],
        [
         "46",
         "22.23",
         "5.0",
         "Male",
         "No",
         "Sun",
         "Dinner",
         "2"
        ],
        [
         "47",
         "32.4",
         "6.0",
         "Male",
         "No",
         "Sun",
         "Dinner",
         "4"
        ],
        [
         "48",
         "28.55",
         "2.05",
         "Male",
         "No",
         "Sun",
         "Dinner",
         "3"
        ],
        [
         "49",
         "18.04",
         "3.0",
         "Male",
         "No",
         "Sun",
         "Dinner",
         "2"
        ]
       ],
       "shape": {
        "columns": 7,
        "rows": 244
       }
      },
      "text/html": [
       "<div>\n",
       "<style scoped>\n",
       "    .dataframe tbody tr th:only-of-type {\n",
       "        vertical-align: middle;\n",
       "    }\n",
       "\n",
       "    .dataframe tbody tr th {\n",
       "        vertical-align: top;\n",
       "    }\n",
       "\n",
       "    .dataframe thead th {\n",
       "        text-align: right;\n",
       "    }\n",
       "</style>\n",
       "<table border=\"1\" class=\"dataframe\">\n",
       "  <thead>\n",
       "    <tr style=\"text-align: right;\">\n",
       "      <th></th>\n",
       "      <th>total_bill</th>\n",
       "      <th>tip</th>\n",
       "      <th>sex</th>\n",
       "      <th>smoker</th>\n",
       "      <th>day</th>\n",
       "      <th>time</th>\n",
       "      <th>size</th>\n",
       "    </tr>\n",
       "  </thead>\n",
       "  <tbody>\n",
       "    <tr>\n",
       "      <th>0</th>\n",
       "      <td>16.99</td>\n",
       "      <td>1.01</td>\n",
       "      <td>Female</td>\n",
       "      <td>No</td>\n",
       "      <td>Sun</td>\n",
       "      <td>Dinner</td>\n",
       "      <td>2</td>\n",
       "    </tr>\n",
       "    <tr>\n",
       "      <th>1</th>\n",
       "      <td>10.34</td>\n",
       "      <td>1.66</td>\n",
       "      <td>Male</td>\n",
       "      <td>No</td>\n",
       "      <td>Sun</td>\n",
       "      <td>Dinner</td>\n",
       "      <td>3</td>\n",
       "    </tr>\n",
       "    <tr>\n",
       "      <th>2</th>\n",
       "      <td>21.01</td>\n",
       "      <td>3.50</td>\n",
       "      <td>Male</td>\n",
       "      <td>No</td>\n",
       "      <td>Sun</td>\n",
       "      <td>Dinner</td>\n",
       "      <td>3</td>\n",
       "    </tr>\n",
       "    <tr>\n",
       "      <th>3</th>\n",
       "      <td>23.68</td>\n",
       "      <td>3.31</td>\n",
       "      <td>Male</td>\n",
       "      <td>No</td>\n",
       "      <td>Sun</td>\n",
       "      <td>Dinner</td>\n",
       "      <td>2</td>\n",
       "    </tr>\n",
       "    <tr>\n",
       "      <th>4</th>\n",
       "      <td>24.59</td>\n",
       "      <td>3.61</td>\n",
       "      <td>Female</td>\n",
       "      <td>No</td>\n",
       "      <td>Sun</td>\n",
       "      <td>Dinner</td>\n",
       "      <td>4</td>\n",
       "    </tr>\n",
       "    <tr>\n",
       "      <th>...</th>\n",
       "      <td>...</td>\n",
       "      <td>...</td>\n",
       "      <td>...</td>\n",
       "      <td>...</td>\n",
       "      <td>...</td>\n",
       "      <td>...</td>\n",
       "      <td>...</td>\n",
       "    </tr>\n",
       "    <tr>\n",
       "      <th>239</th>\n",
       "      <td>29.03</td>\n",
       "      <td>5.92</td>\n",
       "      <td>Male</td>\n",
       "      <td>No</td>\n",
       "      <td>Sat</td>\n",
       "      <td>Dinner</td>\n",
       "      <td>3</td>\n",
       "    </tr>\n",
       "    <tr>\n",
       "      <th>240</th>\n",
       "      <td>27.18</td>\n",
       "      <td>2.00</td>\n",
       "      <td>Female</td>\n",
       "      <td>Yes</td>\n",
       "      <td>Sat</td>\n",
       "      <td>Dinner</td>\n",
       "      <td>2</td>\n",
       "    </tr>\n",
       "    <tr>\n",
       "      <th>241</th>\n",
       "      <td>22.67</td>\n",
       "      <td>2.00</td>\n",
       "      <td>Male</td>\n",
       "      <td>Yes</td>\n",
       "      <td>Sat</td>\n",
       "      <td>Dinner</td>\n",
       "      <td>2</td>\n",
       "    </tr>\n",
       "    <tr>\n",
       "      <th>242</th>\n",
       "      <td>17.82</td>\n",
       "      <td>1.75</td>\n",
       "      <td>Male</td>\n",
       "      <td>No</td>\n",
       "      <td>Sat</td>\n",
       "      <td>Dinner</td>\n",
       "      <td>2</td>\n",
       "    </tr>\n",
       "    <tr>\n",
       "      <th>243</th>\n",
       "      <td>18.78</td>\n",
       "      <td>3.00</td>\n",
       "      <td>Female</td>\n",
       "      <td>No</td>\n",
       "      <td>Thur</td>\n",
       "      <td>Dinner</td>\n",
       "      <td>2</td>\n",
       "    </tr>\n",
       "  </tbody>\n",
       "</table>\n",
       "<p>244 rows × 7 columns</p>\n",
       "</div>"
      ],
      "text/plain": [
       "     total_bill   tip     sex smoker   day    time  size\n",
       "0         16.99  1.01  Female     No   Sun  Dinner     2\n",
       "1         10.34  1.66    Male     No   Sun  Dinner     3\n",
       "2         21.01  3.50    Male     No   Sun  Dinner     3\n",
       "3         23.68  3.31    Male     No   Sun  Dinner     2\n",
       "4         24.59  3.61  Female     No   Sun  Dinner     4\n",
       "..          ...   ...     ...    ...   ...     ...   ...\n",
       "239       29.03  5.92    Male     No   Sat  Dinner     3\n",
       "240       27.18  2.00  Female    Yes   Sat  Dinner     2\n",
       "241       22.67  2.00    Male    Yes   Sat  Dinner     2\n",
       "242       17.82  1.75    Male     No   Sat  Dinner     2\n",
       "243       18.78  3.00  Female     No  Thur  Dinner     2\n",
       "\n",
       "[244 rows x 7 columns]"
      ]
     },
     "execution_count": 105,
     "metadata": {},
     "output_type": "execute_result"
    }
   ],
   "source": [
    "tips = pd.read_csv(\"data/tips.csv\")\n",
    "tips"
   ]
  },
  {
   "cell_type": "code",
   "execution_count": 108,
   "metadata": {},
   "outputs": [
    {
     "data": {
      "text/plain": [
       "tip\n",
       "2.00    33\n",
       "3.00    23\n",
       "4.00    12\n",
       "2.50    10\n",
       "5.00    10\n",
       "        ..\n",
       "1.47     1\n",
       "1.17     1\n",
       "4.67     1\n",
       "5.92     1\n",
       "1.75     1\n",
       "Name: count, Length: 123, dtype: int64"
      ]
     },
     "execution_count": 108,
     "metadata": {},
     "output_type": "execute_result"
    }
   ],
   "source": [
    "tips['tip'].value_counts()"
   ]
  },
  {
   "cell_type": "code",
   "execution_count": 109,
   "metadata": {},
   "outputs": [
    {
     "data": {
      "image/png": "[encoded data removed]",
      "text/plain": [
       "<Figure size 640x480 with 1 Axes>"
      ]
     },
     "metadata": {},
     "output_type": "display_data"
    }
   ],
   "source": [
    "plt.hist(tips['tip'], bins=5, edgecolor=\"white\")\n",
    "plt.show()"
   ]
  },
  {
   "cell_type": "code",
   "execution_count": 110,
   "metadata": {},
   "outputs": [
    {
     "data": {
      "text/plain": [
       "tip\n",
       "(0.991, 2.8]    120\n",
       "(2.8, 4.6]       93\n",
       "(4.6, 6.4]       24\n",
       "(6.4, 8.2]        5\n",
       "(8.2, 10.0]       2\n",
       "Name: count, dtype: int64"
      ]
     },
     "execution_count": 110,
     "metadata": {},
     "output_type": "execute_result"
    }
   ],
   "source": [
    "pd.cut(tips['tip'], bins=5).value_counts()"
   ]
  },
  {
   "cell_type": "code",
   "execution_count": 111,
   "metadata": {},
   "outputs": [
    {
     "data": {
      "image/png": "[encoded data removed]",
      "text/plain": [
       "<Figure size 640x480 with 1 Axes>"
      ]
     },
     "metadata": {},
     "output_type": "display_data"
    }
   ],
   "source": [
    "plt.hist(tips['total_bill'], bins=[3, 10, 20, 40, 50, 60], edgecolor=\"w\")\n",
    "plt.show()"
   ]
  },
  {
   "cell_type": "code",
   "execution_count": 112,
   "metadata": {},
   "outputs": [
    {
     "data": {
      "image/png": "[encoded data removed]",
      "text/plain": [
       "<Figure size 640x480 with 1 Axes>"
      ]
     },
     "metadata": {},
     "output_type": "display_data"
    }
   ],
   "source": [
    "# smoker 여부 별 total_bill의 분포.\n",
    "y_total = tips.query(\"smoker=='Yes'\")['total_bill']\n",
    "n_total = tips.query(\"smoker=='No'\")['total_bill']\n",
    "\n",
    "plt.hist(y_total, bins=10, label=\"yes\", alpha=0.5)\n",
    "plt.hist(n_total, bins=10, label='no', alpha=0.5)\n",
    "plt.xlabel(\"total bill\")\n",
    "plt.ylabel(\"수량\")\n",
    "plt.legend()\n",
    "plt.show()"
   ]
  },
  {
   "cell_type": "code",
   "execution_count": null,
   "metadata": {},
   "outputs": [],
   "source": []
  },
  {
   "cell_type": "markdown",
   "metadata": {},
   "source": [
    "# 상자그래프(Boxplot) 그리기\n",
    "## 상자그래프란\n",
    "- 연속형 값들의 사분위수, 극단값들을 이용해 값들의 분포를 시각화한다.\n",
    "- boxplot(x, whis=1.5)\n",
    "    - x: 데이터셋\n",
    "    - whis: 극단치 계산시 사용할 값(기본 1.5)\n",
    "        - IQR을 이용해 극단치 계산하기\n",
    "            - IQR(Inter Quartile Range): $3분위수 - 1분위수$ 로 중간 50%값의 범위\n",
    "            - 극단적으로 작은값: 1분위 - $IQR(3분위수-1분위수) * whis$   보다 작은 값들\n",
    "            - 극단적으로 큰값: 3분위 + $IQR(3분위수-1분위수) * whis$  보다 큰 값들"
   ]
  },
  {
   "cell_type": "code",
   "execution_count": 114,
   "metadata": {
    "scrolled": true
   },
   "outputs": [
    {
     "data": {
      "image/png": "[encoded data removed]",
      "text/plain": [
       "<Figure size 640x480 with 1 Axes>"
      ]
     },
     "metadata": {},
     "output_type": "display_data"
    }
   ],
   "source": [
    "# 팁의 4분위수 +  이상치\n",
    "plt.boxplot(tips['tip'], tick_labels=[\"TIP\"])\n",
    "plt.show()"
   ]
  },
  {
   "cell_type": "code",
   "execution_count": 115,
   "metadata": {},
   "outputs": [
    {
     "data": {
      "image/png": "[encoded data removed]",
      "text/plain": [
       "<Figure size 640x480 with 1 Axes>"
      ]
     },
     "metadata": {},
     "output_type": "display_data"
    }
   ],
   "source": [
    "plt.boxplot(tips['tip'], tick_labels=[\"TIP\"], \n",
    "               whis=3)  # 정상 범위 조절값. default: 1.5\n",
    "plt.show()"
   ]
  },
  {
   "cell_type": "code",
   "execution_count": 117,
   "metadata": {},
   "outputs": [
    {
     "data": {
      "image/png": "[encoded data removed]",
      "text/plain": [
       "<Figure size 640x480 with 1 Axes>"
      ]
     },
     "metadata": {},
     "output_type": "display_data"
    }
   ],
   "source": [
    "# 두개 변수(컬럼)의 분포를 비교\n",
    "## 성별\n",
    "m_tip = tips.query(\"sex == 'Male'\")['tip']\n",
    "f_tip = tips.query(\"sex == 'Female'\")['tip']\n",
    "plt.boxplot([m_tip, f_tip], tick_labels=['남성', '여성'])\n",
    "plt.show()"
   ]
  },
  {
   "cell_type": "code",
   "execution_count": null,
   "metadata": {},
   "outputs": [],
   "source": []
  }
 ],
 "metadata": {
  "kernelspec": {
   "display_name": "ml",
   "language": "python",
   "name": "python3"
  },
  "language_info": {
   "codemirror_mode": {
    "name": "ipython",
    "version": 3
   },
   "file_extension": ".py",
   "mimetype": "text/x-python",
   "name": "python",
   "nbconvert_exporter": "python",
   "pygments_lexer": "ipython3",
   "version": "3.12.10"
  },
  "toc": {
   "base_numbering": 1,
   "nav_menu": {},
   "number_sections": false,
   "sideBar": true,
   "skip_h1_title": false,
   "title_cell": "Table of Contents",
   "title_sidebar": "Contents",
   "toc_cell": false,
   "toc_position": {
    "height": "calc(100% - 180px)",
    "left": "10px",
    "top": "150px",
    "width": "341.333px"
   },
   "toc_section_display": true,
   "toc_window_display": false
  },
  "varInspector": {
   "cols": {
    "lenName": 16,
    "lenType": 16,
    "lenVar": 40
   },
   "kernels_config": {
    "python": {
     "delete_cmd_postfix": "",
     "delete_cmd_prefix": "del ",
     "library": "var_list.py",
     "varRefreshCmd": "print(var_dic_list())"
    },
    "r": {
     "delete_cmd_postfix": ") ",
     "delete_cmd_prefix": "rm(",
     "library": "var_list.r",
     "varRefreshCmd": "cat(var_dic_list()) "
    }
   },
   "types_to_exclude": [
    "module",
    "function",
    "builtin_function_or_method",
    "instance",
    "_Feature"
   ],
   "window_display": false
  }
 },
 "nbformat": 4,
 "nbformat_minor": 4
}
